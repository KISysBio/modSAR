{
 "cells": [
  {
   "cell_type": "markdown",
   "metadata": {},
   "source": [
    "**OBJECTIVE:** Run modSAR algorithm on OSM-S4 qsar dataset"
   ]
  },
  {
   "cell_type": "code",
   "execution_count": 9,
   "metadata": {
    "ExecuteTime": {
     "end_time": "2021-03-14T14:33:21.643416Z",
     "start_time": "2021-03-14T14:33:21.620621Z"
    }
   },
   "outputs": [],
   "source": [
    "import math\n",
    "import scipy\n",
    "import numpy as np\n",
    "import pandas as pd\n",
    "\n",
    "# Import relevant modSAR classes \n",
    "import modSAR\n",
    "from modSAR.network_algorithms import ModSAR\n",
    "from modSAR.dataset import QSARDataset, QSARDatasetIO\n",
    "\n",
    "# plotnine is the python version of ggplot2\n",
    "from plotnine import *\n",
    "\n",
    "import warnings\n",
    "warnings.filterwarnings(\"ignore\")\n",
    "\n",
    "from rdkit import Chem\n",
    "from rdkit.Chem import AllChem, Draw\n",
    "\n",
    "from rdkit import RDLogger\n",
    "\n",
    "import rdkit.Geometry\n",
    "from rdkit.Chem import rdFMCS, PandasTools\n",
    "from rdkit.Chem.Draw import IPythonConsole \n",
    "from rdkit.Chem import PandasTools\n",
    "\n",
    "from sklearn.metrics import mean_absolute_error, r2_score, mean_squared_error\n",
    "from sklearn.model_selection import RandomizedSearchCV\n",
    "\n",
    "# 2.5uM in Log units\n",
    "CUTOFF_ACTIVITY = - np.log10(2.5e-06)\n",
    "\n",
    "s4_template = Chem.MolFromSmarts('[#6]1:[#7]:[#6]:[#6]:[#7]2:[#6]:1:[#7]:[#7]:[#6]:2')\n",
    "AllChem.Compute2DCoords(s4_template)\n",
    "\n",
    "RDLogger.DisableLog('rdApp.info')\n",
    "\n",
    "from rdkit.Chem import PandasTools\n",
    "\n",
    "%matplotlib inline"
   ]
  },
  {
   "cell_type": "markdown",
   "metadata": {},
   "source": [
    "# Context"
   ]
  },
  {
   "cell_type": "markdown",
   "metadata": {},
   "source": [
    "**Author: Jonathan Cardoso-Silva (Github: @jonjoncardoso | Twitter: @jonjon_cardoso)**\n",
    "\n",
    "In 2019, I participated in the [OSM-S4 predictive model competition](https://github.com/OpenSourceMalaria/Series4_PredictiveModel/issues/1) with a variation of [modSAR](https://doi.org/10.1007/s10822-019-00228-6), an algorithm I developed during my PhD at King's College London. Back then, I used [CDK 2.x](https://cdk.github.io/) library to compute ~200 molecular descriptors for every molecule in the dataset and produced a prediction model that did not perform too well - only 12 of 33 predictions in the hidden external data set were considered \"correct\". \n",
    "\n",
    "**_In this notebook, I revisit this modelling problem with the same algorithm but this time I am using molecular fingerprints (namely Morgan Fingerprints from RDKit) not just as a means to compute molecular similarity but also as features to the regression model._**"
   ]
  },
  {
   "cell_type": "markdown",
   "metadata": {},
   "source": [
    "# Load Data"
   ]
  },
  {
   "cell_type": "markdown",
   "metadata": {},
   "source": [
    "The dataset I am using here is made of Open Source Malaria Series4 (OSM-S4) molecules compiled by [@edwintse](https://github.com/OpenSourceMalaria/Series4_PredictiveModel/issues/1) and preprocessed by [@wvanhoorn](https://github.com/OpenSourceMalaria/Series4_PredictiveModel/issues/1#issuecomment-522630124).\n",
    "\n",
    "This time, I am using Morgan fingerprints in two variantes, radius=2 and radius=4, as features to the regression model of modSAR which were generated in the `OSM-S4 - Notebook 01 - Preprocessing.ipynb`."
   ]
  },
  {
   "cell_type": "markdown",
   "metadata": {},
   "source": [
    "**Radius=2**"
   ]
  },
  {
   "cell_type": "code",
   "execution_count": 10,
   "metadata": {
    "ExecuteTime": {
     "end_time": "2021-03-14T14:33:44.644579Z",
     "start_time": "2021-03-14T14:33:24.294376Z"
    }
   },
   "outputs": [
    {
     "data": {
      "text/plain": [
       "QSARDataset OSM4 \n",
       " -- Samples : 347\n",
       " -- Features:  1024"
      ]
     },
     "execution_count": 10,
     "metadata": {},
     "output_type": "execute_result"
    }
   ],
   "source": [
    "dataset_morgan2 = \\\n",
    "    QSARDatasetIO.load(dataset_name='OSM4',\n",
    "                   activity_sheetname='activity',\n",
    "                   smiles_column='Canonical_Smiles',\n",
    "                   id_column='OSM_ID',\n",
    "                   filepath='../data/osm_qsar_dataset_morgan2.xlsx',\n",
    "                   calculate_similarity=False)\n",
    "    \n",
    "\n",
    "    \n",
    "dataset_morgan2"
   ]
  },
  {
   "cell_type": "markdown",
   "metadata": {},
   "source": [
    "Most importantly, these objects have a `X` and `y` dataframes representing the fingerprints and activity, respectively."
   ]
  },
  {
   "cell_type": "code",
   "execution_count": 17,
   "metadata": {
    "ExecuteTime": {
     "end_time": "2021-01-16T19:37:55.349650Z",
     "start_time": "2021-01-16T19:37:55.222770Z"
    }
   },
   "outputs": [
    {
     "data": {
      "text/html": [
       "<div>\n",
       "<style scoped>\n",
       "    .dataframe tbody tr th:only-of-type {\n",
       "        vertical-align: middle;\n",
       "    }\n",
       "\n",
       "    .dataframe tbody tr th {\n",
       "        vertical-align: top;\n",
       "    }\n",
       "\n",
       "    .dataframe thead th {\n",
       "        text-align: right;\n",
       "    }\n",
       "</style>\n",
       "<table border=\"1\" class=\"dataframe\">\n",
       "  <thead>\n",
       "    <tr style=\"text-align: right;\">\n",
       "      <th></th>\n",
       "      <th>Bit_0000</th>\n",
       "      <th>Bit_0001</th>\n",
       "      <th>Bit_0002</th>\n",
       "      <th>Bit_0003</th>\n",
       "      <th>Bit_0004</th>\n",
       "      <th>Bit_0005</th>\n",
       "      <th>Bit_0006</th>\n",
       "      <th>Bit_0007</th>\n",
       "      <th>Bit_0008</th>\n",
       "      <th>Bit_0009</th>\n",
       "      <th>Bit_0010</th>\n",
       "      <th>Bit_0011</th>\n",
       "      <th>Bit_0012</th>\n",
       "      <th>Bit_0013</th>\n",
       "      <th>Bit_0014</th>\n",
       "      <th>Bit_0015</th>\n",
       "      <th>Bit_0016</th>\n",
       "      <th>Bit_0017</th>\n",
       "      <th>Bit_0018</th>\n",
       "      <th>Bit_0019</th>\n",
       "      <th>Bit_0020</th>\n",
       "      <th>Bit_0021</th>\n",
       "      <th>Bit_0022</th>\n",
       "      <th>Bit_0023</th>\n",
       "      <th>Bit_0024</th>\n",
       "      <th>Bit_0025</th>\n",
       "      <th>Bit_0026</th>\n",
       "      <th>Bit_0027</th>\n",
       "      <th>Bit_0028</th>\n",
       "      <th>Bit_0029</th>\n",
       "      <th>Bit_0030</th>\n",
       "      <th>Bit_0031</th>\n",
       "      <th>Bit_0032</th>\n",
       "      <th>Bit_0033</th>\n",
       "      <th>Bit_0034</th>\n",
       "      <th>Bit_0035</th>\n",
       "      <th>Bit_0036</th>\n",
       "      <th>Bit_0037</th>\n",
       "      <th>Bit_0038</th>\n",
       "      <th>Bit_0039</th>\n",
       "      <th>...</th>\n",
       "      <th>Bit_0984</th>\n",
       "      <th>Bit_0985</th>\n",
       "      <th>Bit_0986</th>\n",
       "      <th>Bit_0987</th>\n",
       "      <th>Bit_0988</th>\n",
       "      <th>Bit_0989</th>\n",
       "      <th>Bit_0990</th>\n",
       "      <th>Bit_0991</th>\n",
       "      <th>Bit_0992</th>\n",
       "      <th>Bit_0993</th>\n",
       "      <th>Bit_0994</th>\n",
       "      <th>Bit_0995</th>\n",
       "      <th>Bit_0996</th>\n",
       "      <th>Bit_0997</th>\n",
       "      <th>Bit_0998</th>\n",
       "      <th>Bit_0999</th>\n",
       "      <th>Bit_1000</th>\n",
       "      <th>Bit_1001</th>\n",
       "      <th>Bit_1002</th>\n",
       "      <th>Bit_1003</th>\n",
       "      <th>Bit_1004</th>\n",
       "      <th>Bit_1005</th>\n",
       "      <th>Bit_1006</th>\n",
       "      <th>Bit_1007</th>\n",
       "      <th>Bit_1008</th>\n",
       "      <th>Bit_1009</th>\n",
       "      <th>Bit_1010</th>\n",
       "      <th>Bit_1011</th>\n",
       "      <th>Bit_1012</th>\n",
       "      <th>Bit_1013</th>\n",
       "      <th>Bit_1014</th>\n",
       "      <th>Bit_1015</th>\n",
       "      <th>Bit_1016</th>\n",
       "      <th>Bit_1017</th>\n",
       "      <th>Bit_1018</th>\n",
       "      <th>Bit_1019</th>\n",
       "      <th>Bit_1020</th>\n",
       "      <th>Bit_1021</th>\n",
       "      <th>Bit_1022</th>\n",
       "      <th>Bit_1023</th>\n",
       "    </tr>\n",
       "    <tr>\n",
       "      <th>OSM_ID</th>\n",
       "      <th></th>\n",
       "      <th></th>\n",
       "      <th></th>\n",
       "      <th></th>\n",
       "      <th></th>\n",
       "      <th></th>\n",
       "      <th></th>\n",
       "      <th></th>\n",
       "      <th></th>\n",
       "      <th></th>\n",
       "      <th></th>\n",
       "      <th></th>\n",
       "      <th></th>\n",
       "      <th></th>\n",
       "      <th></th>\n",
       "      <th></th>\n",
       "      <th></th>\n",
       "      <th></th>\n",
       "      <th></th>\n",
       "      <th></th>\n",
       "      <th></th>\n",
       "      <th></th>\n",
       "      <th></th>\n",
       "      <th></th>\n",
       "      <th></th>\n",
       "      <th></th>\n",
       "      <th></th>\n",
       "      <th></th>\n",
       "      <th></th>\n",
       "      <th></th>\n",
       "      <th></th>\n",
       "      <th></th>\n",
       "      <th></th>\n",
       "      <th></th>\n",
       "      <th></th>\n",
       "      <th></th>\n",
       "      <th></th>\n",
       "      <th></th>\n",
       "      <th></th>\n",
       "      <th></th>\n",
       "      <th></th>\n",
       "      <th></th>\n",
       "      <th></th>\n",
       "      <th></th>\n",
       "      <th></th>\n",
       "      <th></th>\n",
       "      <th></th>\n",
       "      <th></th>\n",
       "      <th></th>\n",
       "      <th></th>\n",
       "      <th></th>\n",
       "      <th></th>\n",
       "      <th></th>\n",
       "      <th></th>\n",
       "      <th></th>\n",
       "      <th></th>\n",
       "      <th></th>\n",
       "      <th></th>\n",
       "      <th></th>\n",
       "      <th></th>\n",
       "      <th></th>\n",
       "      <th></th>\n",
       "      <th></th>\n",
       "      <th></th>\n",
       "      <th></th>\n",
       "      <th></th>\n",
       "      <th></th>\n",
       "      <th></th>\n",
       "      <th></th>\n",
       "      <th></th>\n",
       "      <th></th>\n",
       "      <th></th>\n",
       "      <th></th>\n",
       "      <th></th>\n",
       "      <th></th>\n",
       "      <th></th>\n",
       "      <th></th>\n",
       "      <th></th>\n",
       "      <th></th>\n",
       "      <th></th>\n",
       "      <th></th>\n",
       "    </tr>\n",
       "  </thead>\n",
       "  <tbody>\n",
       "    <tr>\n",
       "      <th>OSM-A-1</th>\n",
       "      <td>0</td>\n",
       "      <td>0</td>\n",
       "      <td>0</td>\n",
       "      <td>0</td>\n",
       "      <td>0</td>\n",
       "      <td>0</td>\n",
       "      <td>0</td>\n",
       "      <td>0</td>\n",
       "      <td>0</td>\n",
       "      <td>0</td>\n",
       "      <td>0</td>\n",
       "      <td>0</td>\n",
       "      <td>0</td>\n",
       "      <td>0</td>\n",
       "      <td>0</td>\n",
       "      <td>0</td>\n",
       "      <td>0</td>\n",
       "      <td>0</td>\n",
       "      <td>0</td>\n",
       "      <td>0</td>\n",
       "      <td>0</td>\n",
       "      <td>0</td>\n",
       "      <td>0</td>\n",
       "      <td>0</td>\n",
       "      <td>0</td>\n",
       "      <td>0</td>\n",
       "      <td>0</td>\n",
       "      <td>0</td>\n",
       "      <td>0</td>\n",
       "      <td>0</td>\n",
       "      <td>0</td>\n",
       "      <td>1</td>\n",
       "      <td>0</td>\n",
       "      <td>1</td>\n",
       "      <td>0</td>\n",
       "      <td>0</td>\n",
       "      <td>1</td>\n",
       "      <td>0</td>\n",
       "      <td>0</td>\n",
       "      <td>0</td>\n",
       "      <td>...</td>\n",
       "      <td>0</td>\n",
       "      <td>0</td>\n",
       "      <td>0</td>\n",
       "      <td>0</td>\n",
       "      <td>0</td>\n",
       "      <td>0</td>\n",
       "      <td>0</td>\n",
       "      <td>0</td>\n",
       "      <td>0</td>\n",
       "      <td>0</td>\n",
       "      <td>0</td>\n",
       "      <td>0</td>\n",
       "      <td>0</td>\n",
       "      <td>0</td>\n",
       "      <td>0</td>\n",
       "      <td>0</td>\n",
       "      <td>0</td>\n",
       "      <td>0</td>\n",
       "      <td>0</td>\n",
       "      <td>0</td>\n",
       "      <td>0</td>\n",
       "      <td>0</td>\n",
       "      <td>0</td>\n",
       "      <td>0</td>\n",
       "      <td>0</td>\n",
       "      <td>0</td>\n",
       "      <td>0</td>\n",
       "      <td>0</td>\n",
       "      <td>0</td>\n",
       "      <td>0</td>\n",
       "      <td>0</td>\n",
       "      <td>0</td>\n",
       "      <td>0</td>\n",
       "      <td>0</td>\n",
       "      <td>0</td>\n",
       "      <td>0</td>\n",
       "      <td>1</td>\n",
       "      <td>0</td>\n",
       "      <td>0</td>\n",
       "      <td>0</td>\n",
       "    </tr>\n",
       "    <tr>\n",
       "      <th>OSM-A-2</th>\n",
       "      <td>0</td>\n",
       "      <td>0</td>\n",
       "      <td>0</td>\n",
       "      <td>0</td>\n",
       "      <td>0</td>\n",
       "      <td>0</td>\n",
       "      <td>0</td>\n",
       "      <td>0</td>\n",
       "      <td>0</td>\n",
       "      <td>0</td>\n",
       "      <td>0</td>\n",
       "      <td>0</td>\n",
       "      <td>0</td>\n",
       "      <td>0</td>\n",
       "      <td>0</td>\n",
       "      <td>0</td>\n",
       "      <td>0</td>\n",
       "      <td>0</td>\n",
       "      <td>0</td>\n",
       "      <td>0</td>\n",
       "      <td>0</td>\n",
       "      <td>0</td>\n",
       "      <td>0</td>\n",
       "      <td>0</td>\n",
       "      <td>0</td>\n",
       "      <td>0</td>\n",
       "      <td>0</td>\n",
       "      <td>0</td>\n",
       "      <td>0</td>\n",
       "      <td>0</td>\n",
       "      <td>0</td>\n",
       "      <td>1</td>\n",
       "      <td>0</td>\n",
       "      <td>1</td>\n",
       "      <td>1</td>\n",
       "      <td>0</td>\n",
       "      <td>1</td>\n",
       "      <td>0</td>\n",
       "      <td>0</td>\n",
       "      <td>0</td>\n",
       "      <td>...</td>\n",
       "      <td>0</td>\n",
       "      <td>0</td>\n",
       "      <td>0</td>\n",
       "      <td>0</td>\n",
       "      <td>0</td>\n",
       "      <td>0</td>\n",
       "      <td>0</td>\n",
       "      <td>0</td>\n",
       "      <td>0</td>\n",
       "      <td>0</td>\n",
       "      <td>0</td>\n",
       "      <td>0</td>\n",
       "      <td>0</td>\n",
       "      <td>0</td>\n",
       "      <td>0</td>\n",
       "      <td>0</td>\n",
       "      <td>0</td>\n",
       "      <td>0</td>\n",
       "      <td>0</td>\n",
       "      <td>0</td>\n",
       "      <td>0</td>\n",
       "      <td>0</td>\n",
       "      <td>0</td>\n",
       "      <td>0</td>\n",
       "      <td>0</td>\n",
       "      <td>0</td>\n",
       "      <td>0</td>\n",
       "      <td>0</td>\n",
       "      <td>0</td>\n",
       "      <td>0</td>\n",
       "      <td>0</td>\n",
       "      <td>0</td>\n",
       "      <td>0</td>\n",
       "      <td>0</td>\n",
       "      <td>0</td>\n",
       "      <td>0</td>\n",
       "      <td>1</td>\n",
       "      <td>0</td>\n",
       "      <td>0</td>\n",
       "      <td>0</td>\n",
       "    </tr>\n",
       "  </tbody>\n",
       "</table>\n",
       "<p>2 rows × 1024 columns</p>\n",
       "</div>"
      ],
      "text/plain": [
       "         Bit_0000  Bit_0001  Bit_0002  ...  Bit_1021  Bit_1022  Bit_1023\n",
       "OSM_ID                                 ...                              \n",
       "OSM-A-1         0         0         0  ...         0         0         0\n",
       "OSM-A-2         0         0         0  ...         0         0         0\n",
       "\n",
       "[2 rows x 1024 columns]"
      ]
     },
     "execution_count": 17,
     "metadata": {},
     "output_type": "execute_result"
    }
   ],
   "source": [
    "dataset_morgan2.X.iloc[0:2,:]"
   ]
  },
  {
   "cell_type": "markdown",
   "metadata": {},
   "source": [
    "**Radius = 4**"
   ]
  },
  {
   "cell_type": "code",
   "execution_count": 2,
   "metadata": {
    "ExecuteTime": {
     "end_time": "2021-02-07T16:15:18.536797Z",
     "start_time": "2021-02-07T16:14:59.375788Z"
    }
   },
   "outputs": [
    {
     "data": {
      "text/plain": [
       "QSARDataset OSM4 \n",
       " -- Samples : 347\n",
       " -- Features:  1024"
      ]
     },
     "execution_count": 2,
     "metadata": {},
     "output_type": "execute_result"
    }
   ],
   "source": [
    "dataset_morgan4 = \\\n",
    "    QSARDatasetIO.load(dataset_name='OSM4',\n",
    "                   activity_sheetname='activity',\n",
    "                   smiles_column='Canonical_Smiles',\n",
    "                   id_column='OSM_ID',\n",
    "                   filepath='../data/osm_qsar_dataset_morgan4.xlsx',\n",
    "                   calculate_similarity=False)\n",
    "    \n",
    "dataset_morgan4"
   ]
  },
  {
   "cell_type": "markdown",
   "metadata": {},
   "source": [
    "# Distribution of binary fingerprints"
   ]
  },
  {
   "cell_type": "code",
   "execution_count": 80,
   "metadata": {
    "ExecuteTime": {
     "end_time": "2021-01-16T20:21:04.014918Z",
     "start_time": "2021-01-16T20:21:03.729152Z"
    }
   },
   "outputs": [
    {
     "data": {
      "text/html": [
       "<div>\n",
       "<style scoped>\n",
       "    .dataframe tbody tr th:only-of-type {\n",
       "        vertical-align: middle;\n",
       "    }\n",
       "\n",
       "    .dataframe tbody tr th {\n",
       "        vertical-align: top;\n",
       "    }\n",
       "\n",
       "    .dataframe thead th {\n",
       "        text-align: right;\n",
       "    }\n",
       "</style>\n",
       "<table border=\"1\" class=\"dataframe\">\n",
       "  <thead>\n",
       "    <tr style=\"text-align: right;\">\n",
       "      <th></th>\n",
       "      <th>variable</th>\n",
       "      <th>value</th>\n",
       "    </tr>\n",
       "  </thead>\n",
       "  <tbody>\n",
       "    <tr>\n",
       "      <th>849</th>\n",
       "      <td>Bit_0849</td>\n",
       "      <td>347</td>\n",
       "    </tr>\n",
       "    <tr>\n",
       "      <th>356</th>\n",
       "      <td>Bit_0356</td>\n",
       "      <td>347</td>\n",
       "    </tr>\n",
       "    <tr>\n",
       "      <th>726</th>\n",
       "      <td>Bit_0726</td>\n",
       "      <td>339</td>\n",
       "    </tr>\n",
       "    <tr>\n",
       "      <th>935</th>\n",
       "      <td>Bit_0935</td>\n",
       "      <td>310</td>\n",
       "    </tr>\n",
       "    <tr>\n",
       "      <th>378</th>\n",
       "      <td>Bit_0378</td>\n",
       "      <td>304</td>\n",
       "    </tr>\n",
       "    <tr>\n",
       "      <th>...</th>\n",
       "      <td>...</td>\n",
       "      <td>...</td>\n",
       "    </tr>\n",
       "    <tr>\n",
       "      <th>720</th>\n",
       "      <td>Bit_0720</td>\n",
       "      <td>0</td>\n",
       "    </tr>\n",
       "    <tr>\n",
       "      <th>153</th>\n",
       "      <td>Bit_0153</td>\n",
       "      <td>0</td>\n",
       "    </tr>\n",
       "    <tr>\n",
       "      <th>154</th>\n",
       "      <td>Bit_0154</td>\n",
       "      <td>0</td>\n",
       "    </tr>\n",
       "    <tr>\n",
       "      <th>709</th>\n",
       "      <td>Bit_0709</td>\n",
       "      <td>0</td>\n",
       "    </tr>\n",
       "    <tr>\n",
       "      <th>0</th>\n",
       "      <td>Bit_0000</td>\n",
       "      <td>0</td>\n",
       "    </tr>\n",
       "  </tbody>\n",
       "</table>\n",
       "<p>1024 rows × 2 columns</p>\n",
       "</div>"
      ],
      "text/plain": [
       "     variable  value\n",
       "849  Bit_0849    347\n",
       "356  Bit_0356    347\n",
       "726  Bit_0726    339\n",
       "935  Bit_0935    310\n",
       "378  Bit_0378    304\n",
       "..        ...    ...\n",
       "720  Bit_0720      0\n",
       "153  Bit_0153      0\n",
       "154  Bit_0154      0\n",
       "709  Bit_0709      0\n",
       "0    Bit_0000      0\n",
       "\n",
       "[1024 rows x 2 columns]"
      ]
     },
     "execution_count": 80,
     "metadata": {},
     "output_type": "execute_result"
    }
   ],
   "source": [
    "plot_df = pd.melt(dataset_morgan2.X.reset_index(), id_vars='OSM_ID')\n",
    "plot_df = plot_df.groupby(['OSM_ID', 'variable']).sum().reset_index()\n",
    "plot_df['OSM_ID'] = plot_df['OSM_ID'].apply(lambda x: x[0:9])\n",
    "plot_df.groupby(['variable']).sum().reset_index().sort_values('value', ascending=False)"
   ]
  },
  {
   "cell_type": "markdown",
   "metadata": {
    "ExecuteTime": {
     "end_time": "2020-10-06T12:49:58.322117Z",
     "start_time": "2020-10-06T12:49:58.318540Z"
    }
   },
   "source": [
    "**Are there any missing values?** No :)"
   ]
  },
  {
   "cell_type": "code",
   "execution_count": 4,
   "metadata": {
    "ExecuteTime": {
     "end_time": "2020-11-05T19:58:37.509406Z",
     "start_time": "2020-11-05T19:58:37.497393Z"
    }
   },
   "outputs": [
    {
     "data": {
      "text/plain": [
       "0"
      ]
     },
     "execution_count": 4,
     "metadata": {},
     "output_type": "execute_result"
    }
   ],
   "source": [
    "sum(dataset_morgan4.X.isnull().sum(axis=1) > 0)"
   ]
  },
  {
   "cell_type": "markdown",
   "metadata": {},
   "source": [
    "**Visualize a sample of the dataset**"
   ]
  },
  {
   "cell_type": "code",
   "execution_count": 11,
   "metadata": {
    "ExecuteTime": {
     "end_time": "2021-03-14T14:33:44.775697Z",
     "start_time": "2021-03-14T14:33:44.646508Z"
    }
   },
   "outputs": [
    {
     "data": {
      "text/html": [
       "<div>\n",
       "<style scoped>\n",
       "    .dataframe tbody tr th:only-of-type {\n",
       "        vertical-align: middle;\n",
       "    }\n",
       "\n",
       "    .dataframe tbody tr th {\n",
       "        vertical-align: top;\n",
       "    }\n",
       "\n",
       "    .dataframe thead th {\n",
       "        text-align: right;\n",
       "    }\n",
       "</style>\n",
       "<table border=\"1\" class=\"dataframe\">\n",
       "  <thead>\n",
       "    <tr style=\"text-align: right;\">\n",
       "      <th></th>\n",
       "      <th>Canonical_Smiles</th>\n",
       "      <th>Series</th>\n",
       "      <th>Molecule</th>\n",
       "      <th>Bits</th>\n",
       "    </tr>\n",
       "    <tr>\n",
       "      <th>OSM_ID</th>\n",
       "      <th></th>\n",
       "      <th></th>\n",
       "      <th></th>\n",
       "      <th></th>\n",
       "    </tr>\n",
       "  </thead>\n",
       "  <tbody>\n",
       "    <tr>\n",
       "      <th>OSM-S-175</th>\n",
       "      <td>FC(F)Oc1ccc(cc1)c2nnc3cncc(C(=O)Nc4ccnc(c4)C(F...</td>\n",
       "      <td>4</td>\n",
       "      <td><img data-content=\"rdkit/molecule\" src=\"data:image/png;base64,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\" alt=\"Mol\"/></td>\n",
       "      <td>0100000000000000000000000010000000000000000000...</td>\n",
       "    </tr>\n",
       "    <tr>\n",
       "      <th>OSM-S-177</th>\n",
       "      <td>FC(F)Oc1ccc(cc1)c2nnc3cncc(C(=O)N4Cc5ccccc5C4)n23</td>\n",
       "      <td>4</td>\n",
       "      <td><img data-content=\"rdkit/molecule\" src=\"data:image/png;base64,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\" alt=\"Mol\"/></td>\n",
       "      <td>0100000000000000000000000010000000000000000000...</td>\n",
       "    </tr>\n",
       "    <tr>\n",
       "      <th>OSM-S-187</th>\n",
       "      <td>N#Cc1ccc(cc1)c2nnc3cncc(OCCc4ccccc4)n23</td>\n",
       "      <td>4</td>\n",
       "      <td><img data-content=\"rdkit/molecule\" src=\"data:image/png;base64,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\" alt=\"Mol\"/></td>\n",
       "      <td>0000000000000100000001000000000000100000001000...</td>\n",
       "    </tr>\n",
       "  </tbody>\n",
       "</table>\n",
       "</div>"
      ],
      "text/plain": [
       "                                            Canonical_Smiles  ...                                               Bits\n",
       "OSM_ID                                                        ...                                                   \n",
       "OSM-S-175  FC(F)Oc1ccc(cc1)c2nnc3cncc(C(=O)Nc4ccnc(c4)C(F...  ...  0100000000000000000000000010000000000000000000...\n",
       "OSM-S-177  FC(F)Oc1ccc(cc1)c2nnc3cncc(C(=O)N4Cc5ccccc5C4)n23  ...  0100000000000000000000000010000000000000000000...\n",
       "OSM-S-187            N#Cc1ccc(cc1)c2nnc3cncc(OCCc4ccccc4)n23  ...  0000000000000100000001000000000000100000001000...\n",
       "\n",
       "[3 rows x 4 columns]"
      ]
     },
     "execution_count": 11,
     "metadata": {},
     "output_type": "execute_result"
    }
   ],
   "source": [
    "from rdkit.Chem import PandasTools\n",
    "\n",
    "sample = dataset_morgan2.metadata.query(\"Series == '4'\").iloc[0:3,:][[\"Canonical_Smiles\", \"Series\"]].copy()\n",
    "PandasTools.AddMoleculeColumnToFrame(sample,'Canonical_Smiles','Molecule',includeFingerprints=True)\n",
    "sample = pd.merge(sample, dataset_morgan2.X, \n",
    "                  how=\"left\", left_index=True, right_index=True)\n",
    "\n",
    "bit_cols = [col for col in sample.columns if 'Bit' in col]\n",
    "sample[\"Bits\"] = sample.apply(lambda x: ''.join([str(x[col]) for col in bit_cols]), axis=1)\n",
    "sample.drop(columns=bit_cols, inplace=True)\n",
    "sample"
   ]
  },
  {
   "cell_type": "code",
   "execution_count": 9,
   "metadata": {
    "ExecuteTime": {
     "end_time": "2021-01-07T18:27:43.228426Z",
     "start_time": "2021-01-07T18:27:43.155678Z"
    }
   },
   "outputs": [],
   "source": [
    "selected_ids = [\"OSM-S-5\", \"OSM-S-6\", \"OSM-S-106\", \"OSM-S-396\", \"OSM-S-175\"]\n",
    "\n",
    "for mol_id in selected_ids:\n",
    "    mol = Chem.MolFromSmiles(dataset_morgan4.metadata.Canonical_Smiles.loc[mol_id])\n",
    "    Draw.MolToFile(mol, \"../data/{}.png\".format(mol_id), size=(250,150), useSVG=False)"
   ]
  },
  {
   "cell_type": "markdown",
   "metadata": {},
   "source": [
    "\\#TODO A note to future self: To avoid creating a csv/xls file with too many columns, consider saving a single column with a string representing the on-off bits as above "
   ]
  },
  {
   "cell_type": "markdown",
   "metadata": {},
   "source": [
    "# Train ModSAR algorithm\n",
    "\n",
    "ModSAR algorithm models regression algorithms in two stages:\n",
    "\n",
    "1. Training data is represented as a **network** and divided into clusters by optimising the [modularity metric](https://python-louvain.readthedocs.io/en/latest/).\n",
    "2. Each of this clusters (also called modules) are then modelled by the [OplraReg](https://onlinelibrary.wiley.com/doi/10.1002/minf.201800028) algorithm, a [segmented (or piecewise) regression model](https://www.theanalysisfactor.com/segmented-regression-for-non-constant-relationships/) with a regularisation penalty to select most relevant features and reduce overfitting.\n",
    "\n",
    "\n",
    "ModSAR inherits a couple of parameters from OplraReg but in practice, we only need to tune $\\lambda$ to define how big the effect of regularisation will be in the final piecewise linear equations. A higher $\\lambda$ will lead to fewer features in the piecewise linear models and it will run quecker but if $\\lambda$ is set too high, the model will have a huge bias and usually \"underfit\" the data. [Bias-variance tradeoff](https://towardsdatascience.com/understanding-the-bias-variance-tradeoff-165e6942b229)."
   ]
  },
  {
   "cell_type": "markdown",
   "metadata": {},
   "source": [
    "## Cross-Validation\n",
    "\n",
    "In this section, we will perform a cross-validation while searching for an optimum $\\lambda$ parameter of modSAR.\n",
    "\n",
    "\n",
    "Based on previous knowledge, we know this parameter to be optimally placed around $\\lambda \\approx 0.005$ - no fewer than that - so I will be sampling this parameter from a random HalfNormal distribution, i.e. $\\lambda \\sim \\text{HalfNormal}(\\mu=0.005, \\sigma=0.05)$.\n",
    "\n",
    "Randomized Search and Cross-Validation is performed with scikit-learn's [RandomizedSearchCV](https://scikit-learn.org/stable/modules/grid_search.html#randomized-parameter-search):"
   ]
  },
  {
   "cell_type": "code",
   "execution_count": 12,
   "metadata": {
    "ExecuteTime": {
     "end_time": "2021-03-14T14:33:44.792446Z",
     "start_time": "2021-03-14T14:33:44.777927Z"
    }
   },
   "outputs": [],
   "source": [
    "from copy import deepcopy\n",
    "from sklearn.model_selection import GridSearchCV\n",
    "\n",
    "modsar_alg = ModSAR(lam=0.02, metadata=dataset_morgan4.metadata)\n",
    "\n",
    "scoring = [\"neg_mean_absolute_error\", \"neg_mean_squared_error\", \"r2\"]\n",
    "param_distributions = {\"lam\": scipy.stats.halfnorm(0.005, 0.05)}\n",
    "\n",
    "param_grid = {\"lam\": [i/100 for i in range(1, 11)]}\n",
    "\n",
    "\n",
    "model_morgan2 = GridSearchCV(deepcopy(modsar_alg), \n",
    "                             return_train_score=True,\n",
    "                             param_grid=param_grid, \n",
    "                             scoring=scoring, \n",
    "                             refit=\"neg_mean_squared_error\",\n",
    "                             cv=5,\n",
    "                             n_jobs=5,\n",
    "                             verbose=3)\n",
    "\n",
    "model_morgan4 = GridSearchCV(deepcopy(modsar_alg), \n",
    "                             return_train_score=True,\n",
    "                             param_grid=param_grid, \n",
    "                             scoring=scoring, \n",
    "                             refit=\"neg_mean_squared_error\",\n",
    "                             cv=5,\n",
    "                             n_jobs=5,\n",
    "                             verbose=3)"
   ]
  },
  {
   "cell_type": "markdown",
   "metadata": {},
   "source": [
    "### Dataset: Morgan (radius=2)\n",
    "\n",
    "Gridsearch on this dataset will take ~ 11 minutes"
   ]
  },
  {
   "cell_type": "code",
   "execution_count": 53,
   "metadata": {
    "ExecuteTime": {
     "end_time": "2021-01-24T21:59:58.251528Z",
     "start_time": "2021-01-24T21:48:30.319235Z"
    },
    "scrolled": true
   },
   "outputs": [
    {
     "name": "stdout",
     "output_type": "stream",
     "text": [
      "Fitting 5 folds for each of 10 candidates, totalling 50 fits\n",
      "Calculating fingerprints\n",
      "Calculating similarity\n",
      "Best Threshold = 0.20 | ACC = 0.848\n",
      "Threshold: 0.2 | k: 0\n",
      "Communities: Counter({'m05': 121, 'm06': 117, 'm01': 52, 'm03': 47, 'm07': 8, 'm02': 1, 'm04': 1})\n",
      "Num. samples in comm m01: 52\n",
      "OplraRegularised(lam=0.06, solver_name='cplex')\n",
      "########## R = 1\n",
      "SELECTED FEATURES:\n",
      "['Bit_0031', 'Bit_0036', 'Bit_0080', 'Bit_0140', 'Bit_0290', 'Bit_0332', 'Bit_0350', 'Bit_0389', 'Bit_0452', 'Bit_0480', 'Bit_0703', 'Bit_0745', 'Bit_0961', 'Bit_1017']\n",
      "\n",
      "None\n",
      "\n",
      "OplraRegularised(lam=0.06, solver_name='cplex')\n",
      "########## R = 2 f* = Bit_0031 (loop 1/14) ###########\n",
      "\n",
      "OplraRegularised(lam=0.06, solver_name='cplex')\n",
      "########## R = 2 f* = Bit_0036 (loop 2/14) ###########\n",
      "\n",
      "OplraRegularised(lam=0.06, solver_name='cplex')\n",
      "########## R = 2 f* = Bit_0080 (loop 3/14) ###########\n",
      "\n",
      "OplraRegularised(lam=0.06, solver_name='cplex')\n",
      "########## R = 2 f* = Bit_0140 (loop 4/14) ###########\n",
      "\n",
      "OplraRegularised(lam=0.06, solver_name='cplex')\n",
      "########## R = 2 f* = Bit_0290 (loop 5/14) ###########\n",
      "\n",
      "OplraRegularised(lam=0.06, solver_name='cplex')\n",
      "########## R = 2 f* = Bit_0332 (loop 6/14) ###########\n",
      "\n",
      "OplraRegularised(lam=0.06, solver_name='cplex')\n",
      "########## R = 2 f* = Bit_0350 (loop 7/14) ###########\n",
      "\n",
      "OplraRegularised(lam=0.06, solver_name='cplex')\n",
      "########## R = 2 f* = Bit_0389 (loop 8/14) ###########\n",
      "\n",
      "OplraRegularised(lam=0.06, solver_name='cplex')\n",
      "########## R = 2 f* = Bit_0452 (loop 9/14) ###########\n",
      "\n",
      "OplraRegularised(lam=0.06, solver_name='cplex')\n",
      "########## R = 2 f* = Bit_0480 (loop 10/14) ###########\n",
      "\n",
      "OplraRegularised(lam=0.06, solver_name='cplex')\n",
      "########## R = 2 f* = Bit_0703 (loop 11/14) ###########\n",
      "\n",
      "OplraRegularised(lam=0.06, solver_name='cplex')\n",
      "########## R = 2 f* = Bit_0745 (loop 12/14) ###########\n",
      "\n",
      "OplraRegularised(lam=0.06, solver_name='cplex')\n",
      "########## R = 2 f* = Bit_0961 (loop 13/14) ###########\n",
      "\n",
      "OplraRegularised(lam=0.06, solver_name='cplex')\n",
      "########## R = 2 f* = Bit_1017 (loop 14/14) ###########\n",
      "\n",
      "OplraRegularised(lam=0.06, solver_name='cplex')\n",
      "########## R = 3 f* = Bit_0350 ###########\n",
      "Num. samples in comm m02: 1\n",
      "OplraRegularised(lam=0.06, solver_name='cplex')\n",
      "########## R = 1\n",
      "SELECTED FEATURES:\n",
      "[]\n",
      "\n",
      "Num. samples in comm m06: 117\n",
      "OplraRegularised(lam=0.06, solver_name='cplex')\n",
      "########## R = 1\n",
      "SELECTED FEATURES:\n",
      "['Bit_0142', 'Bit_0248', 'Bit_0322', 'Bit_0392', 'Bit_0557', 'Bit_0579', 'Bit_0711', 'Bit_0755', 'Bit_0767', 'Bit_0788', 'Bit_0875', 'Bit_0890']\n",
      "\n",
      "None\n",
      "\n",
      "OplraRegularised(lam=0.06, solver_name='cplex')\n",
      "########## R = 2 f* = Bit_0142 (loop 1/12) ###########\n",
      "\n",
      "OplraRegularised(lam=0.06, solver_name='cplex')\n",
      "########## R = 2 f* = Bit_0248 (loop 2/12) ###########\n",
      "\n",
      "OplraRegularised(lam=0.06, solver_name='cplex')\n",
      "########## R = 2 f* = Bit_0322 (loop 3/12) ###########\n",
      "\n",
      "OplraRegularised(lam=0.06, solver_name='cplex')\n",
      "########## R = 2 f* = Bit_0392 (loop 4/12) ###########\n",
      "\n",
      "OplraRegularised(lam=0.06, solver_name='cplex')\n",
      "########## R = 2 f* = Bit_0557 (loop 5/12) ###########\n",
      "\n",
      "OplraRegularised(lam=0.06, solver_name='cplex')\n",
      "########## R = 2 f* = Bit_0579 (loop 6/12) ###########\n",
      "\n",
      "OplraRegularised(lam=0.06, solver_name='cplex')\n",
      "########## R = 2 f* = Bit_0711 (loop 7/12) ###########\n",
      "\n",
      "OplraRegularised(lam=0.06, solver_name='cplex')\n",
      "########## R = 2 f* = Bit_0755 (loop 8/12) ###########\n",
      "\n",
      "OplraRegularised(lam=0.06, solver_name='cplex')\n",
      "########## R = 2 f* = Bit_0767 (loop 9/12) ###########\n",
      "\n",
      "OplraRegularised(lam=0.06, solver_name='cplex')\n",
      "########## R = 2 f* = Bit_0788 (loop 10/12) ###########\n",
      "\n",
      "OplraRegularised(lam=0.06, solver_name='cplex')\n",
      "########## R = 2 f* = Bit_0875 (loop 11/12) ###########\n",
      "\n",
      "OplraRegularised(lam=0.06, solver_name='cplex')\n",
      "########## R = 2 f* = Bit_0890 (loop 12/12) ###########\n",
      "\n",
      "OplraRegularised(lam=0.06, solver_name='cplex')\n",
      "########## R = 3 f* = Bit_0875 ###########\n",
      "Num. samples in comm m03: 47\n",
      "OplraRegularised(lam=0.06, solver_name='cplex')\n",
      "########## R = 1\n",
      "SELECTED FEATURES:\n",
      "['Bit_0114', 'Bit_0409', 'Bit_0484', 'Bit_0767', 'Bit_0768']\n",
      "\n",
      "None\n",
      "\n",
      "OplraRegularised(lam=0.06, solver_name='cplex')\n",
      "########## R = 2 f* = Bit_0114 (loop 1/5) ###########\n",
      "\n",
      "OplraRegularised(lam=0.06, solver_name='cplex')\n",
      "########## R = 2 f* = Bit_0409 (loop 2/5) ###########\n",
      "\n",
      "OplraRegularised(lam=0.06, solver_name='cplex')\n",
      "########## R = 2 f* = Bit_0484 (loop 3/5) ###########\n",
      "\n",
      "OplraRegularised(lam=0.06, solver_name='cplex')\n",
      "########## R = 2 f* = Bit_0767 (loop 4/5) ###########\n",
      "\n",
      "OplraRegularised(lam=0.06, solver_name='cplex')\n",
      "########## R = 2 f* = Bit_0768 (loop 5/5) ###########\n",
      "\n",
      "OplraRegularised(lam=0.06, solver_name='cplex')\n",
      "########## R = 3 f* = Bit_0484 ###########\n",
      "Num. samples in comm m04: 1\n",
      "OplraRegularised(lam=0.06, solver_name='cplex')\n",
      "########## R = 1\n",
      "SELECTED FEATURES:\n",
      "[]\n",
      "\n",
      "Num. samples in comm m05: 121\n",
      "OplraRegularised(lam=0.06, solver_name='cplex')\n",
      "########## R = 1\n",
      "SELECTED FEATURES:\n",
      "['Bit_0650', 'Bit_0890', 'Bit_0896', 'Bit_0926']\n",
      "\n",
      "None\n",
      "\n",
      "OplraRegularised(lam=0.06, solver_name='cplex')\n",
      "########## R = 2 f* = Bit_0650 (loop 1/4) ###########\n",
      "\n",
      "OplraRegularised(lam=0.06, solver_name='cplex')\n",
      "########## R = 2 f* = Bit_0890 (loop 2/4) ###########\n",
      "\n",
      "OplraRegularised(lam=0.06, solver_name='cplex')\n",
      "########## R = 2 f* = Bit_0896 (loop 3/4) ###########\n",
      "\n",
      "OplraRegularised(lam=0.06, solver_name='cplex')\n",
      "########## R = 2 f* = Bit_0926 (loop 4/4) ###########\n",
      "\n",
      "OplraRegularised(lam=0.06, solver_name='cplex')\n",
      "########## R = 3 f* = Bit_0890 ###########\n",
      "Num. samples in comm m07: 8\n",
      "OplraRegularised(lam=0.06, solver_name='cplex')\n",
      "########## R = 1\n",
      "SELECTED FEATURES:\n",
      "[]\n",
      "\n"
     ]
    },
    {
     "data": {
      "text/plain": [
       "GridSearchCV(cv=5,\n",
       "             estimator=ModSAR(lam=0.02, metadata=           Unnamed: 0 Series  ... duplicated  mark_to_remove\n",
       "OSM_ID                        ...                           \n",
       "OSM-A-1             0      1  ...       True           False\n",
       "OSM-A-2             2      1  ...       True           False\n",
       "OSM-A-3             4      1  ...       True           False\n",
       "OSM-E-1             6      1  ...      False           False\n",
       "OSM-E-2             7      1  ...      False           False\n",
       "...               ...    ...  ...        ...             ...\n",
       "OSM-S-631         434   not4  ...      False           False\n",
       "OSM-S-632         435   not4  ...      False           False\n",
       "OSM-S-633         436   not4  ...      False           False\n",
       "OSM-W-4           437   not4  ...       True           False\n",
       "OSM-S-194         439     TB  ...      False           False\n",
       "\n",
       "[347 rows x 25 columns]),\n",
       "             n_jobs=5,\n",
       "             param_grid={'lam': [0.01, 0.02, 0.03, 0.04, 0.05, 0.06, 0.07, 0.08,\n",
       "                                 0.09, 0.1]},\n",
       "             refit='neg_mean_squared_error', return_train_score=True,\n",
       "             scoring=['neg_mean_absolute_error', 'neg_mean_squared_error',\n",
       "                      'r2'],\n",
       "             verbose=3)"
      ]
     },
     "execution_count": 53,
     "metadata": {},
     "output_type": "execute_result"
    }
   ],
   "source": [
    "model_morgan2.fit(dataset_morgan2.X, dataset_morgan2.y)"
   ]
  },
  {
   "cell_type": "code",
   "execution_count": 54,
   "metadata": {
    "ExecuteTime": {
     "end_time": "2021-01-24T21:59:58.263778Z",
     "start_time": "2021-01-24T21:59:58.253594Z"
    }
   },
   "outputs": [],
   "source": [
    "results_df = pd.DataFrame(model_morgan2.cv_results_)\n",
    "results_df[\"param_lam\"] = results_df[\"param_lam\"].astype(float)\n",
    "\n",
    "selected_cols = [col for col in results_df.columns if 'split' not in col and 'std' not in col]\n",
    "#results_df.loc[:, selected_cols].sort_values(\"param_lam\")"
   ]
  },
  {
   "cell_type": "code",
   "execution_count": 55,
   "metadata": {
    "ExecuteTime": {
     "end_time": "2021-01-24T22:00:02.734911Z",
     "start_time": "2021-01-24T21:59:58.265999Z"
    }
   },
   "outputs": [],
   "source": [
    "# Save model to disk\n",
    "\n",
    "from sklearn.externals import joblib\n",
    "joblib.dump(model_morgan2, \"../data/model_modsar_morgan2.joblib\")\n",
    "results_df.to_csv(\"../data/model_modsar_morgan2_results.csv\")"
   ]
  },
  {
   "cell_type": "code",
   "execution_count": 13,
   "metadata": {
    "ExecuteTime": {
     "end_time": "2021-03-14T14:33:50.927672Z",
     "start_time": "2021-03-14T14:33:48.595091Z"
    }
   },
   "outputs": [],
   "source": [
    "from sklearn.externals import joblib\n",
    "model_morgan2 = joblib.load(\"../data/model_modsar_morgan2.joblib\")"
   ]
  },
  {
   "cell_type": "code",
   "execution_count": 56,
   "metadata": {
    "ExecuteTime": {
     "end_time": "2021-01-24T22:00:03.211863Z",
     "start_time": "2021-01-24T22:00:02.737040Z"
    }
   },
   "outputs": [
    {
     "data": {
      "image/png": "[encoded data removed]",
      "text/plain": [
       "<Figure size 700x300 with 1 Axes>"
      ]
     },
     "metadata": {},
     "output_type": "display_data"
    },
    {
     "data": {
      "text/plain": [
       "<ggplot: (-9223363283266171988)>"
      ]
     },
     "execution_count": 56,
     "metadata": {},
     "output_type": "execute_result"
    }
   ],
   "source": [
    "from plotnine import *\n",
    "\n",
    "g = (ggplot(results_df, aes(x='param_lam', y=\"mean_fit_time\")) + \n",
    "     geom_col(color=\"blue\", fill=\"blue\", alpha=0.6) +\n",
    "     scale_x_continuous(name=\"Paramater $\\lambda$\",\n",
    "                        breaks=[x/100 for x in range(13)]) +\n",
    "     scale_y_continuous(name=\"Mean CV fit time (seconds)\") +\n",
    "     theme_bw() + \n",
    "     theme(figure_size = (7, 3), axis_title=element_text(size=10)) + \n",
    "     ggtitle(\"The higher the $\\lambda$ the faster the fit time\"))\n",
    "\n",
    "g"
   ]
  },
  {
   "cell_type": "code",
   "execution_count": 57,
   "metadata": {
    "ExecuteTime": {
     "end_time": "2021-01-24T22:00:03.899943Z",
     "start_time": "2021-01-24T22:00:03.213805Z"
    }
   },
   "outputs": [
    {
     "data": {
      "image/png": "[encoded data removed]",
      "text/plain": [
       "<Figure size 800x300 with 1 Axes>"
      ]
     },
     "metadata": {},
     "output_type": "display_data"
    },
    {
     "data": {
      "text/plain": [
       "<ggplot: (-9223363283280168658)>"
      ]
     },
     "execution_count": 57,
     "metadata": {},
     "output_type": "execute_result"
    }
   ],
   "source": [
    "g = (ggplot(results_df, aes(x='param_lam')) + \n",
    "     geom_rect(xmin=0.025, xmax=0.065, ymin=0.5, ymax=0.75, fill='#212121', alpha=0.015) +\n",
    "     geom_point(aes(y=\"-mean_train_neg_mean_absolute_error\"), \n",
    "                size=4, color=\"blue\", fill=\"blue\", alpha=1) +\n",
    "     geom_line(mapping=aes(y=\"-mean_train_neg_mean_absolute_error\"), \n",
    "               size=1, color=\"blue\", alpha=0.5) +\n",
    "     geom_point(aes(y=\"-mean_test_neg_mean_absolute_error\"), \n",
    "                size=4, color=\"green\", fill=\"green\", alpha=1) +\n",
    "     geom_line(mapping=aes(y=\"-mean_test_neg_mean_absolute_error\"), \n",
    "               size=1, color=\"green\", alpha=0.5) +\n",
    "     scale_x_continuous(name=\"Paramater $\\lambda$\", breaks=[x/100 for x in range(12)]) +\n",
    "     scale_y_continuous(name=\"Mean absolute error\") +\n",
    "     annotate(\"text\", label=\"Testing\", color=\"green\", \n",
    "              alpha=0.75, x=0.019, y=0.88, size=10, angle=1, fontweight=\"normal\") +\n",
    "     annotate(\"text\", label=\"Training\", color=\"blue\", \n",
    "              alpha=0.75, x=0.012, y=0.75, size=10, angle=0, fontweight=\"normal\") +\n",
    "      annotate(\"text\", label=\"Zone of best results\", color=\"#212121\", \n",
    "          alpha=0.75, x=0.045, y=0.771, size=10, fontweight=\"normal\") +\n",
    "     theme_bw() + \n",
    "     theme(figure_size = (8, 3), axis_title=element_text(size=10)))\n",
    "\n",
    "g"
   ]
  },
  {
   "cell_type": "markdown",
   "metadata": {},
   "source": [
    "**Evaluate fitting**\n",
    "\n",
    "Apply modSAR predictions to the entire dataset, to assess fitting accuracy"
   ]
  },
  {
   "cell_type": "code",
   "execution_count": 58,
   "metadata": {
    "ExecuteTime": {
     "end_time": "2021-01-24T22:00:04.734609Z",
     "start_time": "2021-01-24T22:00:03.902126Z"
    },
    "scrolled": false
   },
   "outputs": [
    {
     "name": "stdout",
     "output_type": "stream",
     "text": [
      "MAE: 0.62 (+- 0.63)\n"
     ]
    },
    {
     "data": {
      "text/plain": [
       "<AxesSubplot:>"
      ]
     },
     "execution_count": 58,
     "metadata": {},
     "output_type": "execute_result"
    },
    {
     "data": {
      "image/png": "[encoded data removed]",
      "text/plain": [
       "<Figure size 432x288 with 1 Axes>"
      ]
     },
     "metadata": {
      "needs_background": "light"
     },
     "output_type": "display_data"
    }
   ],
   "source": [
    "y_predicted = model_morgan2.predict(dataset_morgan2.X)\n",
    "error = y_predicted - dataset_morgan2.y[\"pIC50\"]\n",
    "\n",
    "print(\"MAE: %.2f (+- %.2f)\" % \n",
    "      (mean_absolute_error(dataset_morgan2.y, y_predicted),\n",
    "       np.std(abs(error))))\n",
    "\n",
    "pd.Series(abs(error)).hist()"
   ]
  },
  {
   "cell_type": "markdown",
   "metadata": {},
   "source": [
    "### Dataset: Morgan (radius=4)"
   ]
  },
  {
   "cell_type": "code",
   "execution_count": 5,
   "metadata": {
    "ExecuteTime": {
     "end_time": "2021-01-29T11:18:59.640969Z",
     "start_time": "2021-01-29T11:07:42.459462Z"
    },
    "scrolled": true
   },
   "outputs": [
    {
     "name": "stdout",
     "output_type": "stream",
     "text": [
      "Fitting 5 folds for each of 10 candidates, totalling 50 fits\n",
      "Calculating fingerprints\n",
      "Calculating similarity\n",
      "Best Threshold = 0.20 | ACC = 0.848\n",
      "Threshold: 0.2 | k: 0\n",
      "Communities: Counter({'m05': 121, 'm06': 117, 'm01': 52, 'm03': 47, 'm07': 8, 'm02': 1, 'm04': 1})\n",
      "Num. samples in comm m01: 52\n",
      "OplraRegularised(lam=0.06, solver_name='cplex')\n",
      "########## R = 1\n",
      "SELECTED FEATURES:\n",
      "['Bit_0031', 'Bit_0036', 'Bit_0080', 'Bit_0140', 'Bit_0290', 'Bit_0332', 'Bit_0350', 'Bit_0389', 'Bit_0452', 'Bit_0480', 'Bit_0703', 'Bit_0745', 'Bit_0961', 'Bit_1017']\n",
      "\n",
      "None\n",
      "\n",
      "OplraRegularised(lam=0.06, solver_name='cplex')\n",
      "########## R = 2 f* = Bit_0031 (loop 1/14) ###########\n",
      "\n",
      "OplraRegularised(lam=0.06, solver_name='cplex')\n",
      "########## R = 2 f* = Bit_0036 (loop 2/14) ###########\n",
      "\n",
      "OplraRegularised(lam=0.06, solver_name='cplex')\n",
      "########## R = 2 f* = Bit_0080 (loop 3/14) ###########\n",
      "\n",
      "OplraRegularised(lam=0.06, solver_name='cplex')\n",
      "########## R = 2 f* = Bit_0140 (loop 4/14) ###########\n",
      "\n",
      "OplraRegularised(lam=0.06, solver_name='cplex')\n",
      "########## R = 2 f* = Bit_0290 (loop 5/14) ###########\n",
      "\n",
      "OplraRegularised(lam=0.06, solver_name='cplex')\n",
      "########## R = 2 f* = Bit_0332 (loop 6/14) ###########\n",
      "\n",
      "OplraRegularised(lam=0.06, solver_name='cplex')\n",
      "########## R = 2 f* = Bit_0350 (loop 7/14) ###########\n",
      "\n",
      "OplraRegularised(lam=0.06, solver_name='cplex')\n",
      "########## R = 2 f* = Bit_0389 (loop 8/14) ###########\n",
      "\n",
      "OplraRegularised(lam=0.06, solver_name='cplex')\n",
      "########## R = 2 f* = Bit_0452 (loop 9/14) ###########\n",
      "\n",
      "OplraRegularised(lam=0.06, solver_name='cplex')\n",
      "########## R = 2 f* = Bit_0480 (loop 10/14) ###########\n",
      "\n",
      "OplraRegularised(lam=0.06, solver_name='cplex')\n",
      "########## R = 2 f* = Bit_0703 (loop 11/14) ###########\n",
      "\n",
      "OplraRegularised(lam=0.06, solver_name='cplex')\n",
      "########## R = 2 f* = Bit_0745 (loop 12/14) ###########\n",
      "\n",
      "OplraRegularised(lam=0.06, solver_name='cplex')\n",
      "########## R = 2 f* = Bit_0961 (loop 13/14) ###########\n",
      "\n",
      "OplraRegularised(lam=0.06, solver_name='cplex')\n",
      "########## R = 2 f* = Bit_1017 (loop 14/14) ###########\n",
      "\n",
      "OplraRegularised(lam=0.06, solver_name='cplex')\n",
      "########## R = 3 f* = Bit_0350 ###########\n",
      "Num. samples in comm m02: 1\n",
      "OplraRegularised(lam=0.06, solver_name='cplex')\n",
      "########## R = 1\n",
      "SELECTED FEATURES:\n",
      "[]\n",
      "\n",
      "Num. samples in comm m06: 117\n",
      "OplraRegularised(lam=0.06, solver_name='cplex')\n",
      "########## R = 1\n",
      "SELECTED FEATURES:\n",
      "['Bit_0142', 'Bit_0248', 'Bit_0322', 'Bit_0392', 'Bit_0557', 'Bit_0579', 'Bit_0711', 'Bit_0755', 'Bit_0767', 'Bit_0788', 'Bit_0875', 'Bit_0890']\n",
      "\n",
      "None\n",
      "\n",
      "OplraRegularised(lam=0.06, solver_name='cplex')\n",
      "########## R = 2 f* = Bit_0142 (loop 1/12) ###########\n",
      "\n",
      "OplraRegularised(lam=0.06, solver_name='cplex')\n",
      "########## R = 2 f* = Bit_0248 (loop 2/12) ###########\n",
      "\n",
      "OplraRegularised(lam=0.06, solver_name='cplex')\n",
      "########## R = 2 f* = Bit_0322 (loop 3/12) ###########\n",
      "\n",
      "OplraRegularised(lam=0.06, solver_name='cplex')\n",
      "########## R = 2 f* = Bit_0392 (loop 4/12) ###########\n",
      "\n",
      "OplraRegularised(lam=0.06, solver_name='cplex')\n",
      "########## R = 2 f* = Bit_0557 (loop 5/12) ###########\n",
      "\n",
      "OplraRegularised(lam=0.06, solver_name='cplex')\n",
      "########## R = 2 f* = Bit_0579 (loop 6/12) ###########\n",
      "\n",
      "OplraRegularised(lam=0.06, solver_name='cplex')\n",
      "########## R = 2 f* = Bit_0711 (loop 7/12) ###########\n",
      "\n",
      "OplraRegularised(lam=0.06, solver_name='cplex')\n",
      "########## R = 2 f* = Bit_0755 (loop 8/12) ###########\n",
      "\n",
      "OplraRegularised(lam=0.06, solver_name='cplex')\n",
      "########## R = 2 f* = Bit_0767 (loop 9/12) ###########\n",
      "\n",
      "OplraRegularised(lam=0.06, solver_name='cplex')\n",
      "########## R = 2 f* = Bit_0788 (loop 10/12) ###########\n",
      "\n",
      "OplraRegularised(lam=0.06, solver_name='cplex')\n",
      "########## R = 2 f* = Bit_0875 (loop 11/12) ###########\n",
      "\n",
      "OplraRegularised(lam=0.06, solver_name='cplex')\n",
      "########## R = 2 f* = Bit_0890 (loop 12/12) ###########\n",
      "\n",
      "OplraRegularised(lam=0.06, solver_name='cplex')\n",
      "########## R = 3 f* = Bit_0875 ###########\n",
      "Num. samples in comm m03: 47\n",
      "OplraRegularised(lam=0.06, solver_name='cplex')\n",
      "########## R = 1\n",
      "SELECTED FEATURES:\n",
      "['Bit_0114', 'Bit_0409', 'Bit_0484', 'Bit_0767', 'Bit_0768']\n",
      "\n",
      "None\n",
      "\n",
      "OplraRegularised(lam=0.06, solver_name='cplex')\n",
      "########## R = 2 f* = Bit_0114 (loop 1/5) ###########\n",
      "\n",
      "OplraRegularised(lam=0.06, solver_name='cplex')\n",
      "########## R = 2 f* = Bit_0409 (loop 2/5) ###########\n",
      "\n",
      "OplraRegularised(lam=0.06, solver_name='cplex')\n",
      "########## R = 2 f* = Bit_0484 (loop 3/5) ###########\n",
      "\n",
      "OplraRegularised(lam=0.06, solver_name='cplex')\n",
      "########## R = 2 f* = Bit_0767 (loop 4/5) ###########\n",
      "\n",
      "OplraRegularised(lam=0.06, solver_name='cplex')\n",
      "########## R = 2 f* = Bit_0768 (loop 5/5) ###########\n",
      "\n",
      "OplraRegularised(lam=0.06, solver_name='cplex')\n",
      "########## R = 3 f* = Bit_0484 ###########\n",
      "Num. samples in comm m04: 1\n",
      "OplraRegularised(lam=0.06, solver_name='cplex')\n",
      "########## R = 1\n",
      "SELECTED FEATURES:\n",
      "[]\n",
      "\n",
      "Num. samples in comm m05: 121\n",
      "OplraRegularised(lam=0.06, solver_name='cplex')\n",
      "########## R = 1\n",
      "SELECTED FEATURES:\n",
      "['Bit_0650', 'Bit_0890', 'Bit_0896', 'Bit_0926']\n",
      "\n",
      "None\n",
      "\n",
      "OplraRegularised(lam=0.06, solver_name='cplex')\n",
      "########## R = 2 f* = Bit_0650 (loop 1/4) ###########\n",
      "\n",
      "OplraRegularised(lam=0.06, solver_name='cplex')\n",
      "########## R = 2 f* = Bit_0890 (loop 2/4) ###########\n",
      "\n",
      "OplraRegularised(lam=0.06, solver_name='cplex')\n",
      "########## R = 2 f* = Bit_0896 (loop 3/4) ###########\n",
      "\n",
      "OplraRegularised(lam=0.06, solver_name='cplex')\n",
      "########## R = 2 f* = Bit_0926 (loop 4/4) ###########\n",
      "\n",
      "OplraRegularised(lam=0.06, solver_name='cplex')\n",
      "########## R = 3 f* = Bit_0890 ###########\n",
      "Num. samples in comm m07: 8\n",
      "OplraRegularised(lam=0.06, solver_name='cplex')\n",
      "########## R = 1\n",
      "SELECTED FEATURES:\n",
      "[]\n",
      "\n"
     ]
    },
    {
     "data": {
      "text/plain": [
       "GridSearchCV(cv=5,\n",
       "             estimator=ModSAR(lam=0.02, metadata=           Unnamed: 0 Series  ... duplicated  mark_to_remove\n",
       "OSM_ID                        ...                           \n",
       "OSM-A-1             0      1  ...       True           False\n",
       "OSM-A-2             2      1  ...       True           False\n",
       "OSM-A-3             4      1  ...       True           False\n",
       "OSM-E-1             6      1  ...      False           False\n",
       "OSM-E-2             7      1  ...      False           False\n",
       "...               ...    ...  ...        ...             ...\n",
       "OSM-S-631         434   not4  ...      False           False\n",
       "OSM-S-632         435   not4  ...      False           False\n",
       "OSM-S-633         436   not4  ...      False           False\n",
       "OSM-W-4           437   not4  ...       True           False\n",
       "OSM-S-194         439     TB  ...      False           False\n",
       "\n",
       "[347 rows x 25 columns]),\n",
       "             n_jobs=5,\n",
       "             param_grid={'lam': [0.01, 0.02, 0.03, 0.04, 0.05, 0.06, 0.07, 0.08,\n",
       "                                 0.09, 0.1]},\n",
       "             refit='neg_mean_squared_error', return_train_score=True,\n",
       "             scoring=['neg_mean_absolute_error', 'neg_mean_squared_error',\n",
       "                      'r2'],\n",
       "             verbose=3)"
      ]
     },
     "execution_count": 5,
     "metadata": {},
     "output_type": "execute_result"
    }
   ],
   "source": [
    "model_morgan4.fit(dataset_morgan4.X, dataset_morgan4.y)"
   ]
  },
  {
   "cell_type": "code",
   "execution_count": 6,
   "metadata": {
    "ExecuteTime": {
     "end_time": "2021-01-29T11:18:59.653552Z",
     "start_time": "2021-01-29T11:18:59.643102Z"
    }
   },
   "outputs": [],
   "source": [
    "results_df = pd.DataFrame(model_morgan4.cv_results_)\n",
    "results_df[\"param_lam\"] = results_df[\"param_lam\"].astype(float)\n",
    "\n",
    "selected_cols = [col for col in results_df.columns if 'split' not in col and 'std' not in col]\n",
    "#results_df.loc[:, selected_cols].sort_values(\"param_lam\")"
   ]
  },
  {
   "cell_type": "code",
   "execution_count": 7,
   "metadata": {
    "ExecuteTime": {
     "end_time": "2021-01-29T11:19:00.475835Z",
     "start_time": "2021-01-29T11:18:59.655722Z"
    }
   },
   "outputs": [
    {
     "data": {
      "image/png": "[encoded data removed]",
      "text/plain": [
       "<Figure size 700x300 with 1 Axes>"
      ]
     },
     "metadata": {},
     "output_type": "display_data"
    },
    {
     "data": {
      "text/plain": [
       "<ggplot: (8734334280968)>"
      ]
     },
     "execution_count": 7,
     "metadata": {},
     "output_type": "execute_result"
    }
   ],
   "source": [
    "from plotnine import *\n",
    "\n",
    "g = (ggplot(results_df, aes(x='param_lam', y=\"mean_fit_time\")) + \n",
    "     geom_col(color=\"blue\", fill=\"blue\", alpha=0.6) +\n",
    "     scale_x_continuous(name=\"Paramater $\\lambda$\",\n",
    "                        breaks=[x/100 for x in range(13)]) +\n",
    "     scale_y_continuous(name=\"Mean CV fit time (seconds)\") +\n",
    "     theme_bw() + \n",
    "     theme(figure_size = (7, 3), axis_title=element_text(size=10)) + \n",
    "     ggtitle(\"The higher the $\\lambda$ the faster the fit time\"))\n",
    "\n",
    "g"
   ]
  },
  {
   "cell_type": "code",
   "execution_count": 8,
   "metadata": {
    "ExecuteTime": {
     "end_time": "2021-01-29T11:19:01.223764Z",
     "start_time": "2021-01-29T11:19:00.477955Z"
    }
   },
   "outputs": [
    {
     "data": {
      "image/png": "[encoded data removed]",
      "text/plain": [
       "<Figure size 800x300 with 1 Axes>"
      ]
     },
     "metadata": {},
     "output_type": "display_data"
    },
    {
     "data": {
      "text/plain": [
       "<ggplot: (-9223363302521012897)>"
      ]
     },
     "execution_count": 8,
     "metadata": {},
     "output_type": "execute_result"
    }
   ],
   "source": [
    "g = (ggplot(results_df, aes(x='param_lam')) + \n",
    "     geom_rect(xmin=0.025, xmax=0.065, ymin=0.5, ymax=0.75, fill='#212121', alpha=0.015) +\n",
    "     geom_point(aes(y=\"-mean_train_neg_mean_absolute_error\"), \n",
    "                size=4, color=\"blue\", fill=\"blue\", alpha=1) +\n",
    "     geom_line(mapping=aes(y=\"-mean_train_neg_mean_absolute_error\"), \n",
    "               size=1, color=\"blue\", alpha=0.5) +\n",
    "     geom_point(aes(y=\"-mean_test_neg_mean_absolute_error\"), \n",
    "                size=4, color=\"green\", fill=\"green\", alpha=1) +\n",
    "     geom_line(mapping=aes(y=\"-mean_test_neg_mean_absolute_error\"), \n",
    "               size=1, color=\"green\", alpha=0.5) +\n",
    "     scale_x_continuous(name=\"Paramater $\\lambda$\", breaks=[x/100 for x in range(12)]) +\n",
    "     scale_y_continuous(name=\"Mean absolute error ($pIC_{50}$)\") +\n",
    "     annotate(\"text\", label=\"Testing\", color=\"green\", \n",
    "              alpha=0.75, x=0.015, y=0.74, size=10, angle=1, fontweight=\"normal\") +\n",
    "     annotate(\"text\", label=\"Training\", color=\"blue\", \n",
    "              alpha=0.75, x=0.015, y=0.66, size=10, angle=0, fontweight=\"normal\") +\n",
    "      annotate(\"text\", label=\"Zone of best results\", color=\"#212121\", \n",
    "          alpha=0.755, x=0.0455, y=0.765, size=10, fontweight=\"normal\") +\n",
    "     theme_bw() + \n",
    "     theme(figure_size = (8, 3), axis_title=element_text(size=10)))\n",
    "\n",
    "g"
   ]
  },
  {
   "cell_type": "code",
   "execution_count": 9,
   "metadata": {
    "ExecuteTime": {
     "end_time": "2021-01-29T11:19:05.787082Z",
     "start_time": "2021-01-29T11:19:01.225763Z"
    }
   },
   "outputs": [],
   "source": [
    "# Save model to disk\n",
    "\n",
    "from sklearn.externals import joblib\n",
    "joblib.dump(model_morgan4, \"../data/model_modsar_morgan4.joblib\")\n",
    "results_df.to_csv(\"../data/model_modsar_morgan4_results.csv\")"
   ]
  },
  {
   "cell_type": "code",
   "execution_count": 154,
   "metadata": {
    "ExecuteTime": {
     "end_time": "2021-02-07T19:56:44.538459Z",
     "start_time": "2021-02-07T19:56:42.227625Z"
    }
   },
   "outputs": [],
   "source": [
    "from sklearn.externals import joblib\n",
    "model_morgan4 = joblib.load(\"../data/model_modsar_morgan4.joblib\")"
   ]
  },
  {
   "cell_type": "markdown",
   "metadata": {},
   "source": [
    "**Evaluate fitting**\n",
    "\n",
    "Apply modSAR predictions to the entire dataset, to assess fitting accuracy.\n",
    "\n",
    "The second model, trained on Morgan fingerprints with radius=4 seem to have produced pretty similar but slightly better results"
   ]
  },
  {
   "cell_type": "code",
   "execution_count": 4,
   "metadata": {
    "ExecuteTime": {
     "end_time": "2021-02-03T22:18:50.253510Z",
     "start_time": "2021-02-03T22:18:49.283325Z"
    }
   },
   "outputs": [
    {
     "name": "stdout",
     "output_type": "stream",
     "text": [
      "MAE: 0.62 (+- 0.63)\n"
     ]
    },
    {
     "data": {
      "text/plain": [
       "<AxesSubplot:>"
      ]
     },
     "execution_count": 4,
     "metadata": {},
     "output_type": "execute_result"
    },
    {
     "data": {
      "image/png": "[encoded data removed]",
      "text/plain": [
       "<Figure size 432x288 with 1 Axes>"
      ]
     },
     "metadata": {
      "needs_background": "light"
     },
     "output_type": "display_data"
    }
   ],
   "source": [
    "y_predicted = model_morgan4.predict(dataset_morgan4.X)\n",
    "error = y_predicted - dataset_morgan4.y[\"pIC50\"]\n",
    "print(\"MAE: %.2f (+- %.2f)\" % \n",
    "      (mean_absolute_error(dataset_morgan4.y, y_predicted),\n",
    "       np.std(abs(error))))\n",
    "\n",
    "pd.Series(abs(error)).hist()"
   ]
  },
  {
   "cell_type": "markdown",
   "metadata": {},
   "source": [
    "# Inspection of the Graph\n",
    "\n",
    "[ModSAR algorithm](http://link.springer.com/10.1007/s10822-019-00228-6) represents the chemical structures as a network. Pairs of compounds are connected are linked if their similarity is above a certain threshold that is automatically identified by the algorithm for every dataset.\n",
    "\n",
    "In this example, the optimal threshold was found to be $t_alpha > 0.2$"
   ]
  },
  {
   "cell_type": "code",
   "execution_count": 168,
   "metadata": {
    "ExecuteTime": {
     "end_time": "2021-03-14T19:43:54.967916Z",
     "start_time": "2021-03-14T19:43:54.962256Z"
    }
   },
   "outputs": [],
   "source": [
    "modsar_alg = model_morgan2.best_estimator_\n",
    "\n",
    "graph = modsar_alg.instance_graph\n",
    "\n",
    "graph.vs['Series'] = dataset_morgan2.metadata['Series'].values"
   ]
  },
  {
   "cell_type": "code",
   "execution_count": 80,
   "metadata": {
    "ExecuteTime": {
     "end_time": "2021-03-14T18:49:05.099157Z",
     "start_time": "2021-03-14T18:49:05.091214Z"
    }
   },
   "outputs": [
    {
     "data": {
      "text/plain": [
       "0.2"
      ]
     },
     "execution_count": 80,
     "metadata": {},
     "output_type": "execute_result"
    }
   ],
   "source": [
    "modsar_alg.threshold"
   ]
  },
  {
   "cell_type": "code",
   "execution_count": 198,
   "metadata": {
    "ExecuteTime": {
     "end_time": "2021-02-08T00:05:26.456937Z",
     "start_time": "2021-02-08T00:05:26.434354Z"
    }
   },
   "outputs": [],
   "source": [
    "import igraph\n",
    "igraph.save(graph, \"../data/model_modsar_morgan2_graph.gml\")"
   ]
  },
  {
   "cell_type": "markdown",
   "metadata": {},
   "source": [
    "What did the model produce? What does it say about the data?\n",
    "\n",
    "We can inspect the graph produced by modSAR to have a first look at the data:"
   ]
  },
  {
   "cell_type": "markdown",
   "metadata": {},
   "source": [
    "## Visualisation\n",
    "\n",
    "**How many clusters/modules did it find?**\n",
    "\n",
    "In network science modules are often also called communities"
   ]
  },
  {
   "cell_type": "code",
   "execution_count": 169,
   "metadata": {
    "ExecuteTime": {
     "end_time": "2021-03-14T19:43:57.615722Z",
     "start_time": "2021-03-14T19:43:57.602066Z"
    },
    "scrolled": true
   },
   "outputs": [
    {
     "data": {
      "text/plain": [
       "m01          121\n",
       "m02          117\n",
       "m03           52\n",
       "m04           47\n",
       "m05            8\n",
       "singleton      2\n",
       "dtype: int64"
      ]
     },
     "execution_count": 169,
     "metadata": {},
     "output_type": "execute_result"
    }
   ],
   "source": [
    "module_sizes = pd.Series(graph.vs['community']).value_counts()\n",
    "module_sizes"
   ]
  },
  {
   "cell_type": "markdown",
   "metadata": {},
   "source": [
    "Modules m05 and m06 are the most numerous. Modules m02 and m04 are singletons: molecules in these modules are so different to the others that they do not belong to any major module."
   ]
  },
  {
   "cell_type": "markdown",
   "metadata": {},
   "source": [
    "**What does the graph look like?**"
   ]
  },
  {
   "cell_type": "code",
   "execution_count": 16,
   "metadata": {
    "ExecuteTime": {
     "end_time": "2021-03-14T14:34:30.755995Z",
     "start_time": "2021-03-14T14:34:27.670897Z"
    }
   },
   "outputs": [],
   "source": [
    "import igraph \n",
    "\n",
    "layout = graph.layout(\"kamada_kawai\", maxiter=800, kkconst=5000)\n",
    "#layout = graph.layout(\"graphopt\")"
   ]
  },
  {
   "cell_type": "code",
   "execution_count": 77,
   "metadata": {
    "ExecuteTime": {
     "end_time": "2021-03-14T18:45:04.243961Z",
     "start_time": "2021-03-14T18:45:04.241229Z"
    }
   },
   "outputs": [],
   "source": [
    "largest_modules = pd.Series(graph.vs[\"community\"]).value_counts()"
   ]
  },
  {
   "cell_type": "markdown",
   "metadata": {},
   "source": [
    "**Rename modules**\n",
    "\n",
    "m01 -> largest module\n",
    "\n",
    "m02 -> second largest module\n",
    "\n",
    "..."
   ]
  },
  {
   "cell_type": "code",
   "execution_count": 19,
   "metadata": {
    "ExecuteTime": {
     "end_time": "2021-03-14T14:35:11.183538Z",
     "start_time": "2021-03-14T14:35:11.174993Z"
    }
   },
   "outputs": [],
   "source": [
    "equiv = {dict_entry[0]: \"m%02d\" % (i + 1) if dict_entry[1] > 1 else \"singleton\"\n",
    "         for i, dict_entry in enumerate(largest_modules.to_dict().items())\n",
    "        }\n",
    "graph.vs[\"community\"] = [equiv[mod] if mod in equiv.keys() else 'other' for mod in graph.vs[\"louvain\"] ]"
   ]
  },
  {
   "cell_type": "code",
   "execution_count": 76,
   "metadata": {
    "ExecuteTime": {
     "end_time": "2021-03-14T18:44:44.681981Z",
     "start_time": "2021-03-14T18:44:44.665008Z"
    }
   },
   "outputs": [
    {
     "data": {
      "text/plain": [
       "m01          121\n",
       "m02          117\n",
       "m03           52\n",
       "m04           47\n",
       "m05            8\n",
       "singleton      2\n",
       "dtype: int64"
      ]
     },
     "execution_count": 76,
     "metadata": {},
     "output_type": "execute_result"
    }
   ],
   "source": [
    "pd.Series(graph.vs[\"community\"]).value_counts()"
   ]
  },
  {
   "cell_type": "code",
   "execution_count": 20,
   "metadata": {
    "ExecuteTime": {
     "end_time": "2021-03-14T14:35:17.500803Z",
     "start_time": "2021-03-14T14:35:17.482615Z"
    }
   },
   "outputs": [],
   "source": [
    "import igraph\n",
    "igraph.save(graph, \"../data/model_modsar_morgan2_graph.gml\")"
   ]
  },
  {
   "cell_type": "code",
   "execution_count": 23,
   "metadata": {
    "ExecuteTime": {
     "end_time": "2021-03-14T14:35:56.079200Z",
     "start_time": "2021-03-14T14:35:56.066272Z"
    }
   },
   "outputs": [
    {
     "data": {
      "text/html": [
       "</p>Modules:</p><span style=\"display: inline; background-color: #1B9E77;padding: 10px; border: 1px solid gray;\">m01</span><span style=\"display: inline; background-color: #D95F02;padding: 10px; border: 1px solid gray;\">m02</span><span style=\"display: inline; background-color: #7570B3;padding: 10px; border: 1px solid gray;\">m03</span><span style=\"display: inline; background-color: #E7298A;padding: 10px; border: 1px solid gray;\">m04</span><span style=\"display: inline; background-color: #66A61E;padding: 10px; border: 1px solid gray;\">m05</span><span style=\"display: inline; background-color: #acacac;padding: 10px; border: 1px solid gray;\">singleton</span>"
      ],
      "text/plain": [
       "<IPython.core.display.HTML object>"
      ]
     },
     "metadata": {
      "text/html": {
       "isolated": true
      }
     },
     "output_type": "display_data"
    }
   ],
   "source": [
    "from IPython.display import display, HTML\n",
    "\n",
    "color_dict = {\"m01\": \"#1B9E77\",\n",
    "              \"m02\": \"#D95F02\",\n",
    "              \"m03\": \"#7570B3\",\n",
    "              \"m04\": \"#E7298A\",\n",
    "              \"m05\": \"#66A61E\",\n",
    "              \"singleton\": \"#acacac\",}\n",
    "#               \"m04\": \"#acacac\"}\n",
    "\n",
    "#color_dict = {\"4\": \"#1B9E77\",\n",
    "#              \"1\": \"#D95F02\",\n",
    "#              \"3\": \"#7570B3\",\n",
    "#              \"not4\": \"#E7298A\",\n",
    "#              \"2\": \"#66A61E\",\n",
    "#              \"TB\": \"#E6AB02\",\n",
    "#              \"m02\": \"#A6761D\"}\n",
    "\n",
    "\n",
    "\n",
    "\n",
    "\n",
    "html_base = (\"<span style=\\\"display: inline; background-color: %s;\" \n",
    "            \"padding: 10px; border: 1px solid gray;\\\">%s</span>\")\n",
    "final_html = \"</p>Modules:</p>\"\n",
    "for module, color in color_dict.items():\n",
    "    final_html += html_base % (color, module)\n",
    "    \n",
    "display(HTML(final_html, metadata=dict(isolated=True)))"
   ]
  },
  {
   "cell_type": "code",
   "execution_count": 34,
   "metadata": {
    "ExecuteTime": {
     "end_time": "2021-03-14T14:41:47.733663Z",
     "start_time": "2021-03-14T14:41:46.540479Z"
    }
   },
   "outputs": [
    {
     "data": {
      "image/png": "[encoded data removed]",
      "text/plain": [
       "<IPython.core.display.Image object>"
      ]
     },
     "execution_count": 34,
     "metadata": {},
     "output_type": "execute_result"
    }
   ],
   "source": [
    "from IPython.display import Image\n",
    "\n",
    "igraph.plot(graph, \"../data/model_modsar_morgan2_graph.png\", \n",
    "            layout=layout, vertex_size=6, vertex_label=None, \n",
    "            vertex_color=[color_dict[comm] for comm in graph.vs[\"community\"]],\n",
    "            edge_color=\"#9c9a9a\", edge_curved=True, edge_width=0.2,\n",
    "            background=None,\n",
    "            vertex_frame_width=1.3,\n",
    "            bbox=[700, 400], margin=20)\n",
    "\n",
    "Image(\"/mnt/data/model_modsar_morgan2_graph.png\")"
   ]
  },
  {
   "cell_type": "markdown",
   "metadata": {},
   "source": [
    "**Observations:**\n",
    "\n",
    "- Note how modules m01 and m02 are intraconnected, molecules in these modules are very similar to each other\n",
    "- There are also a lot of inter-connections between these two modules (m01 and m02)\n",
    "- Module m05 seems to represent a set of of compounds similar - but not too similar - to these two main modules\n",
    "- Modules m03 and m04 are very distinct. It is even possible that they could be further broken down into sub-modules"
   ]
  },
  {
   "cell_type": "markdown",
   "metadata": {},
   "source": [
    "## Equivalence OSM Series vs Module\n",
    "\n",
    "OSM data contain different sets of analogues (Series 1 - Series 4). Here we see that the modular structure of the network identified by modSAR captures this heterogeinity automatically. There is a direct relationship between the modules and OSM Series\n",
    "\n",
    "\n",
    "_Minor FIXME: The notebook uses networkx and igraph to handle the graph. It might be best and easier to stick to just one library in the future_"
   ]
  },
  {
   "cell_type": "code",
   "execution_count": 35,
   "metadata": {
    "ExecuteTime": {
     "end_time": "2021-03-14T14:43:06.031987Z",
     "start_time": "2021-03-14T14:42:46.067455Z"
    }
   },
   "outputs": [],
   "source": [
    "import networkx as nx\n",
    "\n",
    "from nx_altair.core import to_pandas_nodes\n",
    "\n",
    "G = nx.read_gml(\"../data/model_modsar_morgan2_graph.gml\")\n",
    "# pos = nx.kamada_kawai_layout(G, scale=0.6)"
   ]
  },
  {
   "cell_type": "code",
   "execution_count": 37,
   "metadata": {
    "ExecuteTime": {
     "end_time": "2021-03-14T14:43:50.106917Z",
     "start_time": "2021-03-14T14:43:49.788778Z"
    }
   },
   "outputs": [
    {
     "data": {
      "text/html": [
       "<div>\n",
       "<style scoped>\n",
       "    .dataframe tbody tr th:only-of-type {\n",
       "        vertical-align: middle;\n",
       "    }\n",
       "\n",
       "    .dataframe tbody tr th {\n",
       "        vertical-align: top;\n",
       "    }\n",
       "\n",
       "    .dataframe thead th {\n",
       "        text-align: right;\n",
       "    }\n",
       "</style>\n",
       "<table border=\"1\" class=\"dataframe\">\n",
       "  <thead>\n",
       "    <tr style=\"text-align: right;\">\n",
       "      <th></th>\n",
       "      <th>x</th>\n",
       "      <th>community</th>\n",
       "      <th>Series</th>\n",
       "      <th>degree</th>\n",
       "      <th>y</th>\n",
       "      <th>louvain</th>\n",
       "      <th>Canonical_Smiles</th>\n",
       "    </tr>\n",
       "  </thead>\n",
       "  <tbody>\n",
       "    <tr>\n",
       "      <th>OSM-A-1</th>\n",
       "      <td>0.4393</td>\n",
       "      <td>m03</td>\n",
       "      <td>1</td>\n",
       "      <td>29</td>\n",
       "      <td>0.181697</td>\n",
       "      <td>m01</td>\n",
       "      <td>Cc1cc(\\C=C\\2/S\\C(=N/c3ccccc3)\\NC2=O)c(C)n1c4cc...</td>\n",
       "    </tr>\n",
       "    <tr>\n",
       "      <th>OSM-A-2</th>\n",
       "      <td>0.560044</td>\n",
       "      <td>m03</td>\n",
       "      <td>1</td>\n",
       "      <td>28</td>\n",
       "      <td>0.177073</td>\n",
       "      <td>m01</td>\n",
       "      <td>Cc1cc(\\C=C\\2/S\\C(=N/c3ccccc3)\\NC2=O)c(C)n1c4cc...</td>\n",
       "    </tr>\n",
       "    <tr>\n",
       "      <th>OSM-A-3</th>\n",
       "      <td>0.432381</td>\n",
       "      <td>m03</td>\n",
       "      <td>1</td>\n",
       "      <td>29</td>\n",
       "      <td>0.221518</td>\n",
       "      <td>m01</td>\n",
       "      <td>Cc1cc(\\C=C\\2/S\\C(=N/c3ccccc3)\\NC2=O)c(C)n1c4cc...</td>\n",
       "    </tr>\n",
       "    <tr>\n",
       "      <th>OSM-E-1</th>\n",
       "      <td>0.351108</td>\n",
       "      <td>m03</td>\n",
       "      <td>1</td>\n",
       "      <td>20</td>\n",
       "      <td>-0.000414354</td>\n",
       "      <td>m01</td>\n",
       "      <td>CN(CC(=O)N)S(=O)(=O)c1cc(C)n(c1C)c2ccc(F)cc2</td>\n",
       "    </tr>\n",
       "    <tr>\n",
       "      <th>OSM-E-2</th>\n",
       "      <td>0.327046</td>\n",
       "      <td>m03</td>\n",
       "      <td>1</td>\n",
       "      <td>22</td>\n",
       "      <td>0.0705779</td>\n",
       "      <td>m01</td>\n",
       "      <td>Cc1cc(c(C)n1c2ccc(F)cc2)S(=O)(=O)NCC(=O)N</td>\n",
       "    </tr>\n",
       "  </tbody>\n",
       "</table>\n",
       "</div>"
      ],
      "text/plain": [
       "                x  ...                                   Canonical_Smiles\n",
       "OSM-A-1    0.4393  ...  Cc1cc(\\C=C\\2/S\\C(=N/c3ccccc3)\\NC2=O)c(C)n1c4cc...\n",
       "OSM-A-2  0.560044  ...  Cc1cc(\\C=C\\2/S\\C(=N/c3ccccc3)\\NC2=O)c(C)n1c4cc...\n",
       "OSM-A-3  0.432381  ...  Cc1cc(\\C=C\\2/S\\C(=N/c3ccccc3)\\NC2=O)c(C)n1c4cc...\n",
       "OSM-E-1  0.351108  ...       CN(CC(=O)N)S(=O)(=O)c1cc(C)n(c1C)c2ccc(F)cc2\n",
       "OSM-E-2  0.327046  ...          Cc1cc(c(C)n1c2ccc(F)cc2)S(=O)(=O)NCC(=O)N\n",
       "\n",
       "[5 rows x 7 columns]"
      ]
     },
     "execution_count": 37,
     "metadata": {},
     "output_type": "execute_result"
    }
   ],
   "source": [
    "molecules_df = to_pandas_nodes(G, pos)\n",
    "\n",
    "molecules_df = pd.merge(molecules_df, \n",
    "                        dataset_morgan2.metadata[[\"Canonical_Smiles\"]], \n",
    "                        left_index=True, \n",
    "                        right_index=True)\n",
    "\n",
    "molecules_df.head()"
   ]
  },
  {
   "cell_type": "code",
   "execution_count": 38,
   "metadata": {
    "ExecuteTime": {
     "end_time": "2021-03-14T14:44:03.062977Z",
     "start_time": "2021-03-14T14:44:03.007168Z"
    }
   },
   "outputs": [
    {
     "data": {
      "text/html": [
       "<div>\n",
       "<style scoped>\n",
       "    .dataframe tbody tr th:only-of-type {\n",
       "        vertical-align: middle;\n",
       "    }\n",
       "\n",
       "    .dataframe tbody tr th {\n",
       "        vertical-align: top;\n",
       "    }\n",
       "\n",
       "    .dataframe thead th {\n",
       "        text-align: right;\n",
       "    }\n",
       "</style>\n",
       "<table border=\"1\" class=\"dataframe\">\n",
       "  <thead>\n",
       "    <tr style=\"text-align: right;\">\n",
       "      <th>OSM Data</th>\n",
       "      <th>Series 1</th>\n",
       "      <th>Series 2</th>\n",
       "      <th>Series 3</th>\n",
       "      <th>Series 4</th>\n",
       "    </tr>\n",
       "    <tr>\n",
       "      <th>Modules</th>\n",
       "      <th></th>\n",
       "      <th></th>\n",
       "      <th></th>\n",
       "      <th></th>\n",
       "    </tr>\n",
       "  </thead>\n",
       "  <tbody>\n",
       "    <tr>\n",
       "      <th>m01</th>\n",
       "      <td>0</td>\n",
       "      <td>0</td>\n",
       "      <td>0</td>\n",
       "      <td>121</td>\n",
       "    </tr>\n",
       "    <tr>\n",
       "      <th>m02</th>\n",
       "      <td>0</td>\n",
       "      <td>1</td>\n",
       "      <td>0</td>\n",
       "      <td>116</td>\n",
       "    </tr>\n",
       "    <tr>\n",
       "      <th>m03</th>\n",
       "      <td>52</td>\n",
       "      <td>0</td>\n",
       "      <td>0</td>\n",
       "      <td>0</td>\n",
       "    </tr>\n",
       "    <tr>\n",
       "      <th>m04</th>\n",
       "      <td>0</td>\n",
       "      <td>0</td>\n",
       "      <td>47</td>\n",
       "      <td>0</td>\n",
       "    </tr>\n",
       "    <tr>\n",
       "      <th>m05</th>\n",
       "      <td>0</td>\n",
       "      <td>0</td>\n",
       "      <td>0</td>\n",
       "      <td>8</td>\n",
       "    </tr>\n",
       "    <tr>\n",
       "      <th>singleton</th>\n",
       "      <td>1</td>\n",
       "      <td>0</td>\n",
       "      <td>1</td>\n",
       "      <td>0</td>\n",
       "    </tr>\n",
       "  </tbody>\n",
       "</table>\n",
       "</div>"
      ],
      "text/plain": [
       "OSM Data   Series 1  Series 2  Series 3  Series 4\n",
       "Modules                                          \n",
       "m01               0         0         0       121\n",
       "m02               0         1         0       116\n",
       "m03              52         0         0         0\n",
       "m04               0         0        47         0\n",
       "m05               0         0         0         8\n",
       "singleton         1         0         1         0"
      ]
     },
     "execution_count": 38,
     "metadata": {},
     "output_type": "execute_result"
    }
   ],
   "source": [
    "osm_series = molecules_df.Series\n",
    "osm_series = osm_series.apply(lambda x: '4' if x == 'not4' else ('1' if x == 'TB' else x))\n",
    "osm_series.name = \"OSM Data\"\n",
    "osm_series = osm_series.apply(lambda x: 'Series '+x)\n",
    "\n",
    "modules = molecules_df.community\n",
    "modules.name = \"Modules\"\n",
    "\n",
    "pd.crosstab(modules, osm_series)"
   ]
  },
  {
   "cell_type": "markdown",
   "metadata": {},
   "source": [
    "## Outlier: S2 compound in S4 module"
   ]
  },
  {
   "cell_type": "code",
   "execution_count": 39,
   "metadata": {
    "ExecuteTime": {
     "end_time": "2021-03-14T14:44:18.248772Z",
     "start_time": "2021-03-14T14:44:18.218703Z"
    }
   },
   "outputs": [
    {
     "data": {
      "text/html": [
       "<div>\n",
       "<style scoped>\n",
       "    .dataframe tbody tr th:only-of-type {\n",
       "        vertical-align: middle;\n",
       "    }\n",
       "\n",
       "    .dataframe tbody tr th {\n",
       "        vertical-align: top;\n",
       "    }\n",
       "\n",
       "    .dataframe thead th {\n",
       "        text-align: right;\n",
       "    }\n",
       "</style>\n",
       "<table border=\"1\" class=\"dataframe\">\n",
       "  <thead>\n",
       "    <tr style=\"text-align: right;\">\n",
       "      <th></th>\n",
       "      <th>x</th>\n",
       "      <th>community</th>\n",
       "      <th>Series</th>\n",
       "      <th>degree</th>\n",
       "      <th>y</th>\n",
       "      <th>louvain</th>\n",
       "      <th>Canonical_Smiles</th>\n",
       "    </tr>\n",
       "  </thead>\n",
       "  <tbody>\n",
       "    <tr>\n",
       "      <th>OSM-S-66</th>\n",
       "      <td>0.105442</td>\n",
       "      <td>m02</td>\n",
       "      <td>2</td>\n",
       "      <td>2</td>\n",
       "      <td>0.151298</td>\n",
       "      <td>m06</td>\n",
       "      <td>C(Sc1nc[nH]n1)c2ccccc2</td>\n",
       "    </tr>\n",
       "  </tbody>\n",
       "</table>\n",
       "</div>"
      ],
      "text/plain": [
       "                 x community Series  ...         y louvain        Canonical_Smiles\n",
       "OSM-S-66  0.105442       m02      2  ...  0.151298     m06  C(Sc1nc[nH]n1)c2ccccc2\n",
       "\n",
       "[1 rows x 7 columns]"
      ]
     },
     "execution_count": 39,
     "metadata": {},
     "output_type": "execute_result"
    }
   ],
   "source": [
    "molecules_df[(molecules_df[\"community\"] == \"m02\") & (molecules_df[\"Series\"] == \"2\")]"
   ]
  },
  {
   "cell_type": "markdown",
   "metadata": {},
   "source": [
    "How does this molecule look like?"
   ]
  },
  {
   "cell_type": "code",
   "execution_count": 63,
   "metadata": {
    "ExecuteTime": {
     "end_time": "2021-03-14T14:51:10.420856Z",
     "start_time": "2021-03-14T14:51:10.401843Z"
    }
   },
   "outputs": [
    {
     "data": {
      "image/png": "[encoded data removed]",
      "text/plain": [
       "<rdkit.Chem.rdchem.Mol at 0x7f96a591b8a0>"
      ]
     },
     "execution_count": 63,
     "metadata": {},
     "output_type": "execute_result"
    }
   ],
   "source": [
    "s2_outlier = Chem.MolFromSmiles(molecules_df.loc[\"OSM-S-66\"][\"Canonical_Smiles\"])\n",
    "s2_outlier"
   ]
  },
  {
   "cell_type": "markdown",
   "metadata": {},
   "source": [
    "How is it related to S4 compounds? What are its neighbours in the graph? And what do they have in common?"
   ]
  },
  {
   "cell_type": "code",
   "execution_count": 64,
   "metadata": {
    "ExecuteTime": {
     "end_time": "2021-03-14T14:51:59.927479Z",
     "start_time": "2021-03-14T14:51:59.824413Z"
    }
   },
   "outputs": [
    {
     "data": {
      "image/png": "[encoded data removed]",
      "text/plain": [
       "<IPython.core.display.Image object>"
      ]
     },
     "execution_count": 64,
     "metadata": {},
     "output_type": "execute_result"
    }
   ],
   "source": [
    "neighs = graph.neighbors(graph.vs.find(label=\"OSM-S-66\"))\n",
    "mols = [s2_outlier]\n",
    "mols_labels = ['S2 compound: OSM-S-66']\n",
    "for idx in neighs:\n",
    "    osm_id = graph.vs[idx][\"label\"]\n",
    "    neighbour_mol = Chem.MolFromSmiles(molecules_df.loc[osm_id][\"Canonical_Smiles\"])\n",
    "    AllChem.GenerateDepictionMatching2DStructure(neighbour_mol, s4_template)\n",
    "    mols.append(neighbour_mol)\n",
    "    mols_labels.append(osm_id)\n",
    "\n",
    "mcs_substructure = Chem.MolFromSmarts(rdFMCS.FindMCS(mols).smartsString)\n",
    "    \n",
    "Draw.MolsToGridImage(mols,legends=mols_labels,\n",
    "                     highlightAtomLists=[mols[i].GetSubstructMatch(mcs_substructure) \n",
    "                                         for i in range(len(mols))] ,\n",
    "                     subImgSize=(250,300), useSVG=False)"
   ]
  },
  {
   "cell_type": "markdown",
   "metadata": {},
   "source": [
    "# Analysis of Modules\n",
    "\n",
    "Now, can we get a sense of what these modules mean? What are the dominant scaffold/structures on each module?\n"
   ]
  },
  {
   "cell_type": "code",
   "execution_count": 65,
   "metadata": {
    "ExecuteTime": {
     "end_time": "2021-03-14T14:52:56.527414Z",
     "start_time": "2021-03-14T14:52:56.471677Z"
    },
    "code_folding": []
   },
   "outputs": [],
   "source": [
    "from rdkit.Chem.Scaffolds import rdScaffoldNetwork\n",
    "from rdkit.Chem.Scaffolds import MurckoScaffold\n",
    "from rdkit.Chem.Draw.MolDrawing import DrawingOptions\n",
    "\n",
    "def get_scaffold_pattern(df, smiles_col='Canonical_Smiles'):\n",
    "    params = rdScaffoldNetwork.ScaffoldNetworkParams() \n",
    "    params.includeGenericScaffolds = False\n",
    "    params.includeGenericBondScaffolds = False\n",
    "    params.includeScaffoldsWithoutAttachments=False\n",
    "    \n",
    "    smiles_mols = [smiles_code for smiles_code in df[smiles_col]]\n",
    "    mols = [Chem.MolFromSmiles(smiles_code) for smiles_code in smiles_mols]\n",
    "    \n",
    "    net = rdScaffoldNetwork.CreateScaffoldNetwork(mols, params)\n",
    "    return net\n",
    "\n",
    "def get_mcs_pattern(df, smiles_col='Canonical_Smiles'):\n",
    "    mols = [Chem.MolFromSmiles(smiles_code) for smiles_code in df[smiles_col]]\n",
    "    res = rdFMCS.FindMCS(mols)\n",
    "    pattern = Chem.MolFromSmarts(res.smartsString)\n",
    "    return pattern\n",
    "\n",
    "def get_representative_scaffold(module_df, smiles_col='Canonical_Smiles'):\n",
    "    \"\"\"\n",
    "    Use rdkit.Chem.Scaffolds.rdScaffoldNetwork to identify the most dominant scaffolds in this module.\n",
    "    \n",
    "    This function returns the most representative scaffolds - the ones present in at least 50% of structures.\n",
    "    \n",
    "    Reference: https://pubs.acs.org/doi/10.1021/acs.jcim.0c00296\n",
    "    \"\"\"\n",
    "    \n",
    "    net = get_scaffold_pattern(module_df, smiles_col)\n",
    "\n",
    "    df = pd.DataFrame({'pattern': net.nodes, 'count': net.counts})\n",
    "    df['pctg'] = df[\"count\"].apply(lambda x: x/module_df.shape[0])\n",
    "    df = df[(df[\"pctg\"] < 1) & (df[\"pctg\"] > 0.5)].copy()\n",
    "    df['pctg'] = df['pctg'].apply(lambda x: \"%.2f %%\" % (100*x))\n",
    "\n",
    "    def generate_depiction(x):\n",
    "        m = Chem.MolFromSmiles(x)\n",
    "        if m.HasSubstructMatch(s4_template):\n",
    "            AllChem.GenerateDepictionMatching2DStructure(m, s4_template)\n",
    "        return m\n",
    "\n",
    "    df[\"scaffold\"] = df[\"pattern\"].apply(generate_depiction)\n",
    "    \n",
    "#     PandasTools.AddMoleculeColumnToFrame(df,'pattern','scaffold',includeFingerprints=True)\n",
    "    return df.sort_values('count', ascending=False)\n",
    "\n",
    "def plot_representative_of_module(df, selected_module, \n",
    "                                  smiles_col='Canonical_Smiles', align_pattern=None, \n",
    "                                  folder=\"/mnt/data/results/OSM_model_round2/\"):\n",
    "    \n",
    "    module_df = df[df['community'] == selected_module]\n",
    "    \n",
    "    module_subgraph = G.subgraph([node[0] for node in G.nodes(data=True) \n",
    "                                  if node[1]['community'] == selected_module])\n",
    "    degrees = pd.DataFrame(sorted(module_subgraph.degree(), key=lambda x: x[1], reverse=True), \n",
    "                           columns=[\"index\",\"node_degree\"])\n",
    "    degrees.set_index(\"index\", inplace=True)\n",
    "    \n",
    "    idx = 0\n",
    "    while idx < len(degrees):\n",
    "        try:\n",
    "            highest_degree_id = degrees.index[idx]\n",
    "            #highest_degree_id = module_df['degree'].astype(int).idxmax()\n",
    "            print(\"Representative molecule of module {} selected: {}\".format(selected_module, highest_degree_id))\n",
    "            highest_degree_mol = Chem.MolFromSmiles(module_df.loc[highest_degree_id]['Canonical_Smiles'])\n",
    "            print(\"Canonical Smiles: \", module_df.loc[highest_degree_id]['Canonical_Smiles'])\n",
    "\n",
    "            module_pattern = get_representative_scaffold(module_df, smiles_col='Canonical_Smiles')\n",
    "            module_pattern = Chem.MolFromSmarts(module_pattern[\"pattern\"].iloc[0])\n",
    "\n",
    "            if align_pattern is not None:\n",
    "                AllChem.Compute2DCoords(align_pattern)\n",
    "                AllChem.GenerateDepictionMatching2DStructure(highest_degree_mol, align_pattern)\n",
    "\n",
    "            matching = highest_degree_mol.GetSubstructMatch(module_pattern)\n",
    "            hit_bonds = []\n",
    "            for bond in module_pattern.GetBonds():\n",
    "                aid1 = matching[bond.GetBeginAtomIdx()]\n",
    "                aid2 = matching[bond.GetEndAtomIdx()]\n",
    "                hit_bonds.append(highest_degree_mol.GetBondBetweenAtoms(aid1,aid2).GetIdx())\n",
    "            break\n",
    "        except Exception as e:\n",
    "            print(e)\n",
    "            idx = idx + 1\n",
    "        \n",
    "        \n",
    "    drawing_opts = DrawingOptions()\n",
    "    drawing_opts.bgColor=None\n",
    "    drawing_opts.colorBonds = False\n",
    "    drawing_opts.includeAtomNumbers = True\n",
    "    \n",
    "    filename = '%s/%s_%s_pattern.png' % (folder, selected_module, highest_degree_id)\n",
    "    print(\"Saving %s\" % filename)\n",
    "    Chem.Draw.MolToFile(highest_degree_mol, filename, size=(400, 300),\n",
    "                        highlightAtoms=matching, highlightBonds=hit_bonds, \n",
    "                        kekulize=True,\n",
    "                        options=drawing_opts)\n",
    "    \n",
    "    return  Chem.Draw.MolToImage(highest_degree_mol,\n",
    "                     size=(400, 300), kekulize=True, \n",
    "                     highlightAtoms=matching, highlightBonds=hit_bonds,\n",
    "                     options=drawing_opts,)\n"
   ]
  },
  {
   "cell_type": "markdown",
   "metadata": {},
   "source": [
    "**Example: Series 4 - Generic Scaffold**\n",
    "\n",
    "Beforing looking at modules, let us select the compounds labelled Series 4 and see which scaffolds are identified"
   ]
  },
  {
   "cell_type": "code",
   "execution_count": 70,
   "metadata": {
    "ExecuteTime": {
     "end_time": "2021-03-14T18:38:20.475914Z",
     "start_time": "2021-03-14T18:38:19.833692Z"
    }
   },
   "outputs": [
    {
     "data": {
      "text/html": [
       "<div>\n",
       "<style scoped>\n",
       "    .dataframe tbody tr th:only-of-type {\n",
       "        vertical-align: middle;\n",
       "    }\n",
       "\n",
       "    .dataframe tbody tr th {\n",
       "        vertical-align: top;\n",
       "    }\n",
       "\n",
       "    .dataframe thead th {\n",
       "        text-align: right;\n",
       "    }\n",
       "</style>\n",
       "<table border=\"1\" class=\"dataframe\">\n",
       "  <thead>\n",
       "    <tr style=\"text-align: right;\">\n",
       "      <th></th>\n",
       "      <th>pattern</th>\n",
       "      <th>count</th>\n",
       "      <th>pctg</th>\n",
       "      <th>scaffold</th>\n",
       "    </tr>\n",
       "  </thead>\n",
       "  <tbody>\n",
       "    <tr>\n",
       "      <th>4</th>\n",
       "      <td>*c1cncc2nnc(-c3ccccc3)n12</td>\n",
       "      <td>178</td>\n",
       "      <td>83.57 %</td>\n",
       "      <td><img data-content=\"rdkit/molecule\" src=\"data:image/png;base64,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\" alt=\"Mol\"/></td>\n",
       "    </tr>\n",
       "    <tr>\n",
       "      <th>13</th>\n",
       "      <td>*c1nnc2cncc(OCCc3ccccc3)n12</td>\n",
       "      <td>120</td>\n",
       "      <td>56.34 %</td>\n",
       "      <td><img data-content=\"rdkit/molecule\" src=\"data:image/png;base64,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\" alt=\"Mol\"/></td>\n",
       "    </tr>\n",
       "  </tbody>\n",
       "</table>\n",
       "</div>"
      ],
      "text/plain": [
       "                        pattern  ...                                           scaffold\n",
       "4     *c1cncc2nnc(-c3ccccc3)n12  ...  <img data-content=\"rdkit/molecule\" src=\"data:i...\n",
       "13  *c1nnc2cncc(OCCc3ccccc3)n12  ...  <img data-content=\"rdkit/molecule\" src=\"data:i...\n",
       "\n",
       "[2 rows x 4 columns]"
      ]
     },
     "execution_count": 70,
     "metadata": {},
     "output_type": "execute_result"
    }
   ],
   "source": [
    "s4_scaffolds = get_representative_scaffold(molecules_df[molecules_df['Series'] == \"4\"])\n",
    "\n",
    "s4_dominant_scaffold = Chem.MolFromSmarts(s4_scaffolds['pattern'].iloc[0])\n",
    "\n",
    "s4_scaffolds"
   ]
  },
  {
   "cell_type": "code",
   "execution_count": 158,
   "metadata": {
    "ExecuteTime": {
     "end_time": "2021-01-31T19:25:05.177636Z",
     "start_time": "2021-01-31T19:25:05.061584Z"
    }
   },
   "outputs": [
    {
     "data": {
      "image/png": "[encoded data removed]",
      "text/plain": [
       "<rdkit.Chem.rdchem.Mol at 0x7f5fd71768f0>"
      ]
     },
     "execution_count": 158,
     "metadata": {},
     "output_type": "execute_result"
    }
   ],
   "source": [
    "s4_pattern = get_mcs_pattern(molecules_df[molecules_df['Series'] == \"4\"])\n",
    "# s4_pattern.Compute2DCoords()\n",
    "s4_pattern"
   ]
  },
  {
   "cell_type": "markdown",
   "metadata": {},
   "source": [
    "## Series 4 modules\n",
    "\n",
    "The first promissing compounds released by MMV and Pfizer were OSM-S-272 and OSM-S-218.\n",
    "\n",
    "OSM-S-272 is present in our dataset and were set into the module m01:"
   ]
  },
  {
   "cell_type": "code",
   "execution_count": 71,
   "metadata": {
    "ExecuteTime": {
     "end_time": "2021-03-14T18:42:52.195843Z",
     "start_time": "2021-03-14T18:42:52.175315Z"
    }
   },
   "outputs": [
    {
     "data": {
      "image/png": "[encoded data removed]",
      "text/plain": [
       "<rdkit.Chem.rdchem.Mol at 0x7f969db8f7b0>"
      ]
     },
     "execution_count": 71,
     "metadata": {},
     "output_type": "execute_result"
    }
   ],
   "source": [
    "mol = Chem.MolFromSmiles(molecules_df[\"Canonical_Smiles\"].loc[\"OSM-S-272\"])\n",
    "AllChem.GenerateDepictionMatching2DStructure(mol, s4_template)\n",
    "mol"
   ]
  },
  {
   "cell_type": "markdown",
   "metadata": {},
   "source": [
    "How many neighbours do this compound have in our graph? And where are they located? In which modules?"
   ]
  },
  {
   "cell_type": "code",
   "execution_count": 72,
   "metadata": {
    "ExecuteTime": {
     "end_time": "2021-03-14T18:42:56.235173Z",
     "start_time": "2021-03-14T18:42:56.227691Z"
    }
   },
   "outputs": [
    {
     "data": {
      "text/plain": [
       "m01    115\n",
       "m02    101\n",
       "dtype: int64"
      ]
     },
     "execution_count": 72,
     "metadata": {},
     "output_type": "execute_result"
    }
   ],
   "source": [
    "pd.Series(graph.vs[graph.neighbors(graph.vs.find(label=\"OSM-S-272\"))][\"community\"]).value_counts()"
   ]
  },
  {
   "cell_type": "markdown",
   "metadata": {},
   "source": [
    "As we can see, almost all chemical compounds in modules m01 (115/121) and m02 (101/116) are connected to OSM-S-272."
   ]
  },
  {
   "cell_type": "markdown",
   "metadata": {},
   "source": [
    "### Module m01\n",
    "\n",
    "Module m01 is the largest in the graph. We can look at the most representative scaffolds and elect a representative molecule from the module.\n",
    "\n",
    "The table below shows the scaffold and the percentage of structures within module m01 that exhibit that substructure"
   ]
  },
  {
   "cell_type": "code",
   "execution_count": 73,
   "metadata": {
    "ExecuteTime": {
     "end_time": "2021-03-14T18:43:57.572030Z",
     "start_time": "2021-03-14T18:43:57.171370Z"
    }
   },
   "outputs": [
    {
     "data": {
      "text/html": [
       "<div>\n",
       "<style scoped>\n",
       "    .dataframe tbody tr th:only-of-type {\n",
       "        vertical-align: middle;\n",
       "    }\n",
       "\n",
       "    .dataframe tbody tr th {\n",
       "        vertical-align: top;\n",
       "    }\n",
       "\n",
       "    .dataframe thead th {\n",
       "        text-align: right;\n",
       "    }\n",
       "</style>\n",
       "<table border=\"1\" class=\"dataframe\">\n",
       "  <thead>\n",
       "    <tr style=\"text-align: right;\">\n",
       "      <th></th>\n",
       "      <th>pattern</th>\n",
       "      <th>count</th>\n",
       "      <th>pctg</th>\n",
       "      <th>scaffold</th>\n",
       "    </tr>\n",
       "  </thead>\n",
       "  <tbody>\n",
       "    <tr>\n",
       "      <th>3</th>\n",
       "      <td>*c1nnc2cncc(OCCc3ccccc3)n12</td>\n",
       "      <td>97</td>\n",
       "      <td>80.17 %</td>\n",
       "      <td><img data-content=\"rdkit/molecule\" src=\"data:image/png;base64,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\" alt=\"Mol\"/></td>\n",
       "    </tr>\n",
       "    <tr>\n",
       "      <th>4</th>\n",
       "      <td>*c1cncc2nnc(-c3ccccc3)n12</td>\n",
       "      <td>67</td>\n",
       "      <td>55.37 %</td>\n",
       "      <td><img data-content=\"rdkit/molecule\" src=\"data:image/png;base64,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\" alt=\"Mol\"/></td>\n",
       "    </tr>\n",
       "  </tbody>\n",
       "</table>\n",
       "</div>"
      ],
      "text/plain": [
       "                       pattern  ...                                           scaffold\n",
       "3  *c1nnc2cncc(OCCc3ccccc3)n12  ...  <img data-content=\"rdkit/molecule\" src=\"data:i...\n",
       "4    *c1cncc2nnc(-c3ccccc3)n12  ...  <img data-content=\"rdkit/molecule\" src=\"data:i...\n",
       "\n",
       "[2 rows x 4 columns]"
      ]
     },
     "execution_count": 73,
     "metadata": {},
     "output_type": "execute_result"
    }
   ],
   "source": [
    "get_representative_scaffold(molecules_df[molecules_df['community'] == \"m01\"])"
   ]
  },
  {
   "cell_type": "markdown",
   "metadata": {},
   "source": [
    "**REPRESENTATIVE MOLECULE**"
   ]
  },
  {
   "cell_type": "code",
   "execution_count": 81,
   "metadata": {
    "ExecuteTime": {
     "end_time": "2021-03-14T18:56:15.912782Z",
     "start_time": "2021-03-14T18:56:15.469459Z"
    }
   },
   "outputs": [
    {
     "name": "stdout",
     "output_type": "stream",
     "text": [
      "Representative molecule of module m01 selected: OSM-S-408\n",
      "Canonical Smiles:  C(Cc1ccccc1)Oc2cncc3nnc(c4ccncc4)n23\n",
      "Saving /mnt/data/results/OSM_model_round2//m01_OSM-S-408_pattern.png\n"
     ]
    },
    {
     "data": {
      "image/png": "[encoded data removed]",
      "text/plain": [
       "<PIL.PngImagePlugin.PngImageFile image mode=RGB size=400x300 at 0x7F96A591EF28>"
      ]
     },
     "execution_count": 81,
     "metadata": {},
     "output_type": "execute_result"
    }
   ],
   "source": [
    "plot_representative_of_module(molecules_df, selected_module='m01', align_pattern=s4_template)"
   ]
  },
  {
   "cell_type": "markdown",
   "metadata": {},
   "source": [
    "### Module m02\n",
    "\n",
    "The second largest module is also composed of OSM Series4 compounds but has a different scaffold compared to m01:"
   ]
  },
  {
   "cell_type": "code",
   "execution_count": 82,
   "metadata": {
    "ExecuteTime": {
     "end_time": "2021-03-14T18:57:03.074472Z",
     "start_time": "2021-03-14T18:57:02.712706Z"
    }
   },
   "outputs": [
    {
     "data": {
      "text/html": [
       "<div>\n",
       "<style scoped>\n",
       "    .dataframe tbody tr th:only-of-type {\n",
       "        vertical-align: middle;\n",
       "    }\n",
       "\n",
       "    .dataframe tbody tr th {\n",
       "        vertical-align: top;\n",
       "    }\n",
       "\n",
       "    .dataframe thead th {\n",
       "        text-align: right;\n",
       "    }\n",
       "</style>\n",
       "<table border=\"1\" class=\"dataframe\">\n",
       "  <thead>\n",
       "    <tr style=\"text-align: right;\">\n",
       "      <th></th>\n",
       "      <th>pattern</th>\n",
       "      <th>count</th>\n",
       "      <th>pctg</th>\n",
       "      <th>scaffold</th>\n",
       "    </tr>\n",
       "  </thead>\n",
       "  <tbody>\n",
       "    <tr>\n",
       "      <th>6</th>\n",
       "      <td>*c1cncc2nnc(-c3ccccc3)n12</td>\n",
       "      <td>111</td>\n",
       "      <td>94.87 %</td>\n",
       "      <td><img data-content=\"rdkit/molecule\" src=\"data:image/png;base64,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\" alt=\"Mol\"/></td>\n",
       "    </tr>\n",
       "  </tbody>\n",
       "</table>\n",
       "</div>"
      ],
      "text/plain": [
       "                     pattern  ...                                           scaffold\n",
       "6  *c1cncc2nnc(-c3ccccc3)n12  ...  <img data-content=\"rdkit/molecule\" src=\"data:i...\n",
       "\n",
       "[1 rows x 4 columns]"
      ]
     },
     "execution_count": 82,
     "metadata": {},
     "output_type": "execute_result"
    }
   ],
   "source": [
    "get_representative_scaffold(molecules_df[molecules_df['community'] == \"m02\"])"
   ]
  },
  {
   "cell_type": "markdown",
   "metadata": {},
   "source": [
    "**REPRESENTATIVE MODULE m02**"
   ]
  },
  {
   "cell_type": "code",
   "execution_count": 83,
   "metadata": {
    "ExecuteTime": {
     "end_time": "2021-03-14T18:57:08.417050Z",
     "start_time": "2021-03-14T18:57:07.975302Z"
    }
   },
   "outputs": [
    {
     "name": "stdout",
     "output_type": "stream",
     "text": [
      "Representative molecule of module m02 selected: OSM-S-175\n",
      "Canonical Smiles:  FC(F)Oc1ccc(cc1)c2nnc3cncc(C(=O)Nc4ccnc(c4)C(F)(F)F)n23\n",
      "Saving /mnt/data/results/OSM_model_round2//m02_OSM-S-175_pattern.png\n"
     ]
    },
    {
     "data": {
      "image/png": "[encoded data removed]",
      "text/plain": [
       "<PIL.PngImagePlugin.PngImageFile image mode=RGB size=400x300 at 0x7F96A9585400>"
      ]
     },
     "execution_count": 83,
     "metadata": {},
     "output_type": "execute_result"
    }
   ],
   "source": [
    "plot_representative_of_module(molecules_df, selected_module='m02', align_pattern=s4_template)"
   ]
  },
  {
   "cell_type": "markdown",
   "metadata": {},
   "source": [
    "### Module m05\n",
    "\n",
    "Another module identified by modSAR that is composed entirely of OSM-S4 molecules is m05:"
   ]
  },
  {
   "cell_type": "code",
   "execution_count": 84,
   "metadata": {
    "ExecuteTime": {
     "end_time": "2021-03-14T18:58:40.667842Z",
     "start_time": "2021-03-14T18:58:40.589324Z"
    }
   },
   "outputs": [
    {
     "data": {
      "text/html": [
       "<div>\n",
       "<style scoped>\n",
       "    .dataframe tbody tr th:only-of-type {\n",
       "        vertical-align: middle;\n",
       "    }\n",
       "\n",
       "    .dataframe tbody tr th {\n",
       "        vertical-align: top;\n",
       "    }\n",
       "\n",
       "    .dataframe thead th {\n",
       "        text-align: right;\n",
       "    }\n",
       "</style>\n",
       "<table border=\"1\" class=\"dataframe\">\n",
       "  <thead>\n",
       "    <tr style=\"text-align: right;\">\n",
       "      <th></th>\n",
       "      <th>pattern</th>\n",
       "      <th>count</th>\n",
       "      <th>pctg</th>\n",
       "      <th>scaffold</th>\n",
       "    </tr>\n",
       "  </thead>\n",
       "  <tbody>\n",
       "    <tr>\n",
       "      <th>4</th>\n",
       "      <td>*c1nccn2c(-c3ccccc3)nnc12</td>\n",
       "      <td>7</td>\n",
       "      <td>87.50 %</td>\n",
       "      <td><img data-content=\"rdkit/molecule\" src=\"data:image/png;base64,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\" alt=\"Mol\"/></td>\n",
       "    </tr>\n",
       "  </tbody>\n",
       "</table>\n",
       "</div>"
      ],
      "text/plain": [
       "                     pattern  ...                                           scaffold\n",
       "4  *c1nccn2c(-c3ccccc3)nnc12  ...  <img data-content=\"rdkit/molecule\" src=\"data:i...\n",
       "\n",
       "[1 rows x 4 columns]"
      ]
     },
     "execution_count": 84,
     "metadata": {},
     "output_type": "execute_result"
    }
   ],
   "source": [
    "get_representative_scaffold(molecules_df[molecules_df['community'] == \"m05\"])"
   ]
  },
  {
   "cell_type": "code",
   "execution_count": 85,
   "metadata": {
    "ExecuteTime": {
     "end_time": "2021-03-14T18:59:39.815796Z",
     "start_time": "2021-03-14T18:59:39.682374Z"
    }
   },
   "outputs": [
    {
     "name": "stdout",
     "output_type": "stream",
     "text": [
      "Representative molecule of module m05 selected: OSM-S-628\n",
      "Canonical Smiles:  C(Cc1ccccc1)Sc2nccn3c(nnc23)c4ccccc4\n",
      "Saving /mnt/data/results/OSM_model_round2//m05_OSM-S-628_pattern.png\n"
     ]
    },
    {
     "data": {
      "image/png": "[encoded data removed]",
      "text/plain": [
       "<PIL.PngImagePlugin.PngImageFile image mode=RGB size=400x300 at 0x7F96A9585710>"
      ]
     },
     "execution_count": 85,
     "metadata": {},
     "output_type": "execute_result"
    }
   ],
   "source": [
    "plot_representative_of_module(molecules_df, selected_module='m05', align_pattern=s4_template)"
   ]
  },
  {
   "cell_type": "markdown",
   "metadata": {
    "ExecuteTime": {
     "end_time": "2021-01-24T23:39:09.076066Z",
     "start_time": "2021-01-24T23:39:09.073551Z"
    }
   },
   "source": [
    "## Series 01 - Module m03\n",
    "\n",
    "We can do the same thing for the module associated with OSM Series 1"
   ]
  },
  {
   "cell_type": "code",
   "execution_count": 86,
   "metadata": {
    "ExecuteTime": {
     "end_time": "2021-03-14T19:00:23.141887Z",
     "start_time": "2021-03-14T19:00:22.963637Z"
    }
   },
   "outputs": [
    {
     "data": {
      "text/html": [
       "<div>\n",
       "<style scoped>\n",
       "    .dataframe tbody tr th:only-of-type {\n",
       "        vertical-align: middle;\n",
       "    }\n",
       "\n",
       "    .dataframe tbody tr th {\n",
       "        vertical-align: top;\n",
       "    }\n",
       "\n",
       "    .dataframe thead th {\n",
       "        text-align: right;\n",
       "    }\n",
       "</style>\n",
       "<table border=\"1\" class=\"dataframe\">\n",
       "  <thead>\n",
       "    <tr style=\"text-align: right;\">\n",
       "      <th></th>\n",
       "      <th>pattern</th>\n",
       "      <th>count</th>\n",
       "      <th>pctg</th>\n",
       "      <th>scaffold</th>\n",
       "    </tr>\n",
       "  </thead>\n",
       "  <tbody>\n",
       "    <tr>\n",
       "      <th>2</th>\n",
       "      <td>*c1ccn(-c2ccccc2)c1</td>\n",
       "      <td>43</td>\n",
       "      <td>82.69 %</td>\n",
       "      <td><img data-content=\"rdkit/molecule\" src=\"data:image/png;base64,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\" alt=\"Mol\"/></td>\n",
       "    </tr>\n",
       "  </tbody>\n",
       "</table>\n",
       "</div>"
      ],
      "text/plain": [
       "               pattern  ...                                           scaffold\n",
       "2  *c1ccn(-c2ccccc2)c1  ...  <img data-content=\"rdkit/molecule\" src=\"data:i...\n",
       "\n",
       "[1 rows x 4 columns]"
      ]
     },
     "execution_count": 86,
     "metadata": {},
     "output_type": "execute_result"
    }
   ],
   "source": [
    "get_representative_scaffold(molecules_df[molecules_df['community'] == \"m03\"])"
   ]
  },
  {
   "cell_type": "code",
   "execution_count": 87,
   "metadata": {
    "ExecuteTime": {
     "end_time": "2021-03-14T19:00:26.534759Z",
     "start_time": "2021-03-14T19:00:26.307824Z"
    }
   },
   "outputs": [
    {
     "name": "stdout",
     "output_type": "stream",
     "text": [
      "Representative molecule of module m03 selected: OSM-S-10\n",
      "Canonical Smiles:  Cc1cc(\\C=C\\2/S\\C(=N/c3ccccc3)\\NC2=O)c(C)n1c4ccc(F)cc4\n",
      "Saving /mnt/data/results/OSM_model_round2//m03_OSM-S-10_pattern.png\n"
     ]
    },
    {
     "data": {
      "image/png": "[encoded data removed]",
      "text/plain": [
       "<PIL.PngImagePlugin.PngImageFile image mode=RGB size=400x300 at 0x7F96A9554A20>"
      ]
     },
     "execution_count": 87,
     "metadata": {},
     "output_type": "execute_result"
    }
   ],
   "source": [
    "plot_representative_of_module(molecules_df, selected_module='m03')"
   ]
  },
  {
   "cell_type": "markdown",
   "metadata": {},
   "source": [
    "## Series 03 - Module m04"
   ]
  },
  {
   "cell_type": "code",
   "execution_count": 88,
   "metadata": {
    "ExecuteTime": {
     "end_time": "2021-03-14T19:00:32.868334Z",
     "start_time": "2021-03-14T19:00:32.743959Z"
    }
   },
   "outputs": [
    {
     "data": {
      "text/html": [
       "<div>\n",
       "<style scoped>\n",
       "    .dataframe tbody tr th:only-of-type {\n",
       "        vertical-align: middle;\n",
       "    }\n",
       "\n",
       "    .dataframe tbody tr th {\n",
       "        vertical-align: top;\n",
       "    }\n",
       "\n",
       "    .dataframe thead th {\n",
       "        text-align: right;\n",
       "    }\n",
       "</style>\n",
       "<table border=\"1\" class=\"dataframe\">\n",
       "  <thead>\n",
       "    <tr style=\"text-align: right;\">\n",
       "      <th></th>\n",
       "      <th>pattern</th>\n",
       "      <th>count</th>\n",
       "      <th>pctg</th>\n",
       "      <th>scaffold</th>\n",
       "    </tr>\n",
       "  </thead>\n",
       "  <tbody>\n",
       "    <tr>\n",
       "      <th>3</th>\n",
       "      <td>*c1cc2ncncc2s1</td>\n",
       "      <td>31</td>\n",
       "      <td>65.96 %</td>\n",
       "      <td><img data-content=\"rdkit/molecule\" src=\"data:image/png;base64,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\" alt=\"Mol\"/></td>\n",
       "    </tr>\n",
       "  </tbody>\n",
       "</table>\n",
       "</div>"
      ],
      "text/plain": [
       "          pattern  ...                                           scaffold\n",
       "3  *c1cc2ncncc2s1  ...  <img data-content=\"rdkit/molecule\" src=\"data:i...\n",
       "\n",
       "[1 rows x 4 columns]"
      ]
     },
     "execution_count": 88,
     "metadata": {},
     "output_type": "execute_result"
    }
   ],
   "source": [
    "get_representative_scaffold(molecules_df[molecules_df['community'] == \"m04\"])"
   ]
  },
  {
   "cell_type": "code",
   "execution_count": 89,
   "metadata": {
    "ExecuteTime": {
     "end_time": "2021-03-14T19:00:35.937507Z",
     "start_time": "2021-03-14T19:00:35.828813Z"
    }
   },
   "outputs": [
    {
     "data": {
      "image/png": "[encoded data removed]",
      "text/plain": [
       "<rdkit.Chem.rdchem.Mol at 0x7f96a95599e0>"
      ]
     },
     "execution_count": 89,
     "metadata": {},
     "output_type": "execute_result"
    }
   ],
   "source": [
    "s3_pattern = get_representative_scaffold(molecules_df[molecules_df['community'] == \"m04\"])\n",
    "Chem.MolFromSmarts(s3_pattern[\"pattern\"].values[0])"
   ]
  },
  {
   "cell_type": "code",
   "execution_count": 45,
   "metadata": {
    "ExecuteTime": {
     "end_time": "2021-02-13T12:36:54.484947Z",
     "start_time": "2021-02-13T12:36:54.325245Z"
    }
   },
   "outputs": [
    {
     "name": "stdout",
     "output_type": "stream",
     "text": [
      "Representative molecule of module m03 selected: OSM-S-106\n",
      "Canonical Smiles:  Nc1ncnc2cc(sc12)c3cccc(c3)S(=O)(=O)N\n",
      "Saving /mnt/data/results/OSM_model_round2//m03_OSM-S-106_pattern.png\n"
     ]
    },
    {
     "data": {
      "image/png": "[encoded data removed]",
      "text/plain": [
       "<PIL.PngImagePlugin.PngImageFile image mode=RGB size=400x300 at 0x7FF79314AE80>"
      ]
     },
     "execution_count": 45,
     "metadata": {},
     "output_type": "execute_result"
    }
   ],
   "source": [
    "plot_representative_of_module(molecules_df, selected_module='m03')"
   ]
  },
  {
   "cell_type": "markdown",
   "metadata": {},
   "source": [
    "# Piecewise models\n",
    "\n",
    "Every module in the graph (m01, m02, m03, etc.) is predicted by a [piecewise model](http://doi.wiley.com/10.1002/minf.201800028) that we can uncover from the `<modSAR obj>.get_model_info()` function."
   ]
  },
  {
   "cell_type": "code",
   "execution_count": 104,
   "metadata": {
    "ExecuteTime": {
     "end_time": "2021-03-14T19:18:42.918876Z",
     "start_time": "2021-03-14T19:18:42.912331Z"
    }
   },
   "outputs": [
    {
     "data": {
      "text/plain": [
       "{'m01': OplraRegularised(lam=0.06, solver_name='cplex'),\n",
       " 'm02': OplraRegularised(lam=0.06, solver_name='cplex'),\n",
       " 'm06': OplraRegularised(lam=0.06, solver_name='cplex'),\n",
       " 'm03': OplraRegularised(lam=0.06, solver_name='cplex'),\n",
       " 'm04': OplraRegularised(lam=0.06, solver_name='cplex'),\n",
       " 'm05': OplraRegularised(lam=0.06, solver_name='cplex'),\n",
       " 'm07': OplraRegularised(lam=0.06, solver_name='cplex')}"
      ]
     },
     "execution_count": 104,
     "metadata": {},
     "output_type": "execute_result"
    }
   ],
   "source": [
    "modsar_alg.models"
   ]
  },
  {
   "cell_type": "markdown",
   "metadata": {},
   "source": [
    "\\#_FIXME: modsar_alg.models is showing the modules original names_"
   ]
  },
  {
   "cell_type": "code",
   "execution_count": 105,
   "metadata": {
    "ExecuteTime": {
     "end_time": "2021-03-14T19:19:45.683800Z",
     "start_time": "2021-03-14T19:19:45.667885Z"
    }
   },
   "outputs": [],
   "source": [
    "def get_linear_equation(row):\n",
    "    coeffs = ['%+.2f %s' % (val, coeff) for coeff, val in row.iteritems() \n",
    "              if not (math.isnan(val) or float(val) == 0) and coeff != 'B']\n",
    "    equation_str = ' '.join(coeffs)\n",
    "    equation_str += \" %+.2f\" % row['B']    \n",
    "    return equation_str  \n",
    "\n",
    "def print_module_equations(coeffs, module):\n",
    "    \"\"\"Helper function to print a clean representation of piecewise equations for informed module\"\"\"\n",
    "    \n",
    "    coeffs = coeffs.query('module == \"%s\"' % module)\n",
    "\n",
    "    for idx, row in coeffs.groupby(['module', 'region']):\n",
    "        equation = get_linear_equation(row.drop(columns=['module', 'region']))\n",
    "        print('Equations for Module %s | Region %d\\n' % (idx[0], idx[1] + 1))\n",
    "        print(\"pIC50 = \", equation)\n",
    "        print()"
   ]
  },
  {
   "cell_type": "code",
   "execution_count": 106,
   "metadata": {
    "ExecuteTime": {
     "end_time": "2021-03-14T19:19:48.143507Z",
     "start_time": "2021-03-14T19:19:48.050189Z"
    }
   },
   "outputs": [],
   "source": [
    "coeff, breakpoints = modsar_alg.get_model_info()"
   ]
  },
  {
   "cell_type": "markdown",
   "metadata": {},
   "source": [
    "The model info informs which feature (which Bit) was used to split the module in two disjoint regions:"
   ]
  },
  {
   "cell_type": "code",
   "execution_count": 108,
   "metadata": {
    "ExecuteTime": {
     "end_time": "2021-03-14T19:19:58.514888Z",
     "start_time": "2021-03-14T19:19:58.483815Z"
    }
   },
   "outputs": [
    {
     "data": {
      "text/html": [
       "<div>\n",
       "<style scoped>\n",
       "    .dataframe tbody tr th:only-of-type {\n",
       "        vertical-align: middle;\n",
       "    }\n",
       "\n",
       "    .dataframe tbody tr th {\n",
       "        vertical-align: top;\n",
       "    }\n",
       "\n",
       "    .dataframe thead th {\n",
       "        text-align: right;\n",
       "    }\n",
       "</style>\n",
       "<table border=\"1\" class=\"dataframe\">\n",
       "  <thead>\n",
       "    <tr style=\"text-align: right;\">\n",
       "      <th></th>\n",
       "      <th>module</th>\n",
       "      <th>region</th>\n",
       "      <th>breakpoints</th>\n",
       "      <th>fStar</th>\n",
       "    </tr>\n",
       "  </thead>\n",
       "  <tbody>\n",
       "    <tr>\n",
       "      <th>0</th>\n",
       "      <td>m01</td>\n",
       "      <td>0</td>\n",
       "      <td>0.01</td>\n",
       "      <td>Bit_0350</td>\n",
       "    </tr>\n",
       "    <tr>\n",
       "      <th>1</th>\n",
       "      <td>m02</td>\n",
       "      <td>0</td>\n",
       "      <td>None</td>\n",
       "      <td>None</td>\n",
       "    </tr>\n",
       "    <tr>\n",
       "      <th>3</th>\n",
       "      <td>m03</td>\n",
       "      <td>0</td>\n",
       "      <td>0.01</td>\n",
       "      <td>Bit_0484</td>\n",
       "    </tr>\n",
       "    <tr>\n",
       "      <th>4</th>\n",
       "      <td>m04</td>\n",
       "      <td>0</td>\n",
       "      <td>None</td>\n",
       "      <td>None</td>\n",
       "    </tr>\n",
       "    <tr>\n",
       "      <th>5</th>\n",
       "      <td>m05</td>\n",
       "      <td>0</td>\n",
       "      <td>0.01</td>\n",
       "      <td>Bit_0890</td>\n",
       "    </tr>\n",
       "    <tr>\n",
       "      <th>2</th>\n",
       "      <td>m06</td>\n",
       "      <td>0</td>\n",
       "      <td>0.01</td>\n",
       "      <td>Bit_0875</td>\n",
       "    </tr>\n",
       "    <tr>\n",
       "      <th>6</th>\n",
       "      <td>m07</td>\n",
       "      <td>0</td>\n",
       "      <td>None</td>\n",
       "      <td>None</td>\n",
       "    </tr>\n",
       "  </tbody>\n",
       "</table>\n",
       "</div>"
      ],
      "text/plain": [
       "  module  region breakpoints     fStar\n",
       "0    m01       0        0.01  Bit_0350\n",
       "1    m02       0        None      None\n",
       "3    m03       0        0.01  Bit_0484\n",
       "4    m04       0        None      None\n",
       "5    m05       0        0.01  Bit_0890\n",
       "2    m06       0        0.01  Bit_0875\n",
       "6    m07       0        None      None"
      ]
     },
     "execution_count": 108,
     "metadata": {},
     "output_type": "execute_result"
    }
   ],
   "source": [
    "breakpoints.sort_values(by=\"module\")"
   ]
  },
  {
   "cell_type": "markdown",
   "metadata": {},
   "source": [
    "The coeff dataframe contains the regression coefficients for each bit"
   ]
  },
  {
   "cell_type": "code",
   "execution_count": 107,
   "metadata": {
    "ExecuteTime": {
     "end_time": "2021-03-14T19:19:50.335466Z",
     "start_time": "2021-03-14T19:19:50.260389Z"
    }
   },
   "outputs": [
    {
     "data": {
      "text/html": [
       "<div>\n",
       "<style scoped>\n",
       "    .dataframe tbody tr th:only-of-type {\n",
       "        vertical-align: middle;\n",
       "    }\n",
       "\n",
       "    .dataframe tbody tr th {\n",
       "        vertical-align: top;\n",
       "    }\n",
       "\n",
       "    .dataframe thead th {\n",
       "        text-align: right;\n",
       "    }\n",
       "</style>\n",
       "<table border=\"1\" class=\"dataframe\">\n",
       "  <thead>\n",
       "    <tr style=\"text-align: right;\">\n",
       "      <th></th>\n",
       "      <th>module</th>\n",
       "      <th>region</th>\n",
       "      <th>Bit_0031</th>\n",
       "      <th>Bit_0036</th>\n",
       "      <th>Bit_0080</th>\n",
       "      <th>Bit_0290</th>\n",
       "      <th>Bit_0332</th>\n",
       "      <th>Bit_0389</th>\n",
       "      <th>Bit_0480</th>\n",
       "      <th>Bit_0703</th>\n",
       "      <th>Bit_0745</th>\n",
       "      <th>Bit_0961</th>\n",
       "      <th>Bit_1017</th>\n",
       "      <th>Bit_0114</th>\n",
       "      <th>Bit_0409</th>\n",
       "      <th>Bit_0768</th>\n",
       "      <th>Bit_0650</th>\n",
       "      <th>Bit_0896</th>\n",
       "      <th>Bit_0926</th>\n",
       "      <th>B</th>\n",
       "    </tr>\n",
       "  </thead>\n",
       "  <tbody>\n",
       "    <tr>\n",
       "      <th>0</th>\n",
       "      <td>m01</td>\n",
       "      <td>0</td>\n",
       "      <td>0.23842</td>\n",
       "      <td>0.191988</td>\n",
       "      <td>-0.189381</td>\n",
       "      <td>0.333412</td>\n",
       "      <td>0.12861</td>\n",
       "      <td>0.207109</td>\n",
       "      <td>0.109993</td>\n",
       "      <td>0.12861</td>\n",
       "      <td>-0.700626</td>\n",
       "      <td>0.092265</td>\n",
       "      <td>0.377418</td>\n",
       "      <td>NaN</td>\n",
       "      <td>NaN</td>\n",
       "      <td>NaN</td>\n",
       "      <td>NaN</td>\n",
       "      <td>NaN</td>\n",
       "      <td>NaN</td>\n",
       "      <td>5.191037</td>\n",
       "    </tr>\n",
       "    <tr>\n",
       "      <th>1</th>\n",
       "      <td>m01</td>\n",
       "      <td>1</td>\n",
       "      <td>0.00000</td>\n",
       "      <td>0.000000</td>\n",
       "      <td>0.000000</td>\n",
       "      <td>0.000000</td>\n",
       "      <td>0.00000</td>\n",
       "      <td>0.000000</td>\n",
       "      <td>0.000000</td>\n",
       "      <td>0.00000</td>\n",
       "      <td>0.000000</td>\n",
       "      <td>0.000000</td>\n",
       "      <td>0.000000</td>\n",
       "      <td>NaN</td>\n",
       "      <td>NaN</td>\n",
       "      <td>NaN</td>\n",
       "      <td>NaN</td>\n",
       "      <td>NaN</td>\n",
       "      <td>NaN</td>\n",
       "      <td>4.301030</td>\n",
       "    </tr>\n",
       "    <tr>\n",
       "      <th>2</th>\n",
       "      <td>m02</td>\n",
       "      <td>0</td>\n",
       "      <td>NaN</td>\n",
       "      <td>NaN</td>\n",
       "      <td>NaN</td>\n",
       "      <td>NaN</td>\n",
       "      <td>NaN</td>\n",
       "      <td>NaN</td>\n",
       "      <td>NaN</td>\n",
       "      <td>NaN</td>\n",
       "      <td>NaN</td>\n",
       "      <td>NaN</td>\n",
       "      <td>NaN</td>\n",
       "      <td>NaN</td>\n",
       "      <td>NaN</td>\n",
       "      <td>NaN</td>\n",
       "      <td>NaN</td>\n",
       "      <td>NaN</td>\n",
       "      <td>NaN</td>\n",
       "      <td>4.607303</td>\n",
       "    </tr>\n",
       "    <tr>\n",
       "      <th>5</th>\n",
       "      <td>m03</td>\n",
       "      <td>0</td>\n",
       "      <td>NaN</td>\n",
       "      <td>NaN</td>\n",
       "      <td>NaN</td>\n",
       "      <td>NaN</td>\n",
       "      <td>NaN</td>\n",
       "      <td>NaN</td>\n",
       "      <td>NaN</td>\n",
       "      <td>NaN</td>\n",
       "      <td>NaN</td>\n",
       "      <td>NaN</td>\n",
       "      <td>NaN</td>\n",
       "      <td>0.10721</td>\n",
       "      <td>-0.09691</td>\n",
       "      <td>0.09691</td>\n",
       "      <td>NaN</td>\n",
       "      <td>NaN</td>\n",
       "      <td>NaN</td>\n",
       "      <td>4.397940</td>\n",
       "    </tr>\n",
       "    <tr>\n",
       "      <th>6</th>\n",
       "      <td>m03</td>\n",
       "      <td>1</td>\n",
       "      <td>NaN</td>\n",
       "      <td>NaN</td>\n",
       "      <td>NaN</td>\n",
       "      <td>NaN</td>\n",
       "      <td>NaN</td>\n",
       "      <td>NaN</td>\n",
       "      <td>NaN</td>\n",
       "      <td>NaN</td>\n",
       "      <td>NaN</td>\n",
       "      <td>NaN</td>\n",
       "      <td>NaN</td>\n",
       "      <td>0.00000</td>\n",
       "      <td>0.00000</td>\n",
       "      <td>0.00000</td>\n",
       "      <td>NaN</td>\n",
       "      <td>NaN</td>\n",
       "      <td>NaN</td>\n",
       "      <td>5.466139</td>\n",
       "    </tr>\n",
       "    <tr>\n",
       "      <th>7</th>\n",
       "      <td>m04</td>\n",
       "      <td>0</td>\n",
       "      <td>NaN</td>\n",
       "      <td>NaN</td>\n",
       "      <td>NaN</td>\n",
       "      <td>NaN</td>\n",
       "      <td>NaN</td>\n",
       "      <td>NaN</td>\n",
       "      <td>NaN</td>\n",
       "      <td>NaN</td>\n",
       "      <td>NaN</td>\n",
       "      <td>NaN</td>\n",
       "      <td>NaN</td>\n",
       "      <td>NaN</td>\n",
       "      <td>NaN</td>\n",
       "      <td>NaN</td>\n",
       "      <td>NaN</td>\n",
       "      <td>NaN</td>\n",
       "      <td>NaN</td>\n",
       "      <td>4.397940</td>\n",
       "    </tr>\n",
       "    <tr>\n",
       "      <th>8</th>\n",
       "      <td>m05</td>\n",
       "      <td>0</td>\n",
       "      <td>NaN</td>\n",
       "      <td>NaN</td>\n",
       "      <td>NaN</td>\n",
       "      <td>NaN</td>\n",
       "      <td>NaN</td>\n",
       "      <td>NaN</td>\n",
       "      <td>NaN</td>\n",
       "      <td>NaN</td>\n",
       "      <td>NaN</td>\n",
       "      <td>NaN</td>\n",
       "      <td>NaN</td>\n",
       "      <td>NaN</td>\n",
       "      <td>NaN</td>\n",
       "      <td>NaN</td>\n",
       "      <td>0.000000</td>\n",
       "      <td>0.000000</td>\n",
       "      <td>0.000000</td>\n",
       "      <td>4.602060</td>\n",
       "    </tr>\n",
       "    <tr>\n",
       "      <th>9</th>\n",
       "      <td>m05</td>\n",
       "      <td>1</td>\n",
       "      <td>NaN</td>\n",
       "      <td>NaN</td>\n",
       "      <td>NaN</td>\n",
       "      <td>NaN</td>\n",
       "      <td>NaN</td>\n",
       "      <td>NaN</td>\n",
       "      <td>NaN</td>\n",
       "      <td>NaN</td>\n",
       "      <td>NaN</td>\n",
       "      <td>NaN</td>\n",
       "      <td>NaN</td>\n",
       "      <td>NaN</td>\n",
       "      <td>NaN</td>\n",
       "      <td>NaN</td>\n",
       "      <td>-0.357678</td>\n",
       "      <td>0.692932</td>\n",
       "      <td>-0.056648</td>\n",
       "      <td>5.357678</td>\n",
       "    </tr>\n",
       "    <tr>\n",
       "      <th>3</th>\n",
       "      <td>m06</td>\n",
       "      <td>0</td>\n",
       "      <td>NaN</td>\n",
       "      <td>NaN</td>\n",
       "      <td>NaN</td>\n",
       "      <td>NaN</td>\n",
       "      <td>NaN</td>\n",
       "      <td>NaN</td>\n",
       "      <td>NaN</td>\n",
       "      <td>NaN</td>\n",
       "      <td>NaN</td>\n",
       "      <td>NaN</td>\n",
       "      <td>NaN</td>\n",
       "      <td>NaN</td>\n",
       "      <td>NaN</td>\n",
       "      <td>NaN</td>\n",
       "      <td>NaN</td>\n",
       "      <td>NaN</td>\n",
       "      <td>NaN</td>\n",
       "      <td>5.000000</td>\n",
       "    </tr>\n",
       "    <tr>\n",
       "      <th>4</th>\n",
       "      <td>m06</td>\n",
       "      <td>1</td>\n",
       "      <td>NaN</td>\n",
       "      <td>NaN</td>\n",
       "      <td>NaN</td>\n",
       "      <td>NaN</td>\n",
       "      <td>NaN</td>\n",
       "      <td>NaN</td>\n",
       "      <td>NaN</td>\n",
       "      <td>NaN</td>\n",
       "      <td>NaN</td>\n",
       "      <td>NaN</td>\n",
       "      <td>NaN</td>\n",
       "      <td>NaN</td>\n",
       "      <td>NaN</td>\n",
       "      <td>NaN</td>\n",
       "      <td>NaN</td>\n",
       "      <td>NaN</td>\n",
       "      <td>NaN</td>\n",
       "      <td>6.153663</td>\n",
       "    </tr>\n",
       "    <tr>\n",
       "      <th>10</th>\n",
       "      <td>m07</td>\n",
       "      <td>0</td>\n",
       "      <td>NaN</td>\n",
       "      <td>NaN</td>\n",
       "      <td>NaN</td>\n",
       "      <td>NaN</td>\n",
       "      <td>NaN</td>\n",
       "      <td>NaN</td>\n",
       "      <td>NaN</td>\n",
       "      <td>NaN</td>\n",
       "      <td>NaN</td>\n",
       "      <td>NaN</td>\n",
       "      <td>NaN</td>\n",
       "      <td>NaN</td>\n",
       "      <td>NaN</td>\n",
       "      <td>NaN</td>\n",
       "      <td>NaN</td>\n",
       "      <td>NaN</td>\n",
       "      <td>NaN</td>\n",
       "      <td>4.602060</td>\n",
       "    </tr>\n",
       "  </tbody>\n",
       "</table>\n",
       "</div>"
      ],
      "text/plain": [
       "   module  region  Bit_0031  Bit_0036  ...  Bit_0650  Bit_0896  Bit_0926         B\n",
       "0     m01       0   0.23842  0.191988  ...       NaN       NaN       NaN  5.191037\n",
       "1     m01       1   0.00000  0.000000  ...       NaN       NaN       NaN  4.301030\n",
       "2     m02       0       NaN       NaN  ...       NaN       NaN       NaN  4.607303\n",
       "5     m03       0       NaN       NaN  ...       NaN       NaN       NaN  4.397940\n",
       "6     m03       1       NaN       NaN  ...       NaN       NaN       NaN  5.466139\n",
       "7     m04       0       NaN       NaN  ...       NaN       NaN       NaN  4.397940\n",
       "8     m05       0       NaN       NaN  ...  0.000000  0.000000  0.000000  4.602060\n",
       "9     m05       1       NaN       NaN  ... -0.357678  0.692932 -0.056648  5.357678\n",
       "3     m06       0       NaN       NaN  ...       NaN       NaN       NaN  5.000000\n",
       "4     m06       1       NaN       NaN  ...       NaN       NaN       NaN  6.153663\n",
       "10    m07       0       NaN       NaN  ...       NaN       NaN       NaN  4.602060\n",
       "\n",
       "[11 rows x 20 columns]"
      ]
     },
     "execution_count": 107,
     "metadata": {},
     "output_type": "execute_result"
    }
   ],
   "source": [
    "coeff.sort_values(by=\"module\")"
   ]
  },
  {
   "cell_type": "code",
   "execution_count": 114,
   "metadata": {
    "ExecuteTime": {
     "end_time": "2021-03-14T19:25:22.991011Z",
     "start_time": "2021-03-14T19:25:22.976274Z"
    }
   },
   "outputs": [],
   "source": [
    "from oplrareg import OplraPyomoModel\n",
    "\n",
    "def get_id_mols_in_module(graph, module):\n",
    "    idx = np.argwhere(np.array(graph.vs[\"louvain\"]) == module).flatten().tolist()\n",
    "    return graph.vs[idx][\"label\"]\n",
    "\n",
    "def get_oplra_model_and_features(modsar_model, module, dataset):\n",
    "    \n",
    "    id_mols = get_id_mols_in_module(modsar_model.instance_graph, module)\n",
    "    data = dataset.X.loc[id_mols]\n",
    "    \n",
    "    oplra_model = modsar_model.models[module]\n",
    "    \n",
    "    fStar = oplra_model.final_model.fStar\n",
    "    selected_features = oplra_model.final_model.get_selected_features(add_fstar=True)\n",
    "    \n",
    "    filtered_X = data.loc[:, selected_features]\n",
    "    \n",
    "    return oplra_model, filtered_X"
   ]
  },
  {
   "cell_type": "code",
   "execution_count": 95,
   "metadata": {
    "ExecuteTime": {
     "end_time": "2021-03-14T19:03:45.921201Z",
     "start_time": "2021-03-14T19:03:45.910991Z"
    }
   },
   "outputs": [],
   "source": [
    "from ipywidgets import interact,fixed,IntSlider\n",
    "def renderFpBit(mol,bitIdx,bitInfo,fn):\n",
    "    bid = bitIdx\n",
    "    return(display(fn(mol,bid,bitInfo)))\n",
    "\n",
    "\n",
    "def show_bits(dataset, id_mols, idx):\n",
    "    smiles = dataset.metadata.Canonical_Smiles.loc[id_mols]\n",
    "    rdkit_mols = [Chem.MolFromSmiles(mol) for mol in smiles]\n",
    "\n",
    "    bi = {}\n",
    "    fp = AllChem.GetMorganFingerprintAsBitVect(rdkit_mols[idx], radius=2, nBits=1024, bitInfo=bi)\n",
    "\n",
    "    bits = list(bi.keys())\n",
    "\n",
    "    return interact(renderFpBit, bitIdx=list(bi.keys()),mol=fixed(rdkit_mols[idx]),\n",
    "             bitInfo=fixed(bi),fn=fixed(Draw.DrawMorganBit));"
   ]
  },
  {
   "cell_type": "markdown",
   "metadata": {},
   "source": [
    "## Example: Module m01\n",
    "\n",
    "So for example, the largest module in the network is m01 (m05 was its original name). By inspecting the `breakpoints` dataframe above, we see that compounds have been split into two subgroups following the rules:\n",
    "\n",
    "\n",
    "$\\text{Bit_0890} = 0$ -> Region 01 (contains 30 chemicals)\n",
    "\n",
    "$\\text{Bit_0890} = 1$ -> Region 02 (contains 91 chemicals)"
   ]
  },
  {
   "cell_type": "code",
   "execution_count": 121,
   "metadata": {
    "ExecuteTime": {
     "end_time": "2021-03-14T19:28:13.590825Z",
     "start_time": "2021-03-14T19:28:13.568068Z"
    }
   },
   "outputs": [
    {
     "data": {
      "text/html": [
       "<div>\n",
       "<style scoped>\n",
       "    .dataframe tbody tr th:only-of-type {\n",
       "        vertical-align: middle;\n",
       "    }\n",
       "\n",
       "    .dataframe tbody tr th {\n",
       "        vertical-align: top;\n",
       "    }\n",
       "\n",
       "    .dataframe thead th {\n",
       "        text-align: right;\n",
       "    }\n",
       "</style>\n",
       "<table border=\"1\" class=\"dataframe\">\n",
       "  <thead>\n",
       "    <tr style=\"text-align: right;\">\n",
       "      <th></th>\n",
       "      <th>Bit_0890</th>\n",
       "    </tr>\n",
       "  </thead>\n",
       "  <tbody>\n",
       "    <tr>\n",
       "      <th>0</th>\n",
       "      <td>30</td>\n",
       "    </tr>\n",
       "    <tr>\n",
       "      <th>1</th>\n",
       "      <td>91</td>\n",
       "    </tr>\n",
       "  </tbody>\n",
       "</table>\n",
       "</div>"
      ],
      "text/plain": [
       "   Bit_0890\n",
       "0        30\n",
       "1        91"
      ]
     },
     "execution_count": 121,
     "metadata": {},
     "output_type": "execute_result"
    }
   ],
   "source": [
    "id_mols = get_id_mols_in_module(graph, \"m05\") #m01 was named m05 originally\n",
    "bit_presence = dataset_morgan2.X.loc[id_mols][\"Bit_0890\"].value_counts()\n",
    "\n",
    "bit_presence.to_frame().sort_index()"
   ]
  },
  {
   "cell_type": "markdown",
   "metadata": {},
   "source": [
    "Now if we look at the piecewise equations that represent these subgroups of module m01:\n",
    "\n",
    "- Compounds in Region 01 are all predicted to be inactive with $pIC_{50} = 4.60$. These compounds do not have bit 0890. \n",
    "- Compounds in Region 02 have the bit 0890 and are predicted by a linear equation that combines other bits: bit_0650, bit_0896, bit_0926. Compounds of this subgroup are predicted to be active if Bit 0896 is present - that is assuming an activity cutoff of $\\ge 2.5 \\mu M$ $(pIC_{50} \\ge  5.60)$"
   ]
  },
  {
   "cell_type": "code",
   "execution_count": 111,
   "metadata": {
    "ExecuteTime": {
     "end_time": "2021-03-14T19:22:27.162624Z",
     "start_time": "2021-03-14T19:22:27.140054Z"
    }
   },
   "outputs": [
    {
     "name": "stdout",
     "output_type": "stream",
     "text": [
      "Equations for Module m05 | Region 1\n",
      "\n",
      "pIC50 =   +4.60\n",
      "\n",
      "Equations for Module m05 | Region 2\n",
      "\n",
      "pIC50 =  -0.36 Bit_0650 +0.69 Bit_0896 -0.06 Bit_0926 +5.36\n",
      "\n"
     ]
    }
   ],
   "source": [
    "print_module_equations(coeff, \"m05\") # m01 was named m05 originally"
   ]
  },
  {
   "cell_type": "markdown",
   "metadata": {},
   "source": [
    "**But What does the Bit 0890 represent? What is the fragment that best expresses it?**"
   ]
  },
  {
   "cell_type": "markdown",
   "metadata": {},
   "source": [
    "\\# TODO: The code below should allow us to visualize the bits\n",
    "\n",
    "https://www.rdkit.org/docs/GettingStartedInPython.html#explaining-bits-from-morgan-fingerprints\n",
    "\n",
    "For some reason, the visualisation of Bit 0890 (below) is not working 🤔\n",
    "\n",
    "Something must be wrong with the custom show_bits function"
   ]
  },
  {
   "cell_type": "code",
   "execution_count": 131,
   "metadata": {
    "ExecuteTime": {
     "end_time": "2021-03-14T19:33:57.134021Z",
     "start_time": "2021-03-14T19:33:57.129093Z"
    },
    "code_folding": [],
    "scrolled": true
   },
   "outputs": [],
   "source": [
    "id_mols_contain_bit = np.array(id_mols)[dataset_morgan2.X.loc[id_mols][\"Bit_0890\"] == 1]\n",
    "\n",
    "#show_bits(dataset_morgan2, id_mols_contain_bit, 50)"
   ]
  },
  {
   "cell_type": "markdown",
   "metadata": {},
   "source": [
    "# WIP:\n",
    "\n",
    "- Investigate piecewise models in depth\n",
    "- Visualise the bits that are associated with an increase in activity within each module\n",
    "- Investigate SHAP values of the piecewise equations (Ref: https://doi.org/10.1007/s10822-020-00314-0)"
   ]
  },
  {
   "cell_type": "markdown",
   "metadata": {},
   "source": [
    "# Other\n",
    "\n",
    "Generating S4 core by hand to align with figure"
   ]
  },
  {
   "cell_type": "code",
   "execution_count": 314,
   "metadata": {
    "ExecuteTime": {
     "end_time": "2021-01-31T20:08:46.293282Z",
     "start_time": "2021-01-31T20:08:46.249460Z"
    }
   },
   "outputs": [
    {
     "name": "stdout",
     "output_type": "stream",
     "text": [
      "SMARTS:  [#6]1:[#7]:[#6]:[#6]:[#7]2:[#6]:1:[#7]:[#7]:[#6]:2\n"
     ]
    },
    {
     "data": {
      "image/png": "[encoded data removed]",
      "text/plain": [
       "<rdkit.Chem.rdchem.Mol at 0x7f5fd712e620>"
      ]
     },
     "execution_count": 314,
     "metadata": {},
     "output_type": "execute_result"
    }
   ],
   "source": [
    "m = Chem.Mol()\n",
    "em = Chem.EditableMol(m)\n",
    "idx0 = em.AddAtom(Chem.Atom(6))\n",
    "idx1 = em.AddAtom(Chem.Atom(7))\n",
    "idx2 = em.AddAtom(Chem.Atom(6))\n",
    "idx3 = em.AddAtom(Chem.Atom(6))\n",
    "# idxEspecial = em.AddAtom(Chem.Atom(0))\n",
    "\n",
    "idx4 = em.AddAtom(Chem.Atom(7))\n",
    "idx5 = em.AddAtom(Chem.Atom(6))\n",
    "idx6 = em.AddAtom(Chem.Atom(7))\n",
    "idx7 = em.AddAtom(Chem.Atom(7))\n",
    "idx8 = em.AddAtom(Chem.Atom(6))\n",
    "# idxEspecial2 = em.AddAtom(Chem.Atom(0))\n",
    "\n",
    "em.AddBond(idx0, idx1, rdkit.Chem.rdchem.BondType.AROMATIC)\n",
    "em.AddBond(idx1, idx2, rdkit.Chem.rdchem.BondType.AROMATIC)\n",
    "em.AddBond(idx2, idx3, rdkit.Chem.rdchem.BondType.AROMATIC)\n",
    "em.AddBond(idx3, idx4, rdkit.Chem.rdchem.BondType.AROMATIC)\n",
    "# em.AddBond(idx3, idxEspecial, rdkit.Chem.rdchem.BondType.UNSPECIFIED)\n",
    "\n",
    "em.AddBond(idx4, idx5, rdkit.Chem.rdchem.BondType.AROMATIC)\n",
    "em.AddBond(idx5, idx0, rdkit.Chem.rdchem.BondType.AROMATIC)\n",
    "em.AddBond(idx5, idx6, rdkit.Chem.rdchem.BondType.AROMATIC)\n",
    "em.AddBond(idx6, idx7, rdkit.Chem.rdchem.BondType.AROMATIC)\n",
    "em.AddBond(idx7, idx8, rdkit.Chem.rdchem.BondType.AROMATIC)\n",
    "em.AddBond(idx8, idx4, rdkit.Chem.rdchem.BondType.AROMATIC)\n",
    "# em.AddBond(idx8, idxEspecial2, rdkit.Chem.rdchem.BondType.UNSPECIFIED)\n",
    "\n",
    "\n",
    "m = em.GetMol()\n",
    "# Chem.SanitizeMol(m)\n",
    "# Chem.AddHs(m)\n",
    "# AllChem.EmbedMolecule(m)\n",
    "# AllChem.MMFFOptimizeMolecule(m)\n",
    "# m.Compute2DCoords()\n",
    "# m.__sssAtoms = [0]\n",
    "\n",
    "print(\"SMARTS: \", Chem.MolToSmarts(m))\n",
    "m = Chem.MolFromSmarts(Chem.MolToSmarts(m))\n",
    "m.__sssAtoms=[3,4,5]\n",
    "AllChem.Compute2DCoords(m)\n",
    "m"
   ]
  }
 ],
 "metadata": {
  "kernelspec": {
   "display_name": "Python 3",
   "language": "python",
   "name": "python3"
  },
  "language_info": {
   "codemirror_mode": {
    "name": "ipython",
    "version": 3
   },
   "file_extension": ".py",
   "mimetype": "text/x-python",
   "name": "python",
   "nbconvert_exporter": "python",
   "pygments_lexer": "ipython3",
   "version": "3.6.5"
  },
  "toc": {
   "nav_menu": {},
   "number_sections": true,
   "sideBar": true,
   "skip_h1_title": false,
   "title_cell": "Table of Contents",
   "title_sidebar": "Contents",
   "toc_cell": false,
   "toc_position": {
    "height": "calc(100% - 180px)",
    "left": "10px",
    "top": "150px",
    "width": "384px"
   },
   "toc_section_display": true,
   "toc_window_display": true
  }
 },
 "nbformat": 4,
 "nbformat_minor": 2
}
