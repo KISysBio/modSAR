{
 "cells": [
  {
   "cell_type": "markdown",
   "id": "c809949d",
   "metadata": {},
   "source": [
    "**OBJECTIVE:** What are modSAR's pIC50 predictions for this set of OSM Series4-derived compounds listed [here](https://github.com/OpenSourceMalaria/Series4_PredictiveModel/issues/29)?\n",
    "\n",
    "**DATE:** 22/07/2021\n",
    "\n",
    "**AUTHOR:** @jonjoncardoso\n",
    "\n",
    "**REFERENCE:**\n",
    "\n",
    "> _Cardoso-Silva, J., Papageorgiou, L. G. & Tsoka, S. **Network-based piecewise linear regression for QSAR modelling.** J. Comput. Aided. Mol. Des. 33, 831–844 (2019). http://link.springer.com/10.1007/s10822-019-00228-6_\n",
    "\n",
    "**NOTE:** The current implementation of the algorithm is different to [the one I used in OSM-S4 competition](https://chemrxiv.org/engage/chemrxiv/article-details/60c751a59abda283a4f8dc53). We're almost finished drafting a paper about this, I will be able to share soon."
   ]
  },
  {
   "cell_type": "code",
   "execution_count": 1,
   "id": "abb715ba",
   "metadata": {
    "ExecuteTime": {
     "end_time": "2021-07-25T15:15:25.554189Z",
     "start_time": "2021-07-25T15:15:20.918165Z"
    }
   },
   "outputs": [],
   "source": [
    "import math\n",
    "import igraph\n",
    "import scipy\n",
    "\n",
    "import seaborn as sns\n",
    "import matplotlib.pyplot as plt\n",
    "\n",
    "import networkx as nx\n",
    "import numpy as np\n",
    "import pandas as pd\n",
    "\n",
    "# Import relevant modSAR classes \n",
    "import modSAR\n",
    "from modSAR.network_algorithms import ModSAR\n",
    "from modSAR.dataset import QSARDataset, QSARDatasetIO\n",
    "\n",
    "# plotnine is the python version of ggplot2\n",
    "from plotnine import *\n",
    "\n",
    "import warnings\n",
    "warnings.filterwarnings(\"ignore\")\n",
    "\n",
    "from rdkit import Chem\n",
    "from rdkit.Chem import AllChem, Draw\n",
    "\n",
    "from rdkit import RDLogger\n",
    "\n",
    "import rdkit.Geometry\n",
    "from rdkit.Chem import rdFMCS, PandasTools\n",
    "from rdkit.Chem.Draw import IPythonConsole \n",
    "from rdkit.Chem import PandasTools\n",
    "\n",
    "from sklearn.metrics import mean_absolute_error, r2_score, mean_squared_error\n",
    "from sklearn.model_selection import RandomizedSearchCV\n",
    "\n",
    "# 2.5uM in Log units\n",
    "CUTOFF_ACTIVITY = - np.log10(2.5e-06)\n",
    "\n",
    "s4_template = Chem.MolFromSmarts('[#6]1:[#7]:[#6]:[#6]:[#7]2:[#6]:1:[#7]:[#7]:[#6]:2')\n",
    "AllChem.Compute2DCoords(s4_template)\n",
    "\n",
    "RDLogger.DisableLog('rdApp.info')\n",
    "\n",
    "from rdkit.Chem import PandasTools\n",
    "\n",
    "%matplotlib inline"
   ]
  },
  {
   "cell_type": "markdown",
   "id": "460ad0dd",
   "metadata": {},
   "source": [
    "# Preprocessing\n",
    "\n",
    "## Data Input"
   ]
  },
  {
   "cell_type": "code",
   "execution_count": 2,
   "id": "8d2f4633",
   "metadata": {
    "ExecuteTime": {
     "end_time": "2021-07-25T15:15:26.364196Z",
     "start_time": "2021-07-25T15:15:25.557595Z"
    }
   },
   "outputs": [],
   "source": [
    "# Place spreadsheet under ./data\n",
    "X = pd.read_excel('/mnt/data/Master Chemical List - new.xlsx')\n",
    "\n",
    "# Compound OSM-S-424 cannot be parsed by RDKit so we remove it from our dataset\n",
    "X = X[X[\"OSM_ID\"] != 'OSM-S-424'].copy()\n",
    "\n",
    "# Activity data is represented by the column `Value` (in uM). Calculate pIC50 from this column:\n",
    "X['pIC50'] = -np.log10(X['Value']* 1e-06)\n",
    "\n",
    "# Save this preprocessed dataset to the ./data folder\n",
    "X.to_excel('/mnt/data/osm_raw_dataset_2021_07_21.xlsx', index = False)"
   ]
  },
  {
   "cell_type": "markdown",
   "id": "e3976790",
   "metadata": {},
   "source": [
    "## Read data above into modSAR package"
   ]
  },
  {
   "cell_type": "code",
   "execution_count": 3,
   "id": "e4d5e909",
   "metadata": {
    "ExecuteTime": {
     "end_time": "2021-07-25T15:15:26.746158Z",
     "start_time": "2021-07-25T15:15:26.367126Z"
    }
   },
   "outputs": [
    {
     "name": "stdout",
     "output_type": "stream",
     "text": [
      "Number of compounds: 477 | Number of unique compounds: 386\n"
     ]
    }
   ],
   "source": [
    "from modSAR.datasource import GenericFileDataSource\n",
    "\n",
    "# Read the bioactivities in a more standard way with modSAR package\n",
    "\n",
    "osm_dataset = GenericFileDataSource(target_id='malaria_osm4', \n",
    "                                    filepath='/mnt/data/osm_raw_dataset_2021_07_21.xlsx', \n",
    "                                    smiles_column='Canonical_Smiles', \n",
    "                                    compound_id_column='OSM_ID', \n",
    "                                    activity_column='pIC50',\n",
    "                                    apply_filter=False)\n",
    "\n",
    "print(\"Number of compounds: %d | Number of unique compounds: %d\" %\n",
    "      (osm_dataset.bioactivities_df.shape[0], osm_dataset.bioactivities_df['OSM_ID'].nunique()))"
   ]
  },
  {
   "cell_type": "code",
   "execution_count": 5,
   "id": "152e15de",
   "metadata": {
    "ExecuteTime": {
     "end_time": "2021-07-22T19:52:35.393225Z",
     "start_time": "2021-07-22T19:52:35.345137Z"
    }
   },
   "outputs": [
    {
     "data": {
      "text/html": [
       "<div>\n",
       "<style scoped>\n",
       "    .dataframe tbody tr th:only-of-type {\n",
       "        vertical-align: middle;\n",
       "    }\n",
       "\n",
       "    .dataframe tbody tr th {\n",
       "        vertical-align: top;\n",
       "    }\n",
       "\n",
       "    .dataframe thead th {\n",
       "        text-align: right;\n",
       "    }\n",
       "</style>\n",
       "<table border=\"1\" class=\"dataframe\">\n",
       "  <thead>\n",
       "    <tr style=\"text-align: right;\">\n",
       "      <th></th>\n",
       "      <th>OSM_ID</th>\n",
       "      <th>Series</th>\n",
       "      <th>Canonical_Smiles</th>\n",
       "      <th>InChIKey</th>\n",
       "      <th>Pfal IC50 (GSK)</th>\n",
       "      <th>Pfal IC50 (Syngene)</th>\n",
       "      <th>Pfal IC50 (Dundee)</th>\n",
       "      <th>Pfal IC50 (Avery)</th>\n",
       "      <th>Pfal (K1) IC50 (Avery)</th>\n",
       "      <th>Pfal IC50 (Ralph)</th>\n",
       "      <th>Pfal IC50 (Guy)</th>\n",
       "      <th>Pfal (K1) IC50 (Guy)</th>\n",
       "      <th>Pfal IC50 (Batra)</th>\n",
       "      <th>Pfal (K1) IC50 (Batra)</th>\n",
       "      <th>Pfal (3D7) IC50 (Broad)</th>\n",
       "      <th>Pfal (Dd2) IC50 (Broad)</th>\n",
       "      <th>Assay</th>\n",
       "      <th>Value</th>\n",
       "      <th>Qualifier</th>\n",
       "      <th>pIC50</th>\n",
       "    </tr>\n",
       "  </thead>\n",
       "  <tbody>\n",
       "    <tr>\n",
       "      <th>0</th>\n",
       "      <td>OSM-S-5</td>\n",
       "      <td>1</td>\n",
       "      <td>Cc1cc(C(=O)OCC(N)=O)c(C)n1-c1ccc(F)cc1</td>\n",
       "      <td>YSUCFIZUNLQZDX-UHFFFAOYSA-N</td>\n",
       "      <td>0.818; 0.177</td>\n",
       "      <td>NaN</td>\n",
       "      <td>NaN</td>\n",
       "      <td>0.404</td>\n",
       "      <td>0.375</td>\n",
       "      <td>0.61</td>\n",
       "      <td>NaN</td>\n",
       "      <td>NaN</td>\n",
       "      <td>0.581</td>\n",
       "      <td>0.641</td>\n",
       "      <td>NaN</td>\n",
       "      <td>NaN</td>\n",
       "      <td>Pfal IC50 (GSK)</td>\n",
       "      <td>0.818</td>\n",
       "      <td>0</td>\n",
       "      <td>6.087247</td>\n",
       "    </tr>\n",
       "    <tr>\n",
       "      <th>1</th>\n",
       "      <td>OSM-S-5</td>\n",
       "      <td>1</td>\n",
       "      <td>Cc1cc(C(=O)OCC(N)=O)c(C)n1-c1ccc(F)cc1</td>\n",
       "      <td>YSUCFIZUNLQZDX-UHFFFAOYSA-N</td>\n",
       "      <td>0.818; 0.177</td>\n",
       "      <td>NaN</td>\n",
       "      <td>NaN</td>\n",
       "      <td>0.404</td>\n",
       "      <td>0.375</td>\n",
       "      <td>0.61</td>\n",
       "      <td>NaN</td>\n",
       "      <td>NaN</td>\n",
       "      <td>0.581</td>\n",
       "      <td>0.641</td>\n",
       "      <td>NaN</td>\n",
       "      <td>NaN</td>\n",
       "      <td>Pfal IC50 (GSK)</td>\n",
       "      <td>0.177</td>\n",
       "      <td>0</td>\n",
       "      <td>6.752027</td>\n",
       "    </tr>\n",
       "    <tr>\n",
       "      <th>2</th>\n",
       "      <td>OSM-S-5</td>\n",
       "      <td>1</td>\n",
       "      <td>Cc1cc(C(=O)OCC(N)=O)c(C)n1-c1ccc(F)cc1</td>\n",
       "      <td>YSUCFIZUNLQZDX-UHFFFAOYSA-N</td>\n",
       "      <td>0.818; 0.177</td>\n",
       "      <td>NaN</td>\n",
       "      <td>NaN</td>\n",
       "      <td>0.404</td>\n",
       "      <td>0.375</td>\n",
       "      <td>0.61</td>\n",
       "      <td>NaN</td>\n",
       "      <td>NaN</td>\n",
       "      <td>0.581</td>\n",
       "      <td>0.641</td>\n",
       "      <td>NaN</td>\n",
       "      <td>NaN</td>\n",
       "      <td>Pfal IC50 (Avery)</td>\n",
       "      <td>0.404</td>\n",
       "      <td>0</td>\n",
       "      <td>6.393619</td>\n",
       "    </tr>\n",
       "  </tbody>\n",
       "</table>\n",
       "</div>"
      ],
      "text/plain": [
       "    OSM_ID Series  ... Qualifier     pIC50\n",
       "0  OSM-S-5      1  ...         0  6.087247\n",
       "1  OSM-S-5      1  ...         0  6.752027\n",
       "2  OSM-S-5      1  ...         0  6.393619\n",
       "\n",
       "[3 rows x 20 columns]"
      ]
     },
     "execution_count": 5,
     "metadata": {},
     "output_type": "execute_result"
    }
   ],
   "source": [
    "# Have a look at the dataframe\n",
    "osm_dataset.bioactivities_df.head(3)"
   ]
  },
  {
   "cell_type": "code",
   "execution_count": 6,
   "id": "77d5de8a",
   "metadata": {
    "ExecuteTime": {
     "end_time": "2021-07-22T19:52:40.645966Z",
     "start_time": "2021-07-22T19:52:40.473563Z"
    }
   },
   "outputs": [
    {
     "data": {
      "text/plain": [
       "<AxesSubplot:>"
      ]
     },
     "execution_count": 6,
     "metadata": {},
     "output_type": "execute_result"
    },
    {
     "data": {
      "image/png": "[encoded data removed]",
      "text/plain": [
       "<Figure size 432x288 with 1 Axes>"
      ]
     },
     "metadata": {
      "needs_background": "light"
     },
     "output_type": "display_data"
    }
   ],
   "source": [
    "# Quick look into the distribution of pIC50 activity\n",
    "osm_dataset.bioactivities_df['pIC50'].hist()"
   ]
  },
  {
   "cell_type": "markdown",
   "id": "0300d4fd",
   "metadata": {},
   "source": [
    "## Fingerprinting"
   ]
  },
  {
   "cell_type": "code",
   "execution_count": 7,
   "id": "f4b4a9e2",
   "metadata": {
    "ExecuteTime": {
     "end_time": "2021-07-22T19:53:45.614007Z",
     "start_time": "2021-07-22T19:53:09.872720Z"
    }
   },
   "outputs": [],
   "source": [
    "osm_morgan4_dataset = osm_dataset.build_qsar_dataset(type=\"morgan4\", calculate_similarity=False)"
   ]
  },
  {
   "cell_type": "markdown",
   "id": "2be98d83",
   "metadata": {},
   "source": [
    "**Save dataset**"
   ]
  },
  {
   "cell_type": "code",
   "execution_count": 8,
   "id": "f3b230a2",
   "metadata": {
    "ExecuteTime": {
     "end_time": "2021-07-22T19:54:00.692437Z",
     "start_time": "2021-07-22T19:53:45.617697Z"
    }
   },
   "outputs": [],
   "source": [
    "QSARDatasetIO.write(osm_morgan4_dataset, filepath='/mnt/data/osm_qsar_dataset_morgan4.xlsx')"
   ]
  },
  {
   "cell_type": "markdown",
   "id": "741e6cf8",
   "metadata": {},
   "source": [
    "## Create dataset for ML"
   ]
  },
  {
   "cell_type": "code",
   "execution_count": 4,
   "id": "32fb153c",
   "metadata": {
    "ExecuteTime": {
     "end_time": "2021-07-25T15:15:40.617424Z",
     "start_time": "2021-07-25T15:15:32.431270Z"
    }
   },
   "outputs": [],
   "source": [
    "dataset_morgan4 = \\\n",
    "    QSARDatasetIO.load(dataset_name='OSM4',\n",
    "                       activity_sheetname='activity',\n",
    "                       smiles_column='Canonical_Smiles',\n",
    "                       id_column='OSM_ID',\n",
    "                       filepath='/mnt/data/osm_qsar_dataset_morgan4.xlsx',\n",
    "                       calculate_similarity=False)"
   ]
  },
  {
   "cell_type": "markdown",
   "id": "63dceb75",
   "metadata": {},
   "source": [
    "# Model Fitting"
   ]
  },
  {
   "cell_type": "code",
   "execution_count": 16,
   "id": "14b67689",
   "metadata": {
    "ExecuteTime": {
     "end_time": "2021-07-25T17:57:44.742180Z",
     "start_time": "2021-07-25T17:57:44.738985Z"
    },
    "scrolled": true
   },
   "outputs": [],
   "source": [
    "modsar_alg = ModSAR(lam=0.005, metadata=dataset_morgan4.metadata, solver_name=\"glpk\")\n",
    "modsar_alg.fit(dataset_morgan4.X, dataset_morgan4.y)"
   ]
  },
  {
   "cell_type": "markdown",
   "id": "0e984048",
   "metadata": {},
   "source": [
    "**Save resulting network**"
   ]
  },
  {
   "cell_type": "code",
   "execution_count": 14,
   "id": "b19f1555",
   "metadata": {
    "ExecuteTime": {
     "end_time": "2021-07-22T20:01:50.192488Z",
     "start_time": "2021-07-22T20:01:50.080749Z"
    }
   },
   "outputs": [],
   "source": [
    "igraph.save(modsar_alg.instance_graph, \"/mnt/data/model_modsar_morgan4_graph.gml\")"
   ]
  },
  {
   "cell_type": "markdown",
   "id": "5d63acf4",
   "metadata": {},
   "source": [
    "**Plot network**"
   ]
  },
  {
   "cell_type": "code",
   "execution_count": 20,
   "id": "18cbc97a",
   "metadata": {
    "ExecuteTime": {
     "end_time": "2021-07-22T20:04:09.676136Z",
     "start_time": "2021-07-22T20:03:43.881155Z"
    }
   },
   "outputs": [],
   "source": [
    "from nx_altair.core import to_pandas_nodes\n",
    "\n",
    "#TODO: In the future, reduce reading and writing by using only one network framework, either igraph or networkx\n",
    "G = nx.read_gml(\"/mnt/data/model_modsar_morgan4_graph.gml\")\n",
    "pos = nx.kamada_kawai_layout(G, scale=0.6)"
   ]
  },
  {
   "cell_type": "code",
   "execution_count": 43,
   "id": "ff7bf5b5",
   "metadata": {
    "ExecuteTime": {
     "end_time": "2021-07-22T20:10:51.339632Z",
     "start_time": "2021-07-22T20:10:51.097778Z"
    }
   },
   "outputs": [
    {
     "data": {
      "text/html": [
       "<div>\n",
       "<style scoped>\n",
       "    .dataframe tbody tr th:only-of-type {\n",
       "        vertical-align: middle;\n",
       "    }\n",
       "\n",
       "    .dataframe tbody tr th {\n",
       "        vertical-align: top;\n",
       "    }\n",
       "\n",
       "    .dataframe thead th {\n",
       "        text-align: right;\n",
       "    }\n",
       "</style>\n",
       "<table border=\"1\" class=\"dataframe\">\n",
       "  <thead>\n",
       "    <tr style=\"text-align: right;\">\n",
       "      <th></th>\n",
       "      <th>louvain</th>\n",
       "      <th>y</th>\n",
       "      <th>x</th>\n",
       "      <th>community</th>\n",
       "      <th>degree</th>\n",
       "      <th>Series</th>\n",
       "      <th>Canonical_Smiles</th>\n",
       "    </tr>\n",
       "  </thead>\n",
       "  <tbody>\n",
       "    <tr>\n",
       "      <th>OSM-S-5</th>\n",
       "      <td>m01</td>\n",
       "      <td>0.110772</td>\n",
       "      <td>0.312699</td>\n",
       "      <td>m01</td>\n",
       "      <td>23</td>\n",
       "      <td>1</td>\n",
       "      <td>Cc1cc(C(=O)OCC(N)=O)c(C)n1-c1ccc(F)cc1</td>\n",
       "    </tr>\n",
       "    <tr>\n",
       "      <th>OSM-L-1</th>\n",
       "      <td>m01</td>\n",
       "      <td>0.134794</td>\n",
       "      <td>0.569626</td>\n",
       "      <td>m01</td>\n",
       "      <td>28</td>\n",
       "      <td>1</td>\n",
       "      <td>Cc1cc(/C=C2\\S/C(=N\\c3ccccc3)N(c3ccccc3)C2=O)c(...</td>\n",
       "    </tr>\n",
       "    <tr>\n",
       "      <th>OSM-S-109</th>\n",
       "      <td>m01</td>\n",
       "      <td>0.212031</td>\n",
       "      <td>0.564901</td>\n",
       "      <td>m01</td>\n",
       "      <td>28</td>\n",
       "      <td>1</td>\n",
       "      <td>Cc1cc(/C=C2\\S/C(=N\\c3ccccc3)NC2=O)c(C)n1-c1ccc...</td>\n",
       "    </tr>\n",
       "    <tr>\n",
       "      <th>OSM-S-110</th>\n",
       "      <td>m01</td>\n",
       "      <td>0.217593</td>\n",
       "      <td>0.535778</td>\n",
       "      <td>m01</td>\n",
       "      <td>28</td>\n",
       "      <td>1</td>\n",
       "      <td>Cc1cc(/C=C2\\S/C(=N\\c3cccc(O)c3)NC2=O)c(C)n1-c1...</td>\n",
       "    </tr>\n",
       "    <tr>\n",
       "      <th>OSM-S-111</th>\n",
       "      <td>m01</td>\n",
       "      <td>0.255197</td>\n",
       "      <td>0.542157</td>\n",
       "      <td>m01</td>\n",
       "      <td>28</td>\n",
       "      <td>1</td>\n",
       "      <td>COc1ccc(-n2c(C)cc(/C=C3\\S/C(=N\\c4ccccc4)NC3=O)...</td>\n",
       "    </tr>\n",
       "  </tbody>\n",
       "</table>\n",
       "</div>"
      ],
      "text/plain": [
       "          louvain  ...                                   Canonical_Smiles\n",
       "OSM-S-5       m01  ...             Cc1cc(C(=O)OCC(N)=O)c(C)n1-c1ccc(F)cc1\n",
       "OSM-L-1       m01  ...  Cc1cc(/C=C2\\S/C(=N\\c3ccccc3)N(c3ccccc3)C2=O)c(...\n",
       "OSM-S-109     m01  ...  Cc1cc(/C=C2\\S/C(=N\\c3ccccc3)NC2=O)c(C)n1-c1ccc...\n",
       "OSM-S-110     m01  ...  Cc1cc(/C=C2\\S/C(=N\\c3cccc(O)c3)NC2=O)c(C)n1-c1...\n",
       "OSM-S-111     m01  ...  COc1ccc(-n2c(C)cc(/C=C3\\S/C(=N\\c4ccccc4)NC3=O)...\n",
       "\n",
       "[5 rows x 7 columns]"
      ]
     },
     "execution_count": 43,
     "metadata": {},
     "output_type": "execute_result"
    }
   ],
   "source": [
    "molecules_df = to_pandas_nodes(G, pos)\n",
    "\n",
    "molecules_df = pd.merge(molecules_df, \n",
    "                        dataset_morgan4.metadata[[\"Series\", \"Canonical_Smiles\"]], \n",
    "                        left_index=True, \n",
    "                        right_index=True)\n",
    "\n",
    "molecules_df.head()"
   ]
  },
  {
   "cell_type": "code",
   "execution_count": 44,
   "id": "ad2c6465",
   "metadata": {
    "ExecuteTime": {
     "end_time": "2021-07-22T20:10:53.641899Z",
     "start_time": "2021-07-22T20:10:53.297476Z"
    }
   },
   "outputs": [
    {
     "data": {
      "text/plain": [
       "<matplotlib.legend.Legend at 0x7f8663fb5e20>"
      ]
     },
     "execution_count": 44,
     "metadata": {},
     "output_type": "execute_result"
    },
    {
     "data": {
      "image/png": "[encoded data removed]",
      "text/plain": [
       "<Figure size 792x504 with 1 Axes>"
      ]
     },
     "metadata": {
      "needs_background": "light"
     },
     "output_type": "display_data"
    }
   ],
   "source": [
    "plt.figure(figsize=[11,7])\n",
    "\n",
    "net_plot = sns.scatterplot(data =  molecules_df, x = 'x', y = 'y', hue = 'community')\n",
    "\n",
    "sns.despine(fig=None, ax=None, top=True, right=True, left=True, bottom=True, offset=None, trim=True)\n",
    "\n",
    "net_plot.set(xticklabels=[]) \n",
    "net_plot.set(xlabel=None)\n",
    "net_plot.tick_params(bottom=False)  # remove the ticks\n",
    "\n",
    "net_plot.set(yticklabels=[]) \n",
    "net_plot.set(ylabel=None)\n",
    "net_plot.tick_params(left=False)  # remove the ticks\n",
    "\n",
    "plt.legend(bbox_to_anchor=(1.05,1), loc=2, borderaxespad=0.)"
   ]
  },
  {
   "cell_type": "markdown",
   "id": "733b21cf",
   "metadata": {},
   "source": [
    "**Correspondence of modules above to OSM Series**"
   ]
  },
  {
   "cell_type": "code",
   "execution_count": 45,
   "id": "1289c6fb",
   "metadata": {
    "ExecuteTime": {
     "end_time": "2021-07-22T20:10:55.823381Z",
     "start_time": "2021-07-22T20:10:55.777157Z"
    }
   },
   "outputs": [
    {
     "data": {
      "text/html": [
       "<div>\n",
       "<style scoped>\n",
       "    .dataframe tbody tr th:only-of-type {\n",
       "        vertical-align: middle;\n",
       "    }\n",
       "\n",
       "    .dataframe tbody tr th {\n",
       "        vertical-align: top;\n",
       "    }\n",
       "\n",
       "    .dataframe thead th {\n",
       "        text-align: right;\n",
       "    }\n",
       "</style>\n",
       "<table border=\"1\" class=\"dataframe\">\n",
       "  <thead>\n",
       "    <tr style=\"text-align: right;\">\n",
       "      <th>OSM Data</th>\n",
       "      <th>Series 1</th>\n",
       "      <th>Series 2</th>\n",
       "      <th>Series 3</th>\n",
       "      <th>Series 4</th>\n",
       "    </tr>\n",
       "    <tr>\n",
       "      <th>Modules</th>\n",
       "      <th></th>\n",
       "      <th></th>\n",
       "      <th></th>\n",
       "      <th></th>\n",
       "    </tr>\n",
       "  </thead>\n",
       "  <tbody>\n",
       "    <tr>\n",
       "      <th>m01</th>\n",
       "      <td>52</td>\n",
       "      <td>0</td>\n",
       "      <td>0</td>\n",
       "      <td>0</td>\n",
       "    </tr>\n",
       "    <tr>\n",
       "      <th>m02</th>\n",
       "      <td>0</td>\n",
       "      <td>1</td>\n",
       "      <td>0</td>\n",
       "      <td>128</td>\n",
       "    </tr>\n",
       "    <tr>\n",
       "      <th>m03</th>\n",
       "      <td>0</td>\n",
       "      <td>0</td>\n",
       "      <td>0</td>\n",
       "      <td>115</td>\n",
       "    </tr>\n",
       "    <tr>\n",
       "      <th>m04</th>\n",
       "      <td>0</td>\n",
       "      <td>0</td>\n",
       "      <td>48</td>\n",
       "      <td>0</td>\n",
       "    </tr>\n",
       "    <tr>\n",
       "      <th>m05</th>\n",
       "      <td>0</td>\n",
       "      <td>0</td>\n",
       "      <td>0</td>\n",
       "      <td>33</td>\n",
       "    </tr>\n",
       "    <tr>\n",
       "      <th>m06</th>\n",
       "      <td>0</td>\n",
       "      <td>0</td>\n",
       "      <td>0</td>\n",
       "      <td>7</td>\n",
       "    </tr>\n",
       "    <tr>\n",
       "      <th>m07</th>\n",
       "      <td>1</td>\n",
       "      <td>0</td>\n",
       "      <td>0</td>\n",
       "      <td>0</td>\n",
       "    </tr>\n",
       "    <tr>\n",
       "      <th>m08</th>\n",
       "      <td>0</td>\n",
       "      <td>0</td>\n",
       "      <td>1</td>\n",
       "      <td>0</td>\n",
       "    </tr>\n",
       "  </tbody>\n",
       "</table>\n",
       "</div>"
      ],
      "text/plain": [
       "OSM Data  Series 1  Series 2  Series 3  Series 4\n",
       "Modules                                         \n",
       "m01             52         0         0         0\n",
       "m02              0         1         0       128\n",
       "m03              0         0         0       115\n",
       "m04              0         0        48         0\n",
       "m05              0         0         0        33\n",
       "m06              0         0         0         7\n",
       "m07              1         0         0         0\n",
       "m08              0         0         1         0"
      ]
     },
     "execution_count": 45,
     "metadata": {},
     "output_type": "execute_result"
    }
   ],
   "source": [
    "osm_series = molecules_df.Series\n",
    "osm_series = osm_series.apply(lambda x: '4' if x == 'not4' else ('1' if x == 'TB' else x))\n",
    "osm_series.name = \"OSM Data\"\n",
    "osm_series = osm_series.apply(lambda x: 'Series '+x)\n",
    "\n",
    "modules = molecules_df.community\n",
    "modules.name = \"Modules\"\n",
    "\n",
    "pd.crosstab(modules, osm_series)"
   ]
  },
  {
   "cell_type": "markdown",
   "id": "6cbc0e21",
   "metadata": {},
   "source": [
    "# Load generated molecules"
   ]
  },
  {
   "cell_type": "code",
   "execution_count": 10,
   "id": "44672862",
   "metadata": {
    "ExecuteTime": {
     "end_time": "2021-07-25T15:37:53.693353Z",
     "start_time": "2021-07-25T15:37:53.645761Z"
    }
   },
   "outputs": [
    {
     "data": {
      "text/html": [
       "<div>\n",
       "<style scoped>\n",
       "    .dataframe tbody tr th:only-of-type {\n",
       "        vertical-align: middle;\n",
       "    }\n",
       "\n",
       "    .dataframe tbody tr th {\n",
       "        vertical-align: top;\n",
       "    }\n",
       "\n",
       "    .dataframe thead th {\n",
       "        text-align: right;\n",
       "    }\n",
       "</style>\n",
       "<table border=\"1\" class=\"dataframe\">\n",
       "  <thead>\n",
       "    <tr style=\"text-align: right;\">\n",
       "      <th></th>\n",
       "      <th>original_id</th>\n",
       "      <th>canonical_smiles</th>\n",
       "      <th>potency_mu</th>\n",
       "      <th>potency_sigma</th>\n",
       "      <th>LogD_mu</th>\n",
       "      <th>LogD_sigma</th>\n",
       "      <th>potency_prob_success</th>\n",
       "      <th>LogD_prob_success</th>\n",
       "      <th>prob_success</th>\n",
       "    </tr>\n",
       "  </thead>\n",
       "  <tbody>\n",
       "    <tr>\n",
       "      <th>0</th>\n",
       "      <td>1976</td>\n",
       "      <td>Fc1ccc(CCOc2cncc3nnc(-c4cnc5[nH]ccc5c4)n23)cc1F</td>\n",
       "      <td>6.410090</td>\n",
       "      <td>0.511403</td>\n",
       "      <td>2.586254</td>\n",
       "      <td>0.626126</td>\n",
       "      <td>0.129416</td>\n",
       "      <td>0.961385</td>\n",
       "      <td>0.124418</td>\n",
       "    </tr>\n",
       "    <tr>\n",
       "      <th>1</th>\n",
       "      <td>1600</td>\n",
       "      <td>Fc1ccc(CCOc2cncc3nnc(-c4ccc(Cl)c(C(F)(F)F)c4)n...</td>\n",
       "      <td>6.100415</td>\n",
       "      <td>0.717659</td>\n",
       "      <td>3.045698</td>\n",
       "      <td>0.852658</td>\n",
       "      <td>0.133930</td>\n",
       "      <td>0.836710</td>\n",
       "      <td>0.112061</td>\n",
       "    </tr>\n",
       "    <tr>\n",
       "      <th>2</th>\n",
       "      <td>1868</td>\n",
       "      <td>COc1cc(-c2nnc3cncc(OCCc4ccc(F)c(F)c4)n23)cc(C)n1</td>\n",
       "      <td>6.264949</td>\n",
       "      <td>0.557937</td>\n",
       "      <td>2.274607</td>\n",
       "      <td>0.664370</td>\n",
       "      <td>0.109530</td>\n",
       "      <td>0.944680</td>\n",
       "      <td>0.103471</td>\n",
       "    </tr>\n",
       "    <tr>\n",
       "      <th>3</th>\n",
       "      <td>1548</td>\n",
       "      <td>Fc1ccc(CCOc2cncc3nnc(-c4cccc5cccnc45)n23)cc1F</td>\n",
       "      <td>5.525821</td>\n",
       "      <td>1.037767</td>\n",
       "      <td>3.050681</td>\n",
       "      <td>0.604868</td>\n",
       "      <td>0.100941</td>\n",
       "      <td>0.922753</td>\n",
       "      <td>0.093144</td>\n",
       "    </tr>\n",
       "  </tbody>\n",
       "</table>\n",
       "</div>"
      ],
      "text/plain": [
       "   original_id  ... prob_success\n",
       "0         1976  ...     0.124418\n",
       "1         1600  ...     0.112061\n",
       "2         1868  ...     0.103471\n",
       "3         1548  ...     0.093144\n",
       "\n",
       "[4 rows x 9 columns]"
      ]
     },
     "execution_count": 10,
     "metadata": {},
     "output_type": "execute_result"
    }
   ],
   "source": [
    "gen_df = pd.read_csv(\"/mnt/data/enamine_boronics_virtual_lib.csv\")\n",
    "gen_df = gen_df.rename(columns={\"smiles\": \"canonical_smiles\",\"Unnamed: 0\": \"original_id\"})\n",
    "gen_df.head(4)"
   ]
  },
  {
   "cell_type": "markdown",
   "id": "e267bddb",
   "metadata": {},
   "source": [
    "## Compute fingerprints for these compounds"
   ]
  },
  {
   "cell_type": "code",
   "execution_count": 11,
   "id": "9328f25f",
   "metadata": {
    "ExecuteTime": {
     "end_time": "2021-07-25T15:38:04.929162Z",
     "start_time": "2021-07-25T15:37:55.151399Z"
    }
   },
   "outputs": [
    {
     "name": "stderr",
     "output_type": "stream",
     "text": [
      "100%|██████████| 99/99 [00:09<00:00, 10.18it/s]\n"
     ]
    }
   ],
   "source": [
    "import tqdm\n",
    "\n",
    "def compute_fingerprints(df):\n",
    "    nBits = 1024\n",
    "    radius = 2\n",
    "    smiles = df['canonical_smiles']\n",
    "\n",
    "    descriptors_df = pd.DataFrame(columns=['Bit_%04d' % x for x in range(nBits)],\n",
    "                                  index=df.index, dtype=int)\n",
    "    for i in tqdm.tqdm(range(len(smiles))):\n",
    "        try:\n",
    "            molecule = AllChem.MolFromSmiles(smiles.iloc[i])\n",
    "            fingerprint = AllChem.GetMorganFingerprintAsBitVect(molecule, radius, nBits=nBits)\n",
    "        except Exception:\n",
    "            raise ValueError(\"Error parsing molecule %s\" % (smiles.index[i]))\n",
    "        for j in range(nBits):\n",
    "            descriptors_df.iloc[i][j] = int(fingerprint.ToBitString()[j])\n",
    "    return descriptors_df\n",
    "\n",
    "descriptors_df = compute_fingerprints(gen_df)"
   ]
  },
  {
   "cell_type": "markdown",
   "id": "ec34b69e",
   "metadata": {},
   "source": [
    "## Predict pIC50 values using modSAR"
   ]
  },
  {
   "cell_type": "code",
   "execution_count": 12,
   "id": "865e600c",
   "metadata": {
    "ExecuteTime": {
     "end_time": "2021-07-25T15:38:05.730089Z",
     "start_time": "2021-07-25T15:38:05.498045Z"
    }
   },
   "outputs": [],
   "source": [
    "pred = modsar_alg.predict(descriptors_df)"
   ]
  },
  {
   "cell_type": "markdown",
   "id": "69c09c5c",
   "metadata": {},
   "source": [
    "## How does that compare to current predictions?"
   ]
  },
  {
   "cell_type": "code",
   "execution_count": 13,
   "id": "1309ccb1",
   "metadata": {
    "ExecuteTime": {
     "end_time": "2021-07-25T15:38:08.389390Z",
     "start_time": "2021-07-25T15:38:07.441255Z"
    }
   },
   "outputs": [
    {
     "data": {
      "image/png": "[encoded data removed]",
      "text/plain": [
       "<Figure size 1000x600 with 1 Axes>"
      ]
     },
     "metadata": {},
     "output_type": "display_data"
    },
    {
     "data": {
      "text/plain": [
       "<ggplot: (8742748296744)>"
      ]
     },
     "execution_count": 13,
     "metadata": {},
     "output_type": "execute_result"
    }
   ],
   "source": [
    "from plotnine import *\n",
    "\n",
    "def get_pctg_str(xs):\n",
    "    return [\"%.2f%%\" % (100*x) for x in xs]\n",
    " \n",
    "\n",
    "plot_df = gen_df.copy()\n",
    "plot_df[\"modSAR_pred\"] = pred\n",
    "#plot_df = plot_df.sort_values(by=[\"potency_mu\"], ascending=False).head(20)\n",
    "\n",
    "x_interval = 0.5\n",
    "y_interval = 0.5\n",
    "\n",
    "x_breaks = np.arange(np.around(plot_df[\"modSAR_pred\"].min(), 1), \n",
    "                     np.around(plot_df[\"modSAR_pred\"].max(), 1) + x_interval,\n",
    "                     0.5)\n",
    "x_breaks = np.append(x_breaks, np.around(CUTOFF_ACTIVITY, 1))\n",
    "\n",
    "y_breaks = np.arange(np.around(plot_df[\"potency_mu\"].min(), 1), \n",
    "                     np.around(plot_df[\"potency_mu\"].max(), 1) + y_interval,\n",
    "                     0.5)\n",
    "y_breaks = np.append(y_breaks, np.around(CUTOFF_ACTIVITY, 1))\n",
    "\n",
    "g = (ggplot(plot_df, \n",
    "            aes(x=\"modSAR_pred\", y=\"potency_mu\", \n",
    "                fill=\"potency_prob_success\", \n",
    "                size=\"potency_prob_success\")) + \n",
    "     geom_point(alpha=0.7) + \n",
    "     geom_label(data=plot_df.sort_values(\"potency_prob_success\", ascending=False).head(10),\n",
    "                mapping=aes(label=\"original_id\", y=\"potency_mu+0.05\"),\n",
    "                size=8, alpha=0.6) +\n",
    "     geom_vline(xintercept=CUTOFF_ACTIVITY, alpha=0.5, color=\"#33a5dd\") +\n",
    "     geom_hline(yintercept=CUTOFF_ACTIVITY, alpha=0.5, color=\"#33a5dd\") +\n",
    "     \n",
    "     scale_fill_gradient2(name=\"Evariste prob. success\",\n",
    "                          low=\"#f0f0f0\", high=\"#33a5dd\", \n",
    "                          limits=(0, 0.16),\n",
    "                          breaks=np.arange(0, 0.2, 0.05),\n",
    "                          labels=get_pctg_str) +\n",
    "     scale_size(name=\"Evariste prob. success\",\n",
    "                limits=(0, 0.16),\n",
    "                breaks=list(reversed(np.arange(0, 0.2, 0.05))),\n",
    "                labels=get_pctg_str) +\n",
    "     theme_bw() + \n",
    "     scale_x_continuous(name=\"modSAR\", breaks=x_breaks) +\n",
    "     scale_y_continuous(name=\"Evariste technologies model\", breaks=y_breaks) +\n",
    "     ggtitle(\"Comparison of pIC50 predictions\\nhighlighting Evariste Tech's high probability compounds\") +\n",
    "     theme(figure_size=(10, 6),\n",
    "           plot_title=element_text(hjust = -0.1),\n",
    "           panel_grid_minor=element_blank()))\n",
    "\n",
    "g"
   ]
  },
  {
   "cell_type": "markdown",
   "id": "25de7283",
   "metadata": {},
   "source": [
    "## Save results"
   ]
  },
  {
   "cell_type": "code",
   "execution_count": 68,
   "id": "18cc364f",
   "metadata": {
    "ExecuteTime": {
     "end_time": "2021-07-22T20:16:12.452714Z",
     "start_time": "2021-07-22T20:16:12.441241Z"
    }
   },
   "outputs": [],
   "source": [
    "plot_df[[\"original_id\", \"canonical_smiles\", \"modSAR_pred\"]].to_csv(\"/mnt/data/2021_07_21_modSAR_predictions.csv\", index=False)"
   ]
  },
  {
   "cell_type": "markdown",
   "id": "01c5d4a7",
   "metadata": {},
   "source": [
    "# Plot compounds by original_id"
   ]
  },
  {
   "cell_type": "code",
   "execution_count": 70,
   "id": "2c202acf",
   "metadata": {
    "ExecuteTime": {
     "end_time": "2021-07-22T20:22:57.609285Z",
     "start_time": "2021-07-22T20:22:57.601292Z"
    }
   },
   "outputs": [],
   "source": [
    "from rdkit.Chem.Draw.MolDrawing import DrawingOptions\n",
    "drawing_opts = DrawingOptions()\n",
    "drawing_opts.bgColor=None\n",
    "drawing_opts.colorBonds = False\n",
    "drawing_opts.includeAtomNumbers = True\n",
    "\n",
    "\n",
    "def plot_compound(original_id, \n",
    "                  df=gen_df, \n",
    "                  id_column=\"original_id\", \n",
    "                  smiles_column=\"canonical_smiles\", \n",
    "                  drawing_opts=drawing_opts):\n",
    "    \n",
    "    mol = Chem.MolFromSmiles(df[df[id_column] == original_id][smiles_column].values[0])\n",
    "    AllChem.Compute2DCoords(s4_template)\n",
    "    AllChem.GenerateDepictionMatching2DStructure(mol, s4_template)\n",
    "    return Chem.Draw.MolToImage(mol, size=(400, 300), kekulize=True, options=drawing_opts,)"
   ]
  },
  {
   "cell_type": "code",
   "execution_count": 201,
   "id": "0237fcd4",
   "metadata": {
    "ExecuteTime": {
     "end_time": "2021-07-22T19:42:17.134939Z",
     "start_time": "2021-07-22T19:42:17.104597Z"
    }
   },
   "outputs": [
    {
     "data": {
      "text/html": [
       "<div>\n",
       "<style scoped>\n",
       "    .dataframe tbody tr th:only-of-type {\n",
       "        vertical-align: middle;\n",
       "    }\n",
       "\n",
       "    .dataframe tbody tr th {\n",
       "        vertical-align: top;\n",
       "    }\n",
       "\n",
       "    .dataframe thead th {\n",
       "        text-align: right;\n",
       "    }\n",
       "</style>\n",
       "<table border=\"1\" class=\"dataframe\">\n",
       "  <thead>\n",
       "    <tr style=\"text-align: right;\">\n",
       "      <th></th>\n",
       "      <th>original_id</th>\n",
       "      <th>canonical_smiles</th>\n",
       "      <th>potency_mu</th>\n",
       "      <th>potency_sigma</th>\n",
       "      <th>LogD_mu</th>\n",
       "      <th>LogD_sigma</th>\n",
       "      <th>potency_prob_success</th>\n",
       "      <th>LogD_prob_success</th>\n",
       "      <th>prob_success</th>\n",
       "    </tr>\n",
       "  </thead>\n",
       "  <tbody>\n",
       "    <tr>\n",
       "      <th>0</th>\n",
       "      <td>1976</td>\n",
       "      <td>Fc1ccc(CCOc2cncc3nnc(-c4cnc5[nH]ccc5c4)n23)cc1F</td>\n",
       "      <td>6.410090</td>\n",
       "      <td>0.511403</td>\n",
       "      <td>2.586254</td>\n",
       "      <td>0.626126</td>\n",
       "      <td>0.129416</td>\n",
       "      <td>0.961385</td>\n",
       "      <td>0.124418</td>\n",
       "    </tr>\n",
       "    <tr>\n",
       "      <th>9</th>\n",
       "      <td>1958</td>\n",
       "      <td>Fc1ccc(CCOc2cncc3nnc(-c4ccc(Cl)c(OC5CC5)c4)n23...</td>\n",
       "      <td>6.425008</td>\n",
       "      <td>0.518666</td>\n",
       "      <td>3.836005</td>\n",
       "      <td>0.811631</td>\n",
       "      <td>0.130499</td>\n",
       "      <td>0.575147</td>\n",
       "      <td>0.075056</td>\n",
       "    </tr>\n",
       "    <tr>\n",
       "      <th>28</th>\n",
       "      <td>1754</td>\n",
       "      <td>Fc1ccc(CCOc2cncc3nnc(-c4ccc(Cl)c(F)c4)n23)cc1F</td>\n",
       "      <td>6.377939</td>\n",
       "      <td>0.347584</td>\n",
       "      <td>2.980568</td>\n",
       "      <td>0.666765</td>\n",
       "      <td>0.047735</td>\n",
       "      <td>0.914343</td>\n",
       "      <td>0.043646</td>\n",
       "    </tr>\n",
       "  </tbody>\n",
       "</table>\n",
       "</div>"
      ],
      "text/plain": [
       "    original_id  ... prob_success\n",
       "0          1976  ...     0.124418\n",
       "9          1958  ...     0.075056\n",
       "28         1754  ...     0.043646\n",
       "\n",
       "[3 rows x 9 columns]"
      ]
     },
     "execution_count": 201,
     "metadata": {},
     "output_type": "execute_result"
    }
   ],
   "source": [
    "gen_df[gen_df[\"potency_mu\"] > 6.3]"
   ]
  },
  {
   "cell_type": "code",
   "execution_count": 72,
   "id": "9fc424ab",
   "metadata": {
    "ExecuteTime": {
     "end_time": "2021-07-22T20:24:21.709050Z",
     "start_time": "2021-07-22T20:24:21.665884Z"
    }
   },
   "outputs": [
    {
     "data": {
      "image/png": "[encoded data removed]",
      "text/plain": [
       "<PIL.PngImagePlugin.PngImageFile image mode=RGB size=400x300 at 0x7F8666F0D0A0>"
      ]
     },
     "execution_count": 72,
     "metadata": {},
     "output_type": "execute_result"
    }
   ],
   "source": [
    "plot_compound(921)"
   ]
  }
 ],
 "metadata": {
  "kernelspec": {
   "display_name": "Python 3 (ipykernel)",
   "language": "python",
   "name": "python3"
  },
  "language_info": {
   "codemirror_mode": {
    "name": "ipython",
    "version": 3
   },
   "file_extension": ".py",
   "mimetype": "text/x-python",
   "name": "python",
   "nbconvert_exporter": "python",
   "pygments_lexer": "ipython3",
   "version": "3.9.5"
  },
  "toc": {
   "base_numbering": 1,
   "nav_menu": {},
   "number_sections": true,
   "sideBar": true,
   "skip_h1_title": false,
   "title_cell": "Table of Contents",
   "title_sidebar": "Contents",
   "toc_cell": false,
   "toc_position": {},
   "toc_section_display": true,
   "toc_window_display": true
  }
 },
 "nbformat": 4,
 "nbformat_minor": 5
}
