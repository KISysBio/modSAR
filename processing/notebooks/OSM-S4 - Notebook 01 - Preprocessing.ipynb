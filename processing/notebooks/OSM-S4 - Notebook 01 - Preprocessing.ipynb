{
 "cells": [
  {
   "cell_type": "markdown",
   "metadata": {},
   "source": [
    "**OBJECTIVE:** Prepare OSM S4 dataset for modelling with modSAR algorithm"
   ]
  },
  {
   "cell_type": "code",
   "execution_count": 1,
   "metadata": {
    "ExecuteTime": {
     "end_time": "2020-11-02T20:18:42.289823Z",
     "start_time": "2020-11-02T20:18:41.191499Z"
    }
   },
   "outputs": [],
   "source": [
    "import math\n",
    "import numpy as np\n",
    "import pandas as pd\n",
    "\n",
    "# Import relevant modSAR classes \n",
    "from modSAR.network_algorithms import ModSAR\n",
    "from modSAR.cdk_utils import CDKUtils\n",
    "from modSAR.datasource import GenericFileDataSource\n",
    "from modSAR.preprocessing import *\n",
    "from modSAR.dataset import QSARDataset, QSARDatasetIO\n",
    "\n",
    "from rdkit import Chem\n",
    "from rdkit.Chem import AllChem\n",
    "import rdkit.Geometry\n",
    "from rdkit.Chem import rdFMCS\n",
    "from rdkit.Chem.Draw import IPythonConsole \n",
    "\n",
    "#from gevent import monkey\n",
    "#monkey.patch_all()\n",
    "\n",
    "# 2.5uM in Log units\n",
    "CUTOFF_ACTIVITY = - np.log10(2.5e-06)\n",
    "\n",
    "%matplotlib inline"
   ]
  },
  {
   "cell_type": "markdown",
   "metadata": {},
   "source": [
    "# Load Data"
   ]
  },
  {
   "cell_type": "code",
   "execution_count": 2,
   "metadata": {
    "ExecuteTime": {
     "end_time": "2020-11-02T20:18:42.428123Z",
     "start_time": "2020-11-02T20:18:42.291413Z"
    }
   },
   "outputs": [
    {
     "data": {
      "text/plain": [
       "(439, 21)"
      ]
     },
     "execution_count": 2,
     "metadata": {},
     "output_type": "execute_result"
    }
   ],
   "source": [
    "# Read annotated training set compiled by wvanhoorn \n",
    "#  https://github.com/OpenSourceMalaria/Series4_PredictiveModel/issues/1#issuecomment-523037719\n",
    "\n",
    "X = pd.read_excel('/mnt/data/Master Chemical List - annotated.xlsx')\n",
    "X = X[X[\"OSM_ID\"] != 'OSM-S-424'].copy()\n",
    "X['pIC50'] = -np.log10(X['Value']* 1e-06)\n",
    "X.shape"
   ]
  },
  {
   "cell_type": "code",
   "execution_count": 3,
   "metadata": {
    "ExecuteTime": {
     "end_time": "2020-10-05T19:24:09.862911Z",
     "start_time": "2020-10-05T19:24:09.608617Z"
    }
   },
   "outputs": [],
   "source": [
    "# Save this preprocessed dataset\n",
    "X.to_excel('/mnt/data/malaria_osm4_train.xlsx')"
   ]
  },
  {
   "cell_type": "code",
   "execution_count": 3,
   "metadata": {
    "ExecuteTime": {
     "end_time": "2020-11-02T20:18:44.398633Z",
     "start_time": "2020-11-02T20:18:44.323400Z"
    }
   },
   "outputs": [],
   "source": [
    "# Read the bioactivities in a more standard way with modSAR package\n",
    "\n",
    "malaria_osm4 = GenericFileDataSource(target_id='malaria_osm4', \n",
    "                                     filepath='/mnt/data/malaria_osm4_train.xlsx', \n",
    "                                     smiles_column='Canonical_Smiles', \n",
    "                                     compound_id_column='OSM_ID', \n",
    "                                     activity_column='pIC50',\n",
    "                                     apply_filter=False)"
   ]
  },
  {
   "cell_type": "code",
   "execution_count": 24,
   "metadata": {
    "ExecuteTime": {
     "end_time": "2020-10-06T11:26:07.298480Z",
     "start_time": "2020-10-06T11:26:07.288596Z"
    }
   },
   "outputs": [
    {
     "data": {
      "text/plain": [
       "array([], dtype=object)"
      ]
     },
     "execution_count": 24,
     "metadata": {},
     "output_type": "execute_result"
    }
   ],
   "source": [
    "malaria_osm4.bioactivities_df.query(\"OSM_ID == 'OSM-S-424'\")['Canonical_Smiles'].values"
   ]
  },
  {
   "cell_type": "code",
   "execution_count": 25,
   "metadata": {
    "ExecuteTime": {
     "end_time": "2020-10-06T11:26:11.253029Z",
     "start_time": "2020-10-06T11:26:11.197546Z"
    },
    "scrolled": true
   },
   "outputs": [
    {
     "data": {
      "text/html": [
       "<div>\n",
       "<style scoped>\n",
       "    .dataframe tbody tr th:only-of-type {\n",
       "        vertical-align: middle;\n",
       "    }\n",
       "\n",
       "    .dataframe tbody tr th {\n",
       "        vertical-align: top;\n",
       "    }\n",
       "\n",
       "    .dataframe thead th {\n",
       "        text-align: right;\n",
       "    }\n",
       "</style>\n",
       "<table border=\"1\" class=\"dataframe\">\n",
       "  <thead>\n",
       "    <tr style=\"text-align: right;\">\n",
       "      <th></th>\n",
       "      <th>Unnamed: 0</th>\n",
       "      <th>OSM_ID</th>\n",
       "      <th>Series</th>\n",
       "      <th>Assay</th>\n",
       "      <th>Value</th>\n",
       "      <th>Qualifier</th>\n",
       "      <th>PfaI EC50 (Inh)</th>\n",
       "      <th>Pfal IC50 (GSK)</th>\n",
       "      <th>Pfal IC50 (Syngene)</th>\n",
       "      <th>Pfal IC50 (Dundee)</th>\n",
       "      <th>Pfal IC50 (Avery)</th>\n",
       "      <th>Pfal (K1) IC50 (Avery)</th>\n",
       "      <th>Pfal IC50 (Ralph)</th>\n",
       "      <th>Pfal IC50 (Guy)</th>\n",
       "      <th>Pfal (K1) IC50 (Guy)</th>\n",
       "      <th>Pfal IC50 (Batra)</th>\n",
       "      <th>Pfal (K1) IC50 (Batra)</th>\n",
       "      <th>Pfal (3D7) IC50 (Broad)</th>\n",
       "      <th>Pfal (Dd2) IC50 (Broad)</th>\n",
       "      <th>Canonical_Smiles</th>\n",
       "      <th>InChIKey</th>\n",
       "      <th>pIC50</th>\n",
       "    </tr>\n",
       "  </thead>\n",
       "  <tbody>\n",
       "    <tr>\n",
       "      <th>0</th>\n",
       "      <td>0</td>\n",
       "      <td>OSM-A-1</td>\n",
       "      <td>1</td>\n",
       "      <td>Pfal IC50 (Guy)</td>\n",
       "      <td>3.050</td>\n",
       "      <td>0</td>\n",
       "      <td>NaN</td>\n",
       "      <td>NaN</td>\n",
       "      <td>NaN</td>\n",
       "      <td>NaN</td>\n",
       "      <td>NaN</td>\n",
       "      <td>NaN</td>\n",
       "      <td>NaN</td>\n",
       "      <td>3.050</td>\n",
       "      <td>4.379</td>\n",
       "      <td>NaN</td>\n",
       "      <td>NaN</td>\n",
       "      <td>NaN</td>\n",
       "      <td>NaN</td>\n",
       "      <td>Cc1cc(\\C=C\\2/S\\C(=N/c3ccccc3)\\NC2=O)c(C)n1c4cc...</td>\n",
       "      <td>ODRSSOQWOHNABY-MOSHPQCFSA-N</td>\n",
       "      <td>5.515700</td>\n",
       "    </tr>\n",
       "    <tr>\n",
       "      <th>1</th>\n",
       "      <td>1</td>\n",
       "      <td>OSM-A-1</td>\n",
       "      <td>1</td>\n",
       "      <td>Pfal (K1) IC50 (Guy)</td>\n",
       "      <td>4.379</td>\n",
       "      <td>0</td>\n",
       "      <td>NaN</td>\n",
       "      <td>NaN</td>\n",
       "      <td>NaN</td>\n",
       "      <td>NaN</td>\n",
       "      <td>NaN</td>\n",
       "      <td>NaN</td>\n",
       "      <td>NaN</td>\n",
       "      <td>3.050</td>\n",
       "      <td>4.379</td>\n",
       "      <td>NaN</td>\n",
       "      <td>NaN</td>\n",
       "      <td>NaN</td>\n",
       "      <td>NaN</td>\n",
       "      <td>Cc1cc(\\C=C\\2/S\\C(=N/c3ccccc3)\\NC2=O)c(C)n1c4cc...</td>\n",
       "      <td>ODRSSOQWOHNABY-MOSHPQCFSA-N</td>\n",
       "      <td>5.358625</td>\n",
       "    </tr>\n",
       "    <tr>\n",
       "      <th>2</th>\n",
       "      <td>2</td>\n",
       "      <td>OSM-A-2</td>\n",
       "      <td>1</td>\n",
       "      <td>Pfal IC50 (Guy)</td>\n",
       "      <td>0.574</td>\n",
       "      <td>0</td>\n",
       "      <td>NaN</td>\n",
       "      <td>NaN</td>\n",
       "      <td>NaN</td>\n",
       "      <td>NaN</td>\n",
       "      <td>NaN</td>\n",
       "      <td>NaN</td>\n",
       "      <td>NaN</td>\n",
       "      <td>0.574</td>\n",
       "      <td>1.829</td>\n",
       "      <td>NaN</td>\n",
       "      <td>NaN</td>\n",
       "      <td>NaN</td>\n",
       "      <td>NaN</td>\n",
       "      <td>Cc1cc(\\C=C\\2/S\\C(=N/c3ccccc3)\\NC2=O)c(C)n1c4cc...</td>\n",
       "      <td>LXPLFPVISCVJSC-BKUYFWCQSA-N</td>\n",
       "      <td>6.241088</td>\n",
       "    </tr>\n",
       "  </tbody>\n",
       "</table>\n",
       "</div>"
      ],
      "text/plain": [
       "   Unnamed: 0   OSM_ID  ...                     InChIKey     pIC50\n",
       "0           0  OSM-A-1  ...  ODRSSOQWOHNABY-MOSHPQCFSA-N  5.515700\n",
       "1           1  OSM-A-1  ...  ODRSSOQWOHNABY-MOSHPQCFSA-N  5.358625\n",
       "2           2  OSM-A-2  ...  LXPLFPVISCVJSC-BKUYFWCQSA-N  6.241088\n",
       "\n",
       "[3 rows x 22 columns]"
      ]
     },
     "execution_count": 25,
     "metadata": {},
     "output_type": "execute_result"
    }
   ],
   "source": [
    "malaria_osm4.bioactivities_df.head(3)"
   ]
  },
  {
   "cell_type": "code",
   "execution_count": 7,
   "metadata": {
    "ExecuteTime": {
     "end_time": "2020-10-05T19:24:10.082561Z",
     "start_time": "2020-10-05T19:24:10.074412Z"
    }
   },
   "outputs": [
    {
     "name": "stdout",
     "output_type": "stream",
     "text": [
      "Number of compounds: 439 | Number of unique compounds: 347\n"
     ]
    }
   ],
   "source": [
    "print(\"Number of compounds: %d | Number of unique compounds: %d\" %\n",
    "      (malaria_osm4.bioactivities_df.shape[0], malaria_osm4.bioactivities_df['OSM_ID'].nunique()))"
   ]
  },
  {
   "cell_type": "code",
   "execution_count": 8,
   "metadata": {
    "ExecuteTime": {
     "end_time": "2020-10-05T19:24:10.404619Z",
     "start_time": "2020-10-05T19:24:10.084301Z"
    }
   },
   "outputs": [
    {
     "data": {
      "text/plain": [
       "<matplotlib.axes._subplots.AxesSubplot at 0x7f99047bcdd8>"
      ]
     },
     "execution_count": 8,
     "metadata": {},
     "output_type": "execute_result"
    },
    {
     "data": {
      "image/png": "[encoded data removed]",
      "text/plain": [
       "<Figure size 432x288 with 1 Axes>"
      ]
     },
     "metadata": {},
     "output_type": "display_data"
    }
   ],
   "source": [
    "malaria_osm4.bioactivities_df['pIC50'].hist()"
   ]
  },
  {
   "cell_type": "markdown",
   "metadata": {},
   "source": [
    "# Creating QSARDatasets\n",
    "\n",
    "The modSAR package contains code to calculate molecular descriptors, which will generate a python object - a `QSARDataset` - that can be more easily manipulated than loose DataFrames or loose CSV files.\n",
    "\n",
    "To build a dataset, we use `data_obj.build_qsar_dataset` method either one of two options:\n",
    "\n",
    "1. `type=\"cdk\"`: to calculate 200+ molecular descriptors with the CDK library v2 as features to the model\n",
    "2. `type=\"ecfp4\"`: to calculate ECFP4 fingerprints with 1024 bits and use those bits as features to the model\n",
    "\n",
    "\n",
    "The method **build_qsar_dataset** method also performs a couple of preprocessing steps:\n",
    "  1. Treats duplicated values: Duplicated compounds are discarded if standard deviation of the group is $sd(pIC_{50}) > 1$. Otherwise, the median value of activity is used. \n",
    "  2. Calculates Molecular Descriptors: Using CDK library (Java) or ECFP4 fingerprints with RDKit\n",
    "  3. Returns a QSARDataset: a python object that encapsulates a full dataset"
   ]
  },
  {
   "cell_type": "markdown",
   "metadata": {},
   "source": [
    "# Features = molecular descriptors with CDK\n",
    "\n",
    "Use CDK molecular descriptors as features to the Machine Learning model"
   ]
  },
  {
   "cell_type": "code",
   "execution_count": 4,
   "metadata": {
    "ExecuteTime": {
     "end_time": "2020-10-06T11:33:59.843817Z",
     "start_time": "2020-10-06T11:31:56.020967Z"
    },
    "scrolled": true
   },
   "outputs": [
    {
     "name": "stdout",
     "output_type": "stream",
     "text": [
      "CDK Bridge process running\n",
      "(01/49) Collecting descriptors from class self.cdk.qsar.descriptors.molecular.WHIMDescriptor()\n",
      "(02/49) Collecting descriptors from class self.cdk.qsar.descriptors.molecular.BCUTDescriptor()\n",
      "(03/49) Collecting descriptors from class self.cdk.qsar.descriptors.molecular.XLogPDescriptor()\n",
      "(04/49) Collecting descriptors from class self.cdk.qsar.descriptors.molecular.WeightDescriptor()\n",
      "(05/49) Collecting descriptors from class self.cdk.qsar.descriptors.molecular.RuleOfFiveDescriptor()\n",
      "(06/49) Collecting descriptors from class self.cdk.qsar.descriptors.molecular.RotatableBondsCountDescriptor()\n",
      "(07/49) Collecting descriptors from class self.cdk.qsar.descriptors.molecular.MannholdLogPDescriptor()\n",
      "(08/49) Collecting descriptors from class self.cdk.qsar.descriptors.molecular.LargestPiSystemDescriptor()\n",
      "(09/49) Collecting descriptors from class self.cdk.qsar.descriptors.molecular.LargestChainDescriptor()\n",
      "(10/49) Collecting descriptors from class self.cdk.qsar.descriptors.molecular.BondCountDescriptor()\n",
      "(11/49) Collecting descriptors from class self.cdk.qsar.descriptors.molecular.BasicGroupCountDescriptor()\n",
      "(12/49) Collecting descriptors from class self.cdk.qsar.descriptors.molecular.AtomCountDescriptor()\n",
      "(13/49) Collecting descriptors from class self.cdk.qsar.descriptors.molecular.AromaticBondsCountDescriptor()\n",
      "(14/49) Collecting descriptors from class self.cdk.qsar.descriptors.molecular.AromaticAtomsCountDescriptor()\n",
      "(15/49) Collecting descriptors from class self.cdk.qsar.descriptors.molecular.ALOGPDescriptor()\n",
      "(16/49) Collecting descriptors from class self.cdk.qsar.descriptors.molecular.AcidicGroupCountDescriptor()\n",
      "(17/49) Collecting descriptors from class self.cdk.qsar.descriptors.molecular.SmallRingDescriptor()\n",
      "(18/49) Collecting descriptors from class self.cdk.qsar.descriptors.molecular.ZagrebIndexDescriptor()\n",
      "(19/49) Collecting descriptors from class self.cdk.qsar.descriptors.molecular.WienerNumbersDescriptor()\n",
      "(20/49) Collecting descriptors from class self.cdk.qsar.descriptors.molecular.WeightedPathDescriptor()\n",
      "(21/49) Collecting descriptors from class self.cdk.qsar.descriptors.molecular.VAdjMaDescriptor()\n",
      "(22/49) Collecting descriptors from class self.cdk.qsar.descriptors.molecular.VABCDescriptor()\n",
      "(23/49) Collecting descriptors from class self.cdk.qsar.descriptors.molecular.TPSADescriptor()\n",
      "(24/49) Collecting descriptors from class self.cdk.qsar.descriptors.molecular.PetitjeanNumberDescriptor()\n",
      "(25/49) Collecting descriptors from class self.cdk.qsar.descriptors.molecular.MDEDescriptor()\n",
      "(26/49) Collecting descriptors from class self.cdk.qsar.descriptors.molecular.KierHallSmartsDescriptor()\n",
      "(27/49) Collecting descriptors from class self.cdk.qsar.descriptors.molecular.KappaShapeIndicesDescriptor()\n",
      "(28/49) Collecting descriptors from class self.cdk.qsar.descriptors.molecular.HybridizationRatioDescriptor()\n",
      "(29/49) Collecting descriptors from class self.cdk.qsar.descriptors.molecular.FragmentComplexityDescriptor()\n",
      "(30/49) Collecting descriptors from class self.cdk.qsar.descriptors.molecular.FMFDescriptor()\n",
      "(31/49) Collecting descriptors from class self.cdk.qsar.descriptors.molecular.EccentricConnectivityIndexDescriptor()\n",
      "(32/49) Collecting descriptors from class self.cdk.qsar.descriptors.molecular.ChiPathDescriptor()\n",
      "(33/49) Collecting descriptors from class self.cdk.qsar.descriptors.molecular.ChiPathClusterDescriptor()\n",
      "(34/49) Collecting descriptors from class self.cdk.qsar.descriptors.molecular.ChiClusterDescriptor()\n",
      "(35/49) Collecting descriptors from class self.cdk.qsar.descriptors.molecular.ChiChainDescriptor()\n",
      "(36/49) Collecting descriptors from class self.cdk.qsar.descriptors.molecular.CarbonTypesDescriptor()\n",
      "(37/49) Collecting descriptors from class self.cdk.qsar.descriptors.molecular.AutocorrelationDescriptorPolarizability()\n",
      "(38/49) Collecting descriptors from class self.cdk.qsar.descriptors.molecular.AutocorrelationDescriptorMass()\n",
      "(39/49) Collecting descriptors from class self.cdk.qsar.descriptors.molecular.AutocorrelationDescriptorCharge()\n",
      "(40/49) Collecting descriptors from class self.cdk.qsar.descriptors.molecular.FractionalPSADescriptor()\n",
      "(41/49) Collecting descriptors from class self.cdk.qsar.descriptors.molecular.HBondDonorCountDescriptor()\n",
      "(42/49) Collecting descriptors from class self.cdk.qsar.descriptors.molecular.HBondAcceptorCountDescriptor()\n",
      "(43/49) Collecting descriptors from class self.cdk.qsar.descriptors.molecular.CPSADescriptor()\n",
      "(44/49) Collecting descriptors from class self.cdk.qsar.descriptors.molecular.BPolDescriptor()\n",
      "(45/49) Collecting descriptors from class self.cdk.qsar.descriptors.molecular.APolDescriptor()\n",
      "(46/49) Collecting descriptors from class self.cdk.qsar.descriptors.molecular.PetitjeanShapeIndexDescriptor()\n",
      "(47/49) Collecting descriptors from class self.cdk.qsar.descriptors.molecular.MomentOfInertiaDescriptor()\n",
      "(48/49) Collecting descriptors from class self.cdk.qsar.descriptors.molecular.LengthOverBreadthDescriptor()\n",
      "(49/49) Collecting descriptors from class self.cdk.qsar.descriptors.molecular.GravitationalIndexDescriptor()\n"
     ]
    }
   ],
   "source": [
    "osm4_cdk_dataset = malaria_osm4.build_qsar_dataset(type=\"cdk\", calculate_similarity=False)"
   ]
  },
  {
   "cell_type": "code",
   "execution_count": 28,
   "metadata": {
    "ExecuteTime": {
     "end_time": "2020-10-06T11:28:56.816576Z",
     "start_time": "2020-10-06T11:28:56.586626Z"
    }
   },
   "outputs": [
    {
     "data": {
      "text/plain": [
       "<matplotlib.axes._subplots.AxesSubplot at 0x7f99045b8d68>"
      ]
     },
     "execution_count": 28,
     "metadata": {},
     "output_type": "execute_result"
    },
    {
     "data": {
      "image/png": "[encoded data removed]",
      "text/plain": [
       "<Figure size 432x288 with 1 Axes>"
      ]
     },
     "metadata": {},
     "output_type": "display_data"
    }
   ],
   "source": [
    "osm4_cdk_dataset.y.hist()"
   ]
  },
  {
   "cell_type": "markdown",
   "metadata": {
    "ExecuteTime": {
     "end_time": "2020-10-06T11:43:38.121070Z",
     "start_time": "2020-10-06T11:43:38.115125Z"
    }
   },
   "source": [
    "**Save Dataset**"
   ]
  },
  {
   "cell_type": "code",
   "execution_count": 5,
   "metadata": {
    "ExecuteTime": {
     "end_time": "2020-10-06T11:34:03.531617Z",
     "start_time": "2020-10-06T11:33:59.846562Z"
    }
   },
   "outputs": [],
   "source": [
    "QSARDatasetIO.write(osm4_cdk_dataset, filepath='/mnt/data/OSM-S4/osm4_qsardataset_cdk.xls')"
   ]
  },
  {
   "cell_type": "markdown",
   "metadata": {
    "ExecuteTime": {
     "end_time": "2020-10-06T11:43:40.836183Z",
     "start_time": "2020-10-06T11:43:40.832446Z"
    }
   },
   "source": [
    "**Load saved Dataset** "
   ]
  },
  {
   "cell_type": "code",
   "execution_count": null,
   "metadata": {},
   "outputs": [],
   "source": [
    "# QSARDatasetIO.load(dataset_name='OSM4',\n",
    "#                    activity_sheetname='activity',\n",
    "#                    smiles_column='Canonical_Smiles',\n",
    "#                    id_column='OSM_ID',\n",
    "#                    filepath='/mnt/data/OSM-S4/osm4_qsardataset_cdk.xls',\n",
    "#                    calculate_similarity=False)"
   ]
  },
  {
   "cell_type": "markdown",
   "metadata": {},
   "source": [
    "# Features = Morgan fingerprints"
   ]
  },
  {
   "cell_type": "markdown",
   "metadata": {},
   "source": [
    "## radius = 2 \n",
    "\n",
    "Calculate circular Morgan fingerprints with radius=2 (close to ECFP4 binary fingerprints) with RDkit and use it as features to the Machine Learning model"
   ]
  },
  {
   "cell_type": "code",
   "execution_count": 4,
   "metadata": {
    "ExecuteTime": {
     "end_time": "2020-11-02T20:19:37.714571Z",
     "start_time": "2020-11-02T20:18:47.748863Z"
    }
   },
   "outputs": [],
   "source": [
    "osm4_morgan2_dataset = malaria_osm4.build_qsar_dataset(type=\"morgan2\", calculate_similarity=False)"
   ]
  },
  {
   "cell_type": "markdown",
   "metadata": {
    "ExecuteTime": {
     "end_time": "2020-10-06T11:43:38.121070Z",
     "start_time": "2020-10-06T11:43:38.115125Z"
    }
   },
   "source": [
    "**Save Dataset**"
   ]
  },
  {
   "cell_type": "code",
   "execution_count": 5,
   "metadata": {
    "ExecuteTime": {
     "end_time": "2020-11-02T20:19:52.756661Z",
     "start_time": "2020-11-02T20:19:37.717375Z"
    }
   },
   "outputs": [],
   "source": [
    "QSARDatasetIO.write(osm4_morgan2_dataset, filepath='/mnt/data/OSM-S4/osm4_qsardataset_morgan2.xls')"
   ]
  },
  {
   "cell_type": "markdown",
   "metadata": {
    "ExecuteTime": {
     "end_time": "2020-10-06T11:43:40.836183Z",
     "start_time": "2020-10-06T11:43:40.832446Z"
    }
   },
   "source": [
    "**Load saved Dataset** "
   ]
  },
  {
   "cell_type": "code",
   "execution_count": 10,
   "metadata": {
    "ExecuteTime": {
     "end_time": "2020-10-06T11:44:23.555416Z",
     "start_time": "2020-10-06T11:44:23.551835Z"
    }
   },
   "outputs": [],
   "source": [
    "# QSARDatasetIO.load(dataset_name='OSM4',\n",
    "#                    activity_sheetname='activity',\n",
    "#                    smiles_column='Canonical_Smiles',\n",
    "#                    id_column='OSM_ID',\n",
    "#                    filepath='/mnt/data/OSM-S4/osm4_qsardataset_ecfp4.xls',\n",
    "#                    calculate_similarity=False)"
   ]
  },
  {
   "cell_type": "markdown",
   "metadata": {},
   "source": [
    "## radius = 4\n",
    "\n",
    "By increasing the radius, we let the fingerprint represent longer chains which might be desirable in a ML model."
   ]
  },
  {
   "cell_type": "code",
   "execution_count": 6,
   "metadata": {
    "ExecuteTime": {
     "end_time": "2020-11-02T20:21:21.805938Z",
     "start_time": "2020-11-02T20:20:32.273516Z"
    }
   },
   "outputs": [],
   "source": [
    "osm4_morgan4_dataset = malaria_osm4.build_qsar_dataset(type=\"morgan4\", calculate_similarity=False)"
   ]
  },
  {
   "cell_type": "markdown",
   "metadata": {
    "ExecuteTime": {
     "end_time": "2020-10-06T11:43:38.121070Z",
     "start_time": "2020-10-06T11:43:38.115125Z"
    }
   },
   "source": [
    "**Save Dataset**"
   ]
  },
  {
   "cell_type": "code",
   "execution_count": 7,
   "metadata": {
    "ExecuteTime": {
     "end_time": "2020-11-02T20:21:36.892355Z",
     "start_time": "2020-11-02T20:21:21.807598Z"
    }
   },
   "outputs": [],
   "source": [
    "QSARDatasetIO.write(osm4_morgan4_dataset, filepath='/mnt/data/OSM-S4/osm4_qsardataset_morgan4.xls')"
   ]
  },
  {
   "cell_type": "markdown",
   "metadata": {
    "ExecuteTime": {
     "end_time": "2020-10-06T11:43:40.836183Z",
     "start_time": "2020-10-06T11:43:40.832446Z"
    }
   },
   "source": [
    "**Load saved Dataset** "
   ]
  },
  {
   "cell_type": "code",
   "execution_count": 10,
   "metadata": {
    "ExecuteTime": {
     "end_time": "2020-10-06T11:44:23.555416Z",
     "start_time": "2020-10-06T11:44:23.551835Z"
    }
   },
   "outputs": [],
   "source": [
    "# QSARDatasetIO.load(dataset_name='OSM4',\n",
    "#                    activity_sheetname='activity',\n",
    "#                    smiles_column='Canonical_Smiles',\n",
    "#                    id_column='OSM_ID',\n",
    "#                    filepath='/mnt/data/OSM-S4/osm4_qsardataset_ecfp4.xls',\n",
    "#                    calculate_similarity=False)"
   ]
  }
 ],
 "metadata": {
  "kernelspec": {
   "display_name": "Python 3",
   "language": "python",
   "name": "python3"
  },
  "language_info": {
   "codemirror_mode": {
    "name": "ipython",
    "version": 3
   },
   "file_extension": ".py",
   "mimetype": "text/x-python",
   "name": "python",
   "nbconvert_exporter": "python",
   "pygments_lexer": "ipython3",
   "version": "3.6.5"
  },
  "toc": {
   "nav_menu": {},
   "number_sections": true,
   "sideBar": true,
   "skip_h1_title": false,
   "title_cell": "Table of Contents",
   "title_sidebar": "Contents",
   "toc_cell": false,
   "toc_position": {
    "height": "calc(100% - 180px)",
    "left": "10px",
    "top": "150px",
    "width": "384px"
   },
   "toc_section_display": true,
   "toc_window_display": true
  }
 },
 "nbformat": 4,
 "nbformat_minor": 2
}
