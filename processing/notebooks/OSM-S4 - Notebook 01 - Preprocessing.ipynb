{
 "cells": [
  {
   "cell_type": "markdown",
   "metadata": {},
   "source": [
    "**OBJECTIVE:** Prepare OSM S4 dataset for modelling with modSAR algorithm"
   ]
  },
  {
   "cell_type": "code",
   "execution_count": 1,
   "metadata": {
    "ExecuteTime": {
     "end_time": "2021-01-16T19:26:07.822161Z",
     "start_time": "2021-01-16T19:26:06.428657Z"
    }
   },
   "outputs": [],
   "source": [
    "import math\n",
    "import numpy as np\n",
    "import pandas as pd\n",
    "\n",
    "# Import relevant modSAR classes \n",
    "from modSAR.network_algorithms import ModSAR\n",
    "from modSAR.cdk_utils import CDKUtils\n",
    "from modSAR.preprocessing import *\n",
    "from modSAR.dataset import QSARDataset, QSARDatasetIO\n",
    "\n",
    "from rdkit import Chem\n",
    "from rdkit.Chem import AllChem\n",
    "import rdkit.Geometry\n",
    "from rdkit.Chem import rdFMCS\n",
    "from rdkit.Chem.Draw import IPythonConsole \n",
    "\n",
    "import warnings\n",
    "warnings.filterwarnings(\"ignore\")\n",
    "\n",
    "# 2.5uM in Log units\n",
    "CUTOFF_ACTIVITY = - np.log10(2.5e-06)\n",
    "\n",
    "%matplotlib inline"
   ]
  },
  {
   "cell_type": "markdown",
   "metadata": {},
   "source": [
    "# Load annotated dataset\n",
    "\n",
    "A filtered and annotated training set was compiled from raw OSM data by wvanhoorn and saved in the file **Master Chemical List - annotated.xlsx**.\n",
    "\n",
    "An account of the steps taken to generate this file are described in [this Github issue comment](https://github.com/OpenSourceMalaria/Series4_PredictiveModel/issues/1#issuecomment-523037719) and listed below: \n",
    "\n",
    "\n",
    "\n",
    "    1. The columns 'PfaI EC50 uMol (Mean) Qualifier' and 'PfaI EC50 uMol (Mean)' were removed.\n",
    "\n",
    "    2. Rows without Smiles were removed as well as rows without Pfal data. The latter means that at least oneof the remaining columns starting with 'Pfal' had to contain a value.\n",
    "    \n",
    "    3. The molecular structures were normalised: salts stripped, canonical tautomer calculated, charges normalised, etc.\n",
    "    \n",
    "    4. Rows were merged by (recalculated) InChiKey.\n",
    "    \n",
    "    5. Activity data was pivoted into columns 'Assay', 'Value' and 'Qualifier'. Activity values that were not IC50 like '100\\% at 40 micromolar' were removed as well as values that did make sense like '0'. The original Pfal columns were left in place so that it can be seen where each data point comes from. The file was split on the three new columns so that 1 row = 1 value. During this process all other columns were copied so there is redundancy. I leave it to each individual if and how they want to average multiple values for a single compound.\n",
    "\n",
    "    6. Series annotation was done again since not all compounds claimed to be from series 4 contained the 'triazolopyrazine core with substitutents in the northwest and northeast positions' mentioned before. When the original series annotation was '4' but the compound contains another core (or does not have two substituents in the right position) the Series annotation is overwritten as 'not4'. Note that all series are still there, leaving it open whether or not to include data from other series."
   ]
  },
  {
   "cell_type": "markdown",
   "metadata": {},
   "source": [
    "Place the file under `data/Master Chemical List - annotated.xlsx`. Create the folder `data` in the parent directory if it does not exist yet."
   ]
  },
  {
   "cell_type": "code",
   "execution_count": 2,
   "metadata": {
    "ExecuteTime": {
     "end_time": "2021-01-16T19:26:07.827542Z",
     "start_time": "2021-01-16T19:26:07.824015Z"
    }
   },
   "outputs": [],
   "source": [
    "import os\n",
    "if not os.path.exists('../data'):\n",
    "    os.makedirs('../data')"
   ]
  },
  {
   "cell_type": "code",
   "execution_count": 3,
   "metadata": {
    "ExecuteTime": {
     "end_time": "2021-01-16T19:26:08.234279Z",
     "start_time": "2021-01-16T19:26:07.829737Z"
    }
   },
   "outputs": [],
   "source": [
    "X = pd.read_excel('../data/Master Chemical List - annotated.xlsx')\n",
    "\n",
    "# Compound OSM-S-424 cannot be parsed by RDKit so we remove it from our dataset\n",
    "X = X[X[\"OSM_ID\"] != 'OSM-S-424'].copy()\n",
    "\n",
    "# Activity data is represented by the column `Value` (in uM). Calculate pIC50 from this column:\n",
    "X['pIC50'] = -np.log10(X['Value']* 1e-06)\n",
    "\n",
    "# Save this preprocessed dataset to the ./data folder\n",
    "X.to_excel('../data/osm_raw_dataset_2019_08_20.xlsx')"
   ]
  },
  {
   "cell_type": "code",
   "execution_count": 4,
   "metadata": {
    "ExecuteTime": {
     "end_time": "2021-01-16T19:26:08.295823Z",
     "start_time": "2021-01-16T19:26:08.237053Z"
    }
   },
   "outputs": [
    {
     "data": {
      "text/html": [
       "<div>\n",
       "<style scoped>\n",
       "    .dataframe tbody tr th:only-of-type {\n",
       "        vertical-align: middle;\n",
       "    }\n",
       "\n",
       "    .dataframe tbody tr th {\n",
       "        vertical-align: top;\n",
       "    }\n",
       "\n",
       "    .dataframe thead th {\n",
       "        text-align: right;\n",
       "    }\n",
       "</style>\n",
       "<table border=\"1\" class=\"dataframe\">\n",
       "  <thead>\n",
       "    <tr style=\"text-align: right;\">\n",
       "      <th></th>\n",
       "      <th>OSM_ID</th>\n",
       "      <th>Series</th>\n",
       "      <th>Assay</th>\n",
       "      <th>Value</th>\n",
       "      <th>Qualifier</th>\n",
       "      <th>PfaI EC50 (Inh)</th>\n",
       "      <th>Pfal IC50 (GSK)</th>\n",
       "      <th>Pfal IC50 (Syngene)</th>\n",
       "      <th>Pfal IC50 (Dundee)</th>\n",
       "      <th>Pfal IC50 (Avery)</th>\n",
       "      <th>Pfal (K1) IC50 (Avery)</th>\n",
       "      <th>Pfal IC50 (Ralph)</th>\n",
       "      <th>Pfal IC50 (Guy)</th>\n",
       "      <th>Pfal (K1) IC50 (Guy)</th>\n",
       "      <th>Pfal IC50 (Batra)</th>\n",
       "      <th>Pfal (K1) IC50 (Batra)</th>\n",
       "      <th>Pfal (3D7) IC50 (Broad)</th>\n",
       "      <th>Pfal (Dd2) IC50 (Broad)</th>\n",
       "      <th>Canonical_Smiles</th>\n",
       "      <th>InChIKey</th>\n",
       "      <th>pIC50</th>\n",
       "    </tr>\n",
       "  </thead>\n",
       "  <tbody>\n",
       "    <tr>\n",
       "      <th>0</th>\n",
       "      <td>OSM-A-1</td>\n",
       "      <td>1</td>\n",
       "      <td>Pfal IC50 (Guy)</td>\n",
       "      <td>3.050</td>\n",
       "      <td>=</td>\n",
       "      <td>NaN</td>\n",
       "      <td>NaN</td>\n",
       "      <td>NaN</td>\n",
       "      <td>NaN</td>\n",
       "      <td>NaN</td>\n",
       "      <td>NaN</td>\n",
       "      <td>NaN</td>\n",
       "      <td>3.050</td>\n",
       "      <td>4.379</td>\n",
       "      <td>NaN</td>\n",
       "      <td>NaN</td>\n",
       "      <td>NaN</td>\n",
       "      <td>NaN</td>\n",
       "      <td>Cc1cc(\\C=C\\2/S\\C(=N/c3ccccc3)\\NC2=O)c(C)n1c4cc...</td>\n",
       "      <td>ODRSSOQWOHNABY-MOSHPQCFSA-N</td>\n",
       "      <td>5.515700</td>\n",
       "    </tr>\n",
       "    <tr>\n",
       "      <th>1</th>\n",
       "      <td>OSM-A-1</td>\n",
       "      <td>1</td>\n",
       "      <td>Pfal (K1) IC50 (Guy)</td>\n",
       "      <td>4.379</td>\n",
       "      <td>=</td>\n",
       "      <td>NaN</td>\n",
       "      <td>NaN</td>\n",
       "      <td>NaN</td>\n",
       "      <td>NaN</td>\n",
       "      <td>NaN</td>\n",
       "      <td>NaN</td>\n",
       "      <td>NaN</td>\n",
       "      <td>3.050</td>\n",
       "      <td>4.379</td>\n",
       "      <td>NaN</td>\n",
       "      <td>NaN</td>\n",
       "      <td>NaN</td>\n",
       "      <td>NaN</td>\n",
       "      <td>Cc1cc(\\C=C\\2/S\\C(=N/c3ccccc3)\\NC2=O)c(C)n1c4cc...</td>\n",
       "      <td>ODRSSOQWOHNABY-MOSHPQCFSA-N</td>\n",
       "      <td>5.358625</td>\n",
       "    </tr>\n",
       "    <tr>\n",
       "      <th>2</th>\n",
       "      <td>OSM-A-2</td>\n",
       "      <td>1</td>\n",
       "      <td>Pfal IC50 (Guy)</td>\n",
       "      <td>0.574</td>\n",
       "      <td>=</td>\n",
       "      <td>NaN</td>\n",
       "      <td>NaN</td>\n",
       "      <td>NaN</td>\n",
       "      <td>NaN</td>\n",
       "      <td>NaN</td>\n",
       "      <td>NaN</td>\n",
       "      <td>NaN</td>\n",
       "      <td>0.574</td>\n",
       "      <td>1.829</td>\n",
       "      <td>NaN</td>\n",
       "      <td>NaN</td>\n",
       "      <td>NaN</td>\n",
       "      <td>NaN</td>\n",
       "      <td>Cc1cc(\\C=C\\2/S\\C(=N/c3ccccc3)\\NC2=O)c(C)n1c4cc...</td>\n",
       "      <td>LXPLFPVISCVJSC-BKUYFWCQSA-N</td>\n",
       "      <td>6.241088</td>\n",
       "    </tr>\n",
       "  </tbody>\n",
       "</table>\n",
       "</div>"
      ],
      "text/plain": [
       "    OSM_ID Series  ...                     InChIKey     pIC50\n",
       "0  OSM-A-1      1  ...  ODRSSOQWOHNABY-MOSHPQCFSA-N  5.515700\n",
       "1  OSM-A-1      1  ...  ODRSSOQWOHNABY-MOSHPQCFSA-N  5.358625\n",
       "2  OSM-A-2      1  ...  LXPLFPVISCVJSC-BKUYFWCQSA-N  6.241088\n",
       "\n",
       "[3 rows x 21 columns]"
      ]
     },
     "execution_count": 4,
     "metadata": {},
     "output_type": "execute_result"
    }
   ],
   "source": [
    "X.head(3)"
   ]
  },
  {
   "cell_type": "markdown",
   "metadata": {},
   "source": [
    "# Parse data with modSAR package\n",
    "\n",
    "modSAR python package has a module `datasource.py` with a few built-in classes to automatically handle QSAR datasets:\n",
    "   - ChEMBLApiDataSource: Downloads data from ChEMBL\n",
    "   - ChEMBLFileDataSource: Read bioactivities that have been downloaded from ChEMBL\n",
    "   - GenericFileDataSource: Read activity data from a file data source\n",
    "\n",
    "  \n",
    "For the OSM dataset, we will use the `GenericFileDataSource` to read the xlsx file we created above so it is easier to manipulate later on:"
   ]
  },
  {
   "cell_type": "code",
   "execution_count": 5,
   "metadata": {
    "ExecuteTime": {
     "end_time": "2021-01-16T19:26:08.456015Z",
     "start_time": "2021-01-16T19:26:08.297506Z"
    }
   },
   "outputs": [],
   "source": [
    "from modSAR.datasource import GenericFileDataSource\n",
    "\n",
    "# Read the bioactivities in a more standard way with modSAR package\n",
    "\n",
    "osm_dataset = GenericFileDataSource(target_id='malaria_osm4', \n",
    "                                    filepath='/mnt/data/osm_raw_dataset_2019_08_20.xlsx', \n",
    "                                    smiles_column='Canonical_Smiles', \n",
    "                                    compound_id_column='OSM_ID', \n",
    "                                    activity_column='pIC50',\n",
    "                                    apply_filter=False)"
   ]
  },
  {
   "cell_type": "code",
   "execution_count": 6,
   "metadata": {
    "ExecuteTime": {
     "end_time": "2021-01-16T19:26:08.462596Z",
     "start_time": "2021-01-16T19:26:08.457584Z"
    }
   },
   "outputs": [
    {
     "name": "stdout",
     "output_type": "stream",
     "text": [
      "Number of compounds: 439 | Number of unique compounds: 347\n"
     ]
    }
   ],
   "source": [
    "print(\"Number of compounds: %d | Number of unique compounds: %d\" %\n",
    "      (osm_dataset.bioactivities_df.shape[0], osm_dataset.bioactivities_df['OSM_ID'].nunique()))"
   ]
  },
  {
   "cell_type": "code",
   "execution_count": 7,
   "metadata": {
    "ExecuteTime": {
     "end_time": "2021-01-16T19:26:08.524084Z",
     "start_time": "2021-01-16T19:26:08.464868Z"
    },
    "scrolled": true
   },
   "outputs": [
    {
     "data": {
      "text/html": [
       "<div>\n",
       "<style scoped>\n",
       "    .dataframe tbody tr th:only-of-type {\n",
       "        vertical-align: middle;\n",
       "    }\n",
       "\n",
       "    .dataframe tbody tr th {\n",
       "        vertical-align: top;\n",
       "    }\n",
       "\n",
       "    .dataframe thead th {\n",
       "        text-align: right;\n",
       "    }\n",
       "</style>\n",
       "<table border=\"1\" class=\"dataframe\">\n",
       "  <thead>\n",
       "    <tr style=\"text-align: right;\">\n",
       "      <th></th>\n",
       "      <th>Unnamed: 0</th>\n",
       "      <th>OSM_ID</th>\n",
       "      <th>Series</th>\n",
       "      <th>Assay</th>\n",
       "      <th>Value</th>\n",
       "      <th>Qualifier</th>\n",
       "      <th>PfaI EC50 (Inh)</th>\n",
       "      <th>Pfal IC50 (GSK)</th>\n",
       "      <th>Pfal IC50 (Syngene)</th>\n",
       "      <th>Pfal IC50 (Dundee)</th>\n",
       "      <th>Pfal IC50 (Avery)</th>\n",
       "      <th>Pfal (K1) IC50 (Avery)</th>\n",
       "      <th>Pfal IC50 (Ralph)</th>\n",
       "      <th>Pfal IC50 (Guy)</th>\n",
       "      <th>Pfal (K1) IC50 (Guy)</th>\n",
       "      <th>Pfal IC50 (Batra)</th>\n",
       "      <th>Pfal (K1) IC50 (Batra)</th>\n",
       "      <th>Pfal (3D7) IC50 (Broad)</th>\n",
       "      <th>Pfal (Dd2) IC50 (Broad)</th>\n",
       "      <th>Canonical_Smiles</th>\n",
       "      <th>InChIKey</th>\n",
       "      <th>pIC50</th>\n",
       "    </tr>\n",
       "  </thead>\n",
       "  <tbody>\n",
       "    <tr>\n",
       "      <th>0</th>\n",
       "      <td>0</td>\n",
       "      <td>OSM-A-1</td>\n",
       "      <td>1</td>\n",
       "      <td>Pfal IC50 (Guy)</td>\n",
       "      <td>3.050</td>\n",
       "      <td>0</td>\n",
       "      <td>NaN</td>\n",
       "      <td>NaN</td>\n",
       "      <td>NaN</td>\n",
       "      <td>NaN</td>\n",
       "      <td>NaN</td>\n",
       "      <td>NaN</td>\n",
       "      <td>NaN</td>\n",
       "      <td>3.050</td>\n",
       "      <td>4.379</td>\n",
       "      <td>NaN</td>\n",
       "      <td>NaN</td>\n",
       "      <td>NaN</td>\n",
       "      <td>NaN</td>\n",
       "      <td>Cc1cc(\\C=C\\2/S\\C(=N/c3ccccc3)\\NC2=O)c(C)n1c4cc...</td>\n",
       "      <td>ODRSSOQWOHNABY-MOSHPQCFSA-N</td>\n",
       "      <td>5.515700</td>\n",
       "    </tr>\n",
       "    <tr>\n",
       "      <th>1</th>\n",
       "      <td>1</td>\n",
       "      <td>OSM-A-1</td>\n",
       "      <td>1</td>\n",
       "      <td>Pfal (K1) IC50 (Guy)</td>\n",
       "      <td>4.379</td>\n",
       "      <td>0</td>\n",
       "      <td>NaN</td>\n",
       "      <td>NaN</td>\n",
       "      <td>NaN</td>\n",
       "      <td>NaN</td>\n",
       "      <td>NaN</td>\n",
       "      <td>NaN</td>\n",
       "      <td>NaN</td>\n",
       "      <td>3.050</td>\n",
       "      <td>4.379</td>\n",
       "      <td>NaN</td>\n",
       "      <td>NaN</td>\n",
       "      <td>NaN</td>\n",
       "      <td>NaN</td>\n",
       "      <td>Cc1cc(\\C=C\\2/S\\C(=N/c3ccccc3)\\NC2=O)c(C)n1c4cc...</td>\n",
       "      <td>ODRSSOQWOHNABY-MOSHPQCFSA-N</td>\n",
       "      <td>5.358625</td>\n",
       "    </tr>\n",
       "    <tr>\n",
       "      <th>2</th>\n",
       "      <td>2</td>\n",
       "      <td>OSM-A-2</td>\n",
       "      <td>1</td>\n",
       "      <td>Pfal IC50 (Guy)</td>\n",
       "      <td>0.574</td>\n",
       "      <td>0</td>\n",
       "      <td>NaN</td>\n",
       "      <td>NaN</td>\n",
       "      <td>NaN</td>\n",
       "      <td>NaN</td>\n",
       "      <td>NaN</td>\n",
       "      <td>NaN</td>\n",
       "      <td>NaN</td>\n",
       "      <td>0.574</td>\n",
       "      <td>1.829</td>\n",
       "      <td>NaN</td>\n",
       "      <td>NaN</td>\n",
       "      <td>NaN</td>\n",
       "      <td>NaN</td>\n",
       "      <td>Cc1cc(\\C=C\\2/S\\C(=N/c3ccccc3)\\NC2=O)c(C)n1c4cc...</td>\n",
       "      <td>LXPLFPVISCVJSC-BKUYFWCQSA-N</td>\n",
       "      <td>6.241088</td>\n",
       "    </tr>\n",
       "  </tbody>\n",
       "</table>\n",
       "</div>"
      ],
      "text/plain": [
       "   Unnamed: 0   OSM_ID  ...                     InChIKey     pIC50\n",
       "0           0  OSM-A-1  ...  ODRSSOQWOHNABY-MOSHPQCFSA-N  5.515700\n",
       "1           1  OSM-A-1  ...  ODRSSOQWOHNABY-MOSHPQCFSA-N  5.358625\n",
       "2           2  OSM-A-2  ...  LXPLFPVISCVJSC-BKUYFWCQSA-N  6.241088\n",
       "\n",
       "[3 rows x 22 columns]"
      ]
     },
     "execution_count": 7,
     "metadata": {},
     "output_type": "execute_result"
    }
   ],
   "source": [
    "# Have a look at the dataframe\n",
    "osm_dataset.bioactivities_df.head(3)"
   ]
  },
  {
   "cell_type": "code",
   "execution_count": 8,
   "metadata": {
    "ExecuteTime": {
     "end_time": "2021-01-16T19:26:08.718958Z",
     "start_time": "2021-01-16T19:26:08.526879Z"
    }
   },
   "outputs": [
    {
     "data": {
      "text/plain": [
       "<AxesSubplot:>"
      ]
     },
     "execution_count": 8,
     "metadata": {},
     "output_type": "execute_result"
    },
    {
     "data": {
      "image/png": "[encoded data removed]",
      "text/plain": [
       "<Figure size 432x288 with 1 Axes>"
      ]
     },
     "metadata": {
      "needs_background": "light"
     },
     "output_type": "display_data"
    }
   ],
   "source": [
    "# Quick look into the distribution of pIC50 activity\n",
    "osm_dataset.bioactivities_df['pIC50'].hist()"
   ]
  },
  {
   "cell_type": "markdown",
   "metadata": {},
   "source": [
    "# Creating QSARDatasets\n",
    "\n",
    "The modSAR package contains code to calculate molecular descriptors, which will generate a python object - a `QSARDataset` - that can be more easily manipulated than loose DataFrames or loose CSV files.\n",
    "\n",
    "To build a dataset, we use `data_obj.build_qsar_dataset` method either one of two options:\n",
    "\n",
    "1. `type=\"cdk\"`: to calculate 200+ molecular descriptors with the CDK library v2 as features to the model\n",
    "2. `type=\"morgan<n>\"`: to calculate Morgan fingerprints with radius `n`. This will produce 1024 bits.\n",
    "\n",
    "\n",
    "The method **build_qsar_dataset** method also performs a couple of preprocessing steps:\n",
    "  1. Treats duplicated values: Duplicated compounds are discarded if standard deviation of the group is $sd(pIC_{50}) > 1$. Otherwise, the median value of activity is used. \n",
    "  2. Calculates Molecular Descriptors: Using CDK library (Java) or ECFP4 fingerprints with RDKit\n",
    "  3. Returns a QSARDataset: a python object that encapsulates a full dataset"
   ]
  },
  {
   "cell_type": "markdown",
   "metadata": {},
   "source": [
    "## Features = molecular descriptors with CDK\n",
    "\n",
    "Use CDK molecular descriptors as features to the Machine Learning model.\n",
    "\n",
    "_Uncomment the code in the following cells if you want to calculate molecular descriptors using Java CDK 2.0 library. The library is slow so it might a couple of minutes._\n"
   ]
  },
  {
   "cell_type": "code",
   "execution_count": 9,
   "metadata": {
    "ExecuteTime": {
     "end_time": "2021-01-16T19:26:08.723900Z",
     "start_time": "2021-01-16T19:26:08.721224Z"
    },
    "scrolled": true
   },
   "outputs": [],
   "source": [
    "# osm4_cdk_dataset = malaria_osm4.build_qsar_dataset(type=\"cdk\", calculate_similarity=False)"
   ]
  },
  {
   "cell_type": "code",
   "execution_count": 10,
   "metadata": {
    "ExecuteTime": {
     "end_time": "2021-01-16T19:26:08.732600Z",
     "start_time": "2021-01-16T19:26:08.725729Z"
    }
   },
   "outputs": [],
   "source": [
    "# osm4_cdk_dataset.y.hist()"
   ]
  },
  {
   "cell_type": "markdown",
   "metadata": {
    "ExecuteTime": {
     "end_time": "2020-10-06T11:43:38.121070Z",
     "start_time": "2020-10-06T11:43:38.115125Z"
    }
   },
   "source": [
    "**Save Dataset**"
   ]
  },
  {
   "cell_type": "code",
   "execution_count": 11,
   "metadata": {
    "ExecuteTime": {
     "end_time": "2021-01-16T19:26:08.739489Z",
     "start_time": "2021-01-16T19:26:08.734196Z"
    }
   },
   "outputs": [],
   "source": [
    "# QSARDatasetIO.write(osm4_cdk_dataset, filepath='/mnt/data/OSM-S4/osm4_qsardataset_cdk.xls')"
   ]
  },
  {
   "cell_type": "markdown",
   "metadata": {
    "ExecuteTime": {
     "end_time": "2020-10-06T11:43:40.836183Z",
     "start_time": "2020-10-06T11:43:40.832446Z"
    }
   },
   "source": [
    "**Load saved Dataset** "
   ]
  },
  {
   "cell_type": "code",
   "execution_count": 12,
   "metadata": {
    "ExecuteTime": {
     "end_time": "2021-01-16T19:26:08.750022Z",
     "start_time": "2021-01-16T19:26:08.741003Z"
    }
   },
   "outputs": [],
   "source": [
    "# QSARDatasetIO.load(dataset_name='OSM4',\n",
    "#                    activity_sheetname='activity',\n",
    "#                    smiles_column='Canonical_Smiles',\n",
    "#                    id_column='OSM_ID',\n",
    "#                    filepath='/mnt/data/OSM-S4/osm4_qsardataset_cdk.xls',\n",
    "#                    calculate_similarity=False)"
   ]
  },
  {
   "cell_type": "markdown",
   "metadata": {},
   "source": [
    "## Features = Morgan fingerprints\n",
    "\n",
    "### radius = 2 \n",
    "\n",
    "Calculate circular Morgan fingerprints with radius=2 with RDkit to use as features to the Machine Learning model.\n",
    "\n",
    "These fingerprints roughly correspond to the classic ECFP4 fingerprints."
   ]
  },
  {
   "cell_type": "code",
   "execution_count": 13,
   "metadata": {
    "ExecuteTime": {
     "end_time": "2021-01-16T19:27:00.990943Z",
     "start_time": "2021-01-16T19:26:08.751891Z"
    }
   },
   "outputs": [],
   "source": [
    "osm_morgan2_dataset = osm_dataset.build_qsar_dataset(type=\"morgan2\", calculate_similarity=False)"
   ]
  },
  {
   "cell_type": "markdown",
   "metadata": {
    "ExecuteTime": {
     "end_time": "2020-10-06T11:43:38.121070Z",
     "start_time": "2020-10-06T11:43:38.115125Z"
    }
   },
   "source": [
    "**Save Dataset**\n",
    "\n",
    "Save it in .xlsx so it could be inspected in other softwares as well (e.g.: Excel)"
   ]
  },
  {
   "cell_type": "code",
   "execution_count": 14,
   "metadata": {
    "ExecuteTime": {
     "end_time": "2021-01-16T19:27:16.319451Z",
     "start_time": "2021-01-16T19:27:00.992543Z"
    }
   },
   "outputs": [],
   "source": [
    "QSARDatasetIO.write(osm_morgan2_dataset, filepath='../data/osm_qsar_dataset_morgan2.xlsx')"
   ]
  },
  {
   "cell_type": "markdown",
   "metadata": {
    "ExecuteTime": {
     "end_time": "2020-10-06T11:43:40.836183Z",
     "start_time": "2020-10-06T11:43:40.832446Z"
    }
   },
   "source": [
    "**Load saved Dataset** \n",
    "\n",
    "To load a previously saved dataset, use the `QSARDatasetIO.load` function:"
   ]
  },
  {
   "cell_type": "code",
   "execution_count": 15,
   "metadata": {
    "ExecuteTime": {
     "end_time": "2021-01-16T19:27:16.323573Z",
     "start_time": "2021-01-16T19:27:16.321074Z"
    }
   },
   "outputs": [],
   "source": [
    "# QSARDatasetIO.load(dataset_name='OSM4',\n",
    "#                    activity_sheetname='activity',\n",
    "#                    smiles_column='Canonical_Smiles',\n",
    "#                    id_column='OSM_ID',\n",
    "#                    filepath='/mnt/data/OSM-S4/osm4_qsardataset_ecfp4.xls',\n",
    "#                    calculate_similarity=False)"
   ]
  },
  {
   "cell_type": "markdown",
   "metadata": {},
   "source": [
    "### radius = 4\n",
    "\n",
    "By increasing the radius, we let the fingerprint represent longer chains which **might** be desirable in a ML model."
   ]
  },
  {
   "cell_type": "code",
   "execution_count": 16,
   "metadata": {
    "ExecuteTime": {
     "end_time": "2021-01-16T19:28:11.503044Z",
     "start_time": "2021-01-16T19:27:16.325284Z"
    }
   },
   "outputs": [],
   "source": [
    "osm_morgan4_dataset = osm_dataset.build_qsar_dataset(type=\"morgan4\", calculate_similarity=False)"
   ]
  },
  {
   "cell_type": "markdown",
   "metadata": {
    "ExecuteTime": {
     "end_time": "2020-10-06T11:43:38.121070Z",
     "start_time": "2020-10-06T11:43:38.115125Z"
    }
   },
   "source": [
    "**Save Dataset**"
   ]
  },
  {
   "cell_type": "code",
   "execution_count": 17,
   "metadata": {
    "ExecuteTime": {
     "end_time": "2021-01-16T19:28:27.528109Z",
     "start_time": "2021-01-16T19:28:11.504927Z"
    }
   },
   "outputs": [],
   "source": [
    "QSARDatasetIO.write(osm_morgan2_dataset, filepath='../data/osm_qsar_dataset_morgan4.xlsx')"
   ]
  },
  {
   "cell_type": "markdown",
   "metadata": {},
   "source": [
    "# End\n",
    "\n",
    "That's it. This is how you generate and save features in a format that is easier to use with modSAR in the next notebooks."
   ]
  }
 ],
 "metadata": {
  "kernelspec": {
   "display_name": "Python 3",
   "language": "python",
   "name": "python3"
  },
  "language_info": {
   "codemirror_mode": {
    "name": "ipython",
    "version": 3
   },
   "file_extension": ".py",
   "mimetype": "text/x-python",
   "name": "python",
   "nbconvert_exporter": "python",
   "pygments_lexer": "ipython3",
   "version": "3.6.5"
  },
  "toc": {
   "nav_menu": {},
   "number_sections": true,
   "sideBar": true,
   "skip_h1_title": false,
   "title_cell": "Table of Contents",
   "title_sidebar": "Contents",
   "toc_cell": false,
   "toc_position": {
    "height": "calc(100% - 180px)",
    "left": "10px",
    "top": "150px",
    "width": "384px"
   },
   "toc_section_display": true,
   "toc_window_display": true
  }
 },
 "nbformat": 4,
 "nbformat_minor": 2
}
